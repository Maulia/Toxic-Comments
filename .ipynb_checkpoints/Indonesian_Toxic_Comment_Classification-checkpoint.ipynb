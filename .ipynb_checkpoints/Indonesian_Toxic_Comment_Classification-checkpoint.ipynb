{
 "cells": [
  {
   "cell_type": "markdown",
   "metadata": {
    "colab_type": "text",
    "id": "efschKwxqi4I"
   },
   "source": [
    "# Toxic Comments Classification"
   ]
  },
  {
   "cell_type": "markdown",
   "metadata": {
    "colab_type": "text",
    "id": "N1DgGE728SIB"
   },
   "source": [
    "## Data\n",
    "\n",
    "\n",
    "\n",
    "> Dataset berasal dari github ahmadizzan yang berisi komen berbahasa indonesia dari media sosial (instagram, kaskus, dan twitter) yang memiliki label pencemaran nama baik, SARA, pornografi, dan radikalisme. Datases berjumlah 6995 baris yang terdiri dari kolom original_text, source, pornografi, sara, radikalisme, dan pencemaran_nama_baik. \n",
    "\n",
    "\n",
    "\n",
    "\n",
    "> Sebelum dilakukan pemodelan, dataset dipersiapkan dengan melalui tahap preprocessing. Pada tahap preprocessing dilakukan beberapa hal berikut:\n",
    "1. change all to lowercase\n",
    "2. remove '\\\\\\n'\n",
    "3. remove newline\n",
    "4. remove url\n",
    "5. remove instagram and twitter formatting\n",
    "6. remove kaskus formatting\n",
    "7. translate emoticon\n",
    "8. tokenize text\n",
    "9. remove repeating characters\n",
    "10. transform slang words\n",
    "11. remove non alphabet\n",
    "11. remove excessive whitespace\n",
    "13. stopwords removal\n",
    "14. stemming\n"
   ]
  },
  {
   "cell_type": "code",
   "execution_count": 0,
   "metadata": {
    "colab": {
     "base_uri": "https://localhost:8080/",
     "height": 34
    },
    "colab_type": "code",
    "id": "cdO_dBOFnyXW",
    "outputId": "d0212980-df26-4b41-955e-f54b1e5846c7"
   },
   "outputs": [
    {
     "name": "stdout",
     "output_type": "stream",
     "text": [
      "Requirement already satisfied: sastrawi in /usr/local/lib/python3.6/dist-packages (1.0.1)\n"
     ]
    }
   ],
   "source": [
    "!pip3 install sastrawi"
   ]
  },
  {
   "cell_type": "code",
   "execution_count": 0,
   "metadata": {
    "colab": {
     "base_uri": "https://localhost:8080/",
     "height": 126
    },
    "colab_type": "code",
    "id": "Vo1JqtlQoccW",
    "outputId": "91e79328-77e3-4cca-ded4-52ada0d5d55e"
   },
   "outputs": [
    {
     "name": "stdout",
     "output_type": "stream",
     "text": [
      "Go to this URL in a browser: https://accounts.google.com/o/oauth2/auth?client_id=947318989803-6bn6qk8qdgf4n4g3pfee6491hc0brc4i.apps.googleusercontent.com&redirect_uri=urn%3Aietf%3Awg%3Aoauth%3A2.0%3Aoob&scope=email%20https%3A%2F%2Fwww.googleapis.com%2Fauth%2Fdocs.test%20https%3A%2F%2Fwww.googleapis.com%2Fauth%2Fdrive%20https%3A%2F%2Fwww.googleapis.com%2Fauth%2Fdrive.photos.readonly%20https%3A%2F%2Fwww.googleapis.com%2Fauth%2Fpeopleapi.readonly&response_type=code\n",
      "\n",
      "Enter your authorization code:\n",
      "··········\n",
      "Mounted at /content/drive\n"
     ]
    }
   ],
   "source": [
    "from google.colab import drive\n",
    "drive.mount('/content/drive')"
   ]
  },
  {
   "cell_type": "code",
   "execution_count": 0,
   "metadata": {
    "colab": {},
    "colab_type": "code",
    "id": "pHMN_ZW4jbu6"
   },
   "outputs": [],
   "source": [
    "import pandas as pd\n",
    "import re\n",
    "import string\n",
    "import csv\n",
    "import itertools\n",
    "from Sastrawi.Stemmer.StemmerFactory import StemmerFactory\n",
    "from nltk.tokenize import WordPunctTokenizer\n",
    "from sklearn.feature_extraction.text import TfidfVectorizer\n",
    "from sklearn.svm import LinearSVC\n",
    "from sklearn.calibration import CalibratedClassifierCV\n",
    "from sklearn.metrics import classification_report, confusion_matrix, accuracy_score\n",
    "from sklearn.pipeline import Pipeline\n",
    "import joblib\n",
    "from joblib import dump, load"
   ]
  },
  {
   "cell_type": "code",
   "execution_count": 0,
   "metadata": {
    "colab": {},
    "colab_type": "code",
    "id": "c03L1af4gOkM"
   },
   "outputs": [],
   "source": [
    "path = 'https://raw.githubusercontent.com/ahmadizzan/netifier/master/data/raw/train.csv'\n",
    "path1 = 'https://raw.githubusercontent.com/ahmadizzan/netifier/master/data/raw/test.csv'"
   ]
  },
  {
   "cell_type": "code",
   "execution_count": 0,
   "metadata": {
    "colab": {},
    "colab_type": "code",
    "id": "YPyr3FptjdjP"
   },
   "outputs": [],
   "source": [
    "df = pd.read_csv(path)\n",
    "df1 = pd.read_csv(path1)"
   ]
  },
  {
   "cell_type": "code",
   "execution_count": 0,
   "metadata": {
    "colab": {
     "base_uri": "https://localhost:8080/",
     "height": 189
    },
    "colab_type": "code",
    "id": "RdSnZWlBjf_7",
    "outputId": "01dd55f4-c645-4ac8-c9bf-411447c5eba7"
   },
   "outputs": [
    {
     "data": {
      "text/html": [
       "<div>\n",
       "<style scoped>\n",
       "    .dataframe tbody tr th:only-of-type {\n",
       "        vertical-align: middle;\n",
       "    }\n",
       "\n",
       "    .dataframe tbody tr th {\n",
       "        vertical-align: top;\n",
       "    }\n",
       "\n",
       "    .dataframe thead th {\n",
       "        text-align: right;\n",
       "    }\n",
       "</style>\n",
       "<table border=\"1\" class=\"dataframe\">\n",
       "  <thead>\n",
       "    <tr style=\"text-align: right;\">\n",
       "      <th></th>\n",
       "      <th>original_text</th>\n",
       "      <th>source</th>\n",
       "      <th>pornografi</th>\n",
       "      <th>sara</th>\n",
       "      <th>radikalisme</th>\n",
       "      <th>pencemaran_nama_baik</th>\n",
       "    </tr>\n",
       "  </thead>\n",
       "  <tbody>\n",
       "    <tr>\n",
       "      <th>0</th>\n",
       "      <td>[QUOTE=jessepinkman16;5a50ac34d89b093f368b456e...</td>\n",
       "      <td>kaskus</td>\n",
       "      <td>0</td>\n",
       "      <td>0</td>\n",
       "      <td>0</td>\n",
       "      <td>1</td>\n",
       "    </tr>\n",
       "    <tr>\n",
       "      <th>1</th>\n",
       "      <td>@verosvante kita2 aja nitizen yang pada kepo,t...</td>\n",
       "      <td>instagram</td>\n",
       "      <td>0</td>\n",
       "      <td>0</td>\n",
       "      <td>0</td>\n",
       "      <td>0</td>\n",
       "    </tr>\n",
       "    <tr>\n",
       "      <th>2</th>\n",
       "      <td>\"#SidangAhok smg sipenista agama n ateknya mat...</td>\n",
       "      <td>twitter</td>\n",
       "      <td>0</td>\n",
       "      <td>1</td>\n",
       "      <td>1</td>\n",
       "      <td>1</td>\n",
       "    </tr>\n",
       "    <tr>\n",
       "      <th>3</th>\n",
       "      <td>@bolususulembang.jkt barusan baca undang2 ini....</td>\n",
       "      <td>instagram</td>\n",
       "      <td>0</td>\n",
       "      <td>0</td>\n",
       "      <td>0</td>\n",
       "      <td>0</td>\n",
       "    </tr>\n",
       "    <tr>\n",
       "      <th>4</th>\n",
       "      <td>bikin anak mulu lu nof \\nkaga mikir apa kasian...</td>\n",
       "      <td>kaskus</td>\n",
       "      <td>0</td>\n",
       "      <td>0</td>\n",
       "      <td>0</td>\n",
       "      <td>0</td>\n",
       "    </tr>\n",
       "  </tbody>\n",
       "</table>\n",
       "</div>"
      ],
      "text/plain": [
       "                                       original_text  ... pencemaran_nama_baik\n",
       "0  [QUOTE=jessepinkman16;5a50ac34d89b093f368b456e...  ...                    1\n",
       "1  @verosvante kita2 aja nitizen yang pada kepo,t...  ...                    0\n",
       "2  \"#SidangAhok smg sipenista agama n ateknya mat...  ...                    1\n",
       "3  @bolususulembang.jkt barusan baca undang2 ini....  ...                    0\n",
       "4  bikin anak mulu lu nof \\nkaga mikir apa kasian...  ...                    0\n",
       "\n",
       "[5 rows x 6 columns]"
      ]
     },
     "execution_count": 6,
     "metadata": {
      "tags": []
     },
     "output_type": "execute_result"
    }
   ],
   "source": [
    "df.head()"
   ]
  },
  {
   "cell_type": "code",
   "execution_count": 0,
   "metadata": {
    "colab": {
     "base_uri": "https://localhost:8080/",
     "height": 189
    },
    "colab_type": "code",
    "id": "Z00H0T7IsjyM",
    "outputId": "eb1c5736-af0f-4a8b-9656-5e8ab2aefb63"
   },
   "outputs": [
    {
     "data": {
      "text/html": [
       "<div>\n",
       "<style scoped>\n",
       "    .dataframe tbody tr th:only-of-type {\n",
       "        vertical-align: middle;\n",
       "    }\n",
       "\n",
       "    .dataframe tbody tr th {\n",
       "        vertical-align: top;\n",
       "    }\n",
       "\n",
       "    .dataframe thead th {\n",
       "        text-align: right;\n",
       "    }\n",
       "</style>\n",
       "<table border=\"1\" class=\"dataframe\">\n",
       "  <thead>\n",
       "    <tr style=\"text-align: right;\">\n",
       "      <th></th>\n",
       "      <th>original_text</th>\n",
       "      <th>source</th>\n",
       "      <th>pornografi</th>\n",
       "      <th>sara</th>\n",
       "      <th>radikalisme</th>\n",
       "      <th>pencemaran_nama_baik</th>\n",
       "    </tr>\n",
       "  </thead>\n",
       "  <tbody>\n",
       "    <tr>\n",
       "      <th>0</th>\n",
       "      <td>1.BUKAN CM SPANDUK PROF,VIDEO2 ORASI MEREKA, B...</td>\n",
       "      <td>twitter</td>\n",
       "      <td>0</td>\n",
       "      <td>0</td>\n",
       "      <td>1</td>\n",
       "      <td>0</td>\n",
       "    </tr>\n",
       "    <tr>\n",
       "      <th>1</th>\n",
       "      <td>@memeqbeceq gy sange'gatel yh tetek'memekY drn...</td>\n",
       "      <td>twitter</td>\n",
       "      <td>1</td>\n",
       "      <td>0</td>\n",
       "      <td>0</td>\n",
       "      <td>0</td>\n",
       "    </tr>\n",
       "    <tr>\n",
       "      <th>2</th>\n",
       "      <td>Pertama kali denger lagunya enk bgt in dan png...</td>\n",
       "      <td>instagram</td>\n",
       "      <td>0</td>\n",
       "      <td>0</td>\n",
       "      <td>0</td>\n",
       "      <td>0</td>\n",
       "    </tr>\n",
       "    <tr>\n",
       "      <th>3</th>\n",
       "      <td>astajim, ini pasti yg kasih penghargaan ke ibu...</td>\n",
       "      <td>kaskus</td>\n",
       "      <td>0</td>\n",
       "      <td>0</td>\n",
       "      <td>0</td>\n",
       "      <td>0</td>\n",
       "    </tr>\n",
       "    <tr>\n",
       "      <th>4</th>\n",
       "      <td>beda kalo disini kalo komplain lgs di bully am...</td>\n",
       "      <td>kaskus</td>\n",
       "      <td>0</td>\n",
       "      <td>0</td>\n",
       "      <td>0</td>\n",
       "      <td>0</td>\n",
       "    </tr>\n",
       "  </tbody>\n",
       "</table>\n",
       "</div>"
      ],
      "text/plain": [
       "                                       original_text  ... pencemaran_nama_baik\n",
       "0  1.BUKAN CM SPANDUK PROF,VIDEO2 ORASI MEREKA, B...  ...                    0\n",
       "1  @memeqbeceq gy sange'gatel yh tetek'memekY drn...  ...                    0\n",
       "2  Pertama kali denger lagunya enk bgt in dan png...  ...                    0\n",
       "3  astajim, ini pasti yg kasih penghargaan ke ibu...  ...                    0\n",
       "4  beda kalo disini kalo komplain lgs di bully am...  ...                    0\n",
       "\n",
       "[5 rows x 6 columns]"
      ]
     },
     "execution_count": 7,
     "metadata": {
      "tags": []
     },
     "output_type": "execute_result"
    }
   ],
   "source": [
    "df1.head()"
   ]
  },
  {
   "cell_type": "code",
   "execution_count": 0,
   "metadata": {
    "colab": {
     "base_uri": "https://localhost:8080/",
     "height": 34
    },
    "colab_type": "code",
    "id": "jsLGXxjONbyy",
    "outputId": "3fd5d8d6-244b-4c91-c6a2-176a3041fc57"
   },
   "outputs": [
    {
     "data": {
      "text/plain": [
       "6995"
      ]
     },
     "execution_count": 8,
     "metadata": {
      "tags": []
     },
     "output_type": "execute_result"
    }
   ],
   "source": [
    "len(df)"
   ]
  },
  {
   "cell_type": "code",
   "execution_count": 0,
   "metadata": {
    "colab": {},
    "colab_type": "code",
    "id": "PG0K_TEXlBs2"
   },
   "outputs": [],
   "source": [
    "netral = df[(df['pornografi']==0) & (df['sara']==0) & (df['radikalisme']==0) & (df['pencemaran_nama_baik']==0)]"
   ]
  },
  {
   "cell_type": "code",
   "execution_count": 0,
   "metadata": {
    "colab": {
     "base_uri": "https://localhost:8080/",
     "height": 189
    },
    "colab_type": "code",
    "id": "nw_kERN-l2ja",
    "outputId": "2ffc4567-bf3d-4238-d292-1cdcd9d5b7af"
   },
   "outputs": [
    {
     "data": {
      "text/html": [
       "<div>\n",
       "<style scoped>\n",
       "    .dataframe tbody tr th:only-of-type {\n",
       "        vertical-align: middle;\n",
       "    }\n",
       "\n",
       "    .dataframe tbody tr th {\n",
       "        vertical-align: top;\n",
       "    }\n",
       "\n",
       "    .dataframe thead th {\n",
       "        text-align: right;\n",
       "    }\n",
       "</style>\n",
       "<table border=\"1\" class=\"dataframe\">\n",
       "  <thead>\n",
       "    <tr style=\"text-align: right;\">\n",
       "      <th></th>\n",
       "      <th>original_text</th>\n",
       "      <th>source</th>\n",
       "      <th>pornografi</th>\n",
       "      <th>sara</th>\n",
       "      <th>radikalisme</th>\n",
       "      <th>pencemaran_nama_baik</th>\n",
       "    </tr>\n",
       "  </thead>\n",
       "  <tbody>\n",
       "    <tr>\n",
       "      <th>1</th>\n",
       "      <td>@verosvante kita2 aja nitizen yang pada kepo,t...</td>\n",
       "      <td>instagram</td>\n",
       "      <td>0</td>\n",
       "      <td>0</td>\n",
       "      <td>0</td>\n",
       "      <td>0</td>\n",
       "    </tr>\n",
       "    <tr>\n",
       "      <th>3</th>\n",
       "      <td>@bolususulembang.jkt barusan baca undang2 ini....</td>\n",
       "      <td>instagram</td>\n",
       "      <td>0</td>\n",
       "      <td>0</td>\n",
       "      <td>0</td>\n",
       "      <td>0</td>\n",
       "    </tr>\n",
       "    <tr>\n",
       "      <th>4</th>\n",
       "      <td>bikin anak mulu lu nof \\nkaga mikir apa kasian...</td>\n",
       "      <td>kaskus</td>\n",
       "      <td>0</td>\n",
       "      <td>0</td>\n",
       "      <td>0</td>\n",
       "      <td>0</td>\n",
       "    </tr>\n",
       "    <tr>\n",
       "      <th>8</th>\n",
       "      <td>Mungkin akibat memakai gorden di pala menghamb...</td>\n",
       "      <td>kaskus</td>\n",
       "      <td>0</td>\n",
       "      <td>0</td>\n",
       "      <td>0</td>\n",
       "      <td>0</td>\n",
       "    </tr>\n",
       "    <tr>\n",
       "      <th>9</th>\n",
       "      <td>E kaka nona yg paling bodoh dan goblok Manokwa...</td>\n",
       "      <td>twitter</td>\n",
       "      <td>0</td>\n",
       "      <td>0</td>\n",
       "      <td>0</td>\n",
       "      <td>0</td>\n",
       "    </tr>\n",
       "  </tbody>\n",
       "</table>\n",
       "</div>"
      ],
      "text/plain": [
       "                                       original_text  ... pencemaran_nama_baik\n",
       "1  @verosvante kita2 aja nitizen yang pada kepo,t...  ...                    0\n",
       "3  @bolususulembang.jkt barusan baca undang2 ini....  ...                    0\n",
       "4  bikin anak mulu lu nof \\nkaga mikir apa kasian...  ...                    0\n",
       "8  Mungkin akibat memakai gorden di pala menghamb...  ...                    0\n",
       "9  E kaka nona yg paling bodoh dan goblok Manokwa...  ...                    0\n",
       "\n",
       "[5 rows x 6 columns]"
      ]
     },
     "execution_count": 10,
     "metadata": {
      "tags": []
     },
     "output_type": "execute_result"
    }
   ],
   "source": [
    "netral.head()"
   ]
  },
  {
   "cell_type": "code",
   "execution_count": 0,
   "metadata": {
    "colab": {
     "base_uri": "https://localhost:8080/",
     "height": 34
    },
    "colab_type": "code",
    "id": "ZLVtuht1oheU",
    "outputId": "372cce3a-ee24-4e33-bd3d-6d5151e0c65f"
   },
   "outputs": [
    {
     "data": {
      "text/plain": [
       "3066"
      ]
     },
     "execution_count": 11,
     "metadata": {
      "tags": []
     },
     "output_type": "execute_result"
    }
   ],
   "source": [
    "len(netral)"
   ]
  },
  {
   "cell_type": "code",
   "execution_count": 0,
   "metadata": {
    "colab": {},
    "colab_type": "code",
    "id": "Xy8N8OWYLzPC"
   },
   "outputs": [],
   "source": [
    "#Change all to lowercase\n",
    "def all_lower(text):\n",
    "    low = text.lower()\n",
    "    return low\n",
    "\n",
    "df['process'] = pd.DataFrame(df['original_text'].apply(all_lower))\n",
    "df1['process'] = pd.DataFrame(df1['original_text'].apply(all_lower))"
   ]
  },
  {
   "cell_type": "code",
   "execution_count": 0,
   "metadata": {
    "colab": {},
    "colab_type": "code",
    "id": "iQh29KLaMH_Z"
   },
   "outputs": [],
   "source": [
    "#Remove '\\\\n'\n",
    "def remove_n(text):\n",
    "    stri = '\\\\n'\n",
    "    n = text.replace(stri,'')\n",
    "    return n\n",
    "\n",
    "df['process'] = pd.DataFrame(df['process'].apply(remove_n))\n",
    "df1['process'] = pd.DataFrame(df1['process'].apply(remove_n))"
   ]
  },
  {
   "cell_type": "code",
   "execution_count": 0,
   "metadata": {
    "colab": {},
    "colab_type": "code",
    "id": "wY5uJE1MMO0O"
   },
   "outputs": [],
   "source": [
    "#Remove newline\n",
    "def remove_newline(text):\n",
    "    return re.sub('\\n', ' ',text)\n",
    "\n",
    "df['process'] = pd.DataFrame(df['process'].apply(remove_newline))\n",
    "df1['process'] = pd.DataFrame(df1['process'].apply(remove_newline))"
   ]
  },
  {
   "cell_type": "code",
   "execution_count": 0,
   "metadata": {
    "colab": {},
    "colab_type": "code",
    "id": "qQtBxeL_DnV-"
   },
   "outputs": [],
   "source": [
    "#Remove url\n",
    "def remove_url(text):\n",
    "    return re.sub('((www\\.[^\\s]+)|(https?://[^\\s]+)|(http?://[^\\s]+))', '', text)\n",
    "\n",
    "df['process'] = pd.DataFrame(df['process'].apply(remove_url))\n",
    "df1['process'] = pd.DataFrame(df1['process'].apply(remove_url))"
   ]
  },
  {
   "cell_type": "code",
   "execution_count": 0,
   "metadata": {
    "colab": {},
    "colab_type": "code",
    "id": "5ZgsGYqbD8G1"
   },
   "outputs": [],
   "source": [
    "#Remove instagram and twitter formatting\n",
    "def remove_twitter_ig_formatting(text):\n",
    "    text = re.sub(r'@[A-Za-z0-9]+', '', text)\n",
    "    text = re.sub(r'\\brt\\b', '', text)\n",
    "    return text\n",
    "\n",
    "df['process'] = pd.DataFrame(df['process'].apply(remove_twitter_ig_formatting))\n",
    "df1['process'] = pd.DataFrame(df1['process'].apply(remove_twitter_ig_formatting))"
   ]
  },
  {
   "cell_type": "code",
   "execution_count": 0,
   "metadata": {
    "colab": {},
    "colab_type": "code",
    "id": "MSpbmhLSGyka"
   },
   "outputs": [],
   "source": [
    "#Remove kaskus formatting\n",
    "def remove_kaskus_formatting(text):\n",
    "    text = re.sub('\\[', ' [', text)\n",
    "    text = re.sub('\\]', '] ', text)\n",
    "    text = re.sub('\\[quote[^ ]*\\].*?\\[\\/quote\\]', ' ', text)\n",
    "    text = re.sub('\\[[^ ]*\\]', ' ', text)\n",
    "    text = re.sub('&quot;', ' ', text)\n",
    "    return text\n",
    "\n",
    "df['process'] = pd.DataFrame(df['process'].apply(remove_kaskus_formatting))\n",
    "df1['process'] = pd.DataFrame(df1['process'].apply(remove_kaskus_formatting))"
   ]
  },
  {
   "cell_type": "code",
   "execution_count": 0,
   "metadata": {
    "colab": {},
    "colab_type": "code",
    "id": "7OBDrytoEd8K"
   },
   "outputs": [],
   "source": [
    "#Translate emoticon\n",
    "emoticon_data_path = 'emoticon.txt'\n",
    "emoticon_df = pd.read_csv(emoticon_data_path, sep='\\t', header=None)\n",
    "emoticon_dict = dict(zip(emoticon_df[0], emoticon_df[1]))\n",
    "\n",
    "def translate_emoticon(t):\n",
    "    for w, v in emoticon_dict.items():\n",
    "        pattern = re.compile(re.escape(w))\n",
    "        match = re.search(pattern,t)\n",
    "        if match:\n",
    "            t = re.sub(pattern,v,t)\n",
    "    return t\n",
    "\n",
    "df['process'] = pd.DataFrame(df['process'].apply(translate_emoticon))\n",
    "df1['process'] = pd.DataFrame(df1['process'].apply(translate_emoticon))"
   ]
  },
  {
   "cell_type": "code",
   "execution_count": 0,
   "metadata": {
    "colab": {},
    "colab_type": "code",
    "id": "-MLGS92ZEsdb"
   },
   "outputs": [],
   "source": [
    "#Tokenize text\n",
    "def tokenize_text(text, punct=False):\n",
    "    text = WordPunctTokenizer().tokenize(text)\n",
    "    text = [word for word in text if punct or word.isalnum()]\n",
    "    text = ' '.join(text)\n",
    "    text = text.strip()\n",
    "    return text\n",
    "\n",
    "df['process'] = pd.DataFrame(df['process'].apply(tokenize_text))\n",
    "df1['process'] = pd.DataFrame(df1['process'].apply(tokenize_text))"
   ]
  },
  {
   "cell_type": "code",
   "execution_count": 0,
   "metadata": {
    "colab": {},
    "colab_type": "code",
    "id": "ezLnm8c7FJuU"
   },
   "outputs": [],
   "source": [
    "#Remove repeating characters\n",
    "def remove_repeating_characters(text):\n",
    "    return ''.join(''.join(s)[:1] for _, s in itertools.groupby(text))\n",
    "\n",
    "df['process'] = pd.DataFrame(df['process'].apply(tokenize_text))\n",
    "df1['process'] = pd.DataFrame(df1['process'].apply(tokenize_text))"
   ]
  },
  {
   "cell_type": "code",
   "execution_count": 0,
   "metadata": {
    "colab": {},
    "colab_type": "code",
    "id": "hi9bl6kvFWxa"
   },
   "outputs": [],
   "source": [
    "#Transform slang words\n",
    "slang_words = pd.read_csv('slangword.csv')\n",
    "slang_dict = dict(zip(slang_words['original'],slang_words['translated']))\n",
    "\n",
    "def transform_slang_words(text):\n",
    "    word_list = text.split()\n",
    "    word_list_len = len(word_list)\n",
    "    transformed_word_list = []\n",
    "    i = 0\n",
    "    while i < word_list_len:\n",
    "        if (i + 1) < word_list_len:\n",
    "            two_words = ' '.join(word_list[i:i+2])\n",
    "            if two_words in slang_dict:\n",
    "                transformed_word_list.append(slang_dict[two_words])\n",
    "                i += 2\n",
    "                continue\n",
    "        transformed_word_list.append(slang_dict.get(word_list[i], word_list[i]))\n",
    "        i += 1\n",
    "    return ' '.join(transformed_word_list)\n",
    "  \n",
    "df['process'] = pd.DataFrame(df['process'].apply(transform_slang_words))\n",
    "df1['process'] = pd.DataFrame(df1['process'].apply(transform_slang_words))"
   ]
  },
  {
   "cell_type": "code",
   "execution_count": 0,
   "metadata": {
    "colab": {},
    "colab_type": "code",
    "id": "gmAnlZArFkrV"
   },
   "outputs": [],
   "source": [
    "#Remove_non_alphabet\n",
    "def remove_non_alphabet(text):\n",
    "    output = re.sub('[^a-zA-Z ]+', '', text)\n",
    "    return output\n",
    "\n",
    "df['process'] = pd.DataFrame(df['process'].apply(remove_non_alphabet))\n",
    "df1['process'] = pd.DataFrame(df1['process'].apply(remove_non_alphabet))"
   ]
  },
  {
   "cell_type": "code",
   "execution_count": 0,
   "metadata": {
    "colab": {},
    "colab_type": "code",
    "id": "Hh6IUGJQGTd4"
   },
   "outputs": [],
   "source": [
    "#Remove_excessive_whitespace\n",
    "def remove_excessive_whitespace(text):\n",
    "    return re.sub('  +', ' ', text)\n",
    "\n",
    "df['process'] = pd.DataFrame(df['process'].apply(remove_excessive_whitespace))\n",
    "df1['process'] = pd.DataFrame(df1['process'].apply(remove_excessive_whitespace))"
   ]
  },
  {
   "cell_type": "code",
   "execution_count": 0,
   "metadata": {
    "colab": {
     "base_uri": "https://localhost:8080/",
     "height": 121
    },
    "colab_type": "code",
    "id": "AEO6BYZTMqFH",
    "outputId": "3cd45e73-786f-41c5-faea-21ff38b754ee"
   },
   "outputs": [
    {
     "data": {
      "text/plain": [
       "0     quote jessepinkman aacdbfbe jabar emng propin...\n",
       "1     verosvante kita aja nitizen yang pada kepo to...\n",
       "2      sidangahok smg sipenista agama n ateknya mat...\n",
       "3     bolususulembang jkt barusan baca undang ini  ...\n",
       "4    bikin anak mulu lu nof kaga mikir apa kasian a...\n",
       "Name: process, dtype: object"
      ]
     },
     "execution_count": 39,
     "metadata": {
      "tags": []
     },
     "output_type": "execute_result"
    }
   ],
   "source": [
    "df['process'].head()"
   ]
  },
  {
   "cell_type": "code",
   "execution_count": 0,
   "metadata": {
    "colab": {
     "base_uri": "https://localhost:8080/",
     "height": 220
    },
    "colab_type": "code",
    "id": "qL8ugQ-3MtTV",
    "outputId": "0a9e9945-4b01-4b4a-9939-53a34ef308fe"
   },
   "outputs": [
    {
     "data": {
      "text/html": [
       "<div>\n",
       "<style scoped>\n",
       "    .dataframe tbody tr th:only-of-type {\n",
       "        vertical-align: middle;\n",
       "    }\n",
       "\n",
       "    .dataframe tbody tr th {\n",
       "        vertical-align: top;\n",
       "    }\n",
       "\n",
       "    .dataframe thead th {\n",
       "        text-align: right;\n",
       "    }\n",
       "</style>\n",
       "<table border=\"1\" class=\"dataframe\">\n",
       "  <thead>\n",
       "    <tr style=\"text-align: right;\">\n",
       "      <th></th>\n",
       "      <th>original_text</th>\n",
       "      <th>source</th>\n",
       "      <th>pornografi</th>\n",
       "      <th>sara</th>\n",
       "      <th>radikalisme</th>\n",
       "      <th>pencemaran_nama_baik</th>\n",
       "      <th>process</th>\n",
       "    </tr>\n",
       "  </thead>\n",
       "  <tbody>\n",
       "    <tr>\n",
       "      <th>0</th>\n",
       "      <td>[QUOTE=jessepinkman16;5a50ac34d89b093f368b456e...</td>\n",
       "      <td>kaskus</td>\n",
       "      <td>0</td>\n",
       "      <td>0</td>\n",
       "      <td>0</td>\n",
       "      <td>1</td>\n",
       "      <td>quote jessepinkman aacdbfbe jabar emng propin...</td>\n",
       "    </tr>\n",
       "    <tr>\n",
       "      <th>1</th>\n",
       "      <td>@verosvante kita2 aja nitizen yang pada kepo,t...</td>\n",
       "      <td>instagram</td>\n",
       "      <td>0</td>\n",
       "      <td>0</td>\n",
       "      <td>0</td>\n",
       "      <td>0</td>\n",
       "      <td>verosvante kita aja nitizen yang pada kepo to...</td>\n",
       "    </tr>\n",
       "    <tr>\n",
       "      <th>2</th>\n",
       "      <td>\"#SidangAhok smg sipenista agama n ateknya mat...</td>\n",
       "      <td>twitter</td>\n",
       "      <td>0</td>\n",
       "      <td>1</td>\n",
       "      <td>1</td>\n",
       "      <td>1</td>\n",
       "      <td>sidangahok smg sipenista agama n ateknya mat...</td>\n",
       "    </tr>\n",
       "    <tr>\n",
       "      <th>3</th>\n",
       "      <td>@bolususulembang.jkt barusan baca undang2 ini....</td>\n",
       "      <td>instagram</td>\n",
       "      <td>0</td>\n",
       "      <td>0</td>\n",
       "      <td>0</td>\n",
       "      <td>0</td>\n",
       "      <td>bolususulembang jkt barusan baca undang ini  ...</td>\n",
       "    </tr>\n",
       "    <tr>\n",
       "      <th>4</th>\n",
       "      <td>bikin anak mulu lu nof \\nkaga mikir apa kasian...</td>\n",
       "      <td>kaskus</td>\n",
       "      <td>0</td>\n",
       "      <td>0</td>\n",
       "      <td>0</td>\n",
       "      <td>0</td>\n",
       "      <td>bikin anak mulu lu nof kaga mikir apa kasian a...</td>\n",
       "    </tr>\n",
       "  </tbody>\n",
       "</table>\n",
       "</div>"
      ],
      "text/plain": [
       "                                       original_text  ...                                            process\n",
       "0  [QUOTE=jessepinkman16;5a50ac34d89b093f368b456e...  ...   quote jessepinkman aacdbfbe jabar emng propin...\n",
       "1  @verosvante kita2 aja nitizen yang pada kepo,t...  ...   verosvante kita aja nitizen yang pada kepo to...\n",
       "2  \"#SidangAhok smg sipenista agama n ateknya mat...  ...    sidangahok smg sipenista agama n ateknya mat...\n",
       "3  @bolususulembang.jkt barusan baca undang2 ini....  ...   bolususulembang jkt barusan baca undang ini  ...\n",
       "4  bikin anak mulu lu nof \\nkaga mikir apa kasian...  ...  bikin anak mulu lu nof kaga mikir apa kasian a...\n",
       "\n",
       "[5 rows x 7 columns]"
      ]
     },
     "execution_count": 40,
     "metadata": {
      "tags": []
     },
     "output_type": "execute_result"
    }
   ],
   "source": [
    "df.head()"
   ]
  },
  {
   "cell_type": "code",
   "execution_count": 0,
   "metadata": {
    "colab": {},
    "colab_type": "code",
    "id": "V7PY9RsMM1Au"
   },
   "outputs": [],
   "source": [
    "#Stopwords removal dan Stemming\n",
    "def stop(text):    \n",
    "    return (' '.join([word for word in text.split() if word not in (stoplist)]))\n",
    "\n",
    "def stem(text):\n",
    "    return stemmer.stem(text)\n",
    "\n",
    "stoplist = []\n",
    "with open('/content/drive/My Drive/stopwordbahasa.csv', 'r') as csvfile:\n",
    "    reader = csv.reader(csvfile)\n",
    "    for line in reader:\n",
    "        word = ', '.join(line)\n",
    "        stoplist.append(word)\n",
    "\n",
    "factory = StemmerFactory()\n",
    "stemmer = factory.create_stemmer()\n",
    "\n",
    "df['stop'] = pd.DataFrame(df.process.apply(stop))\n",
    "df['stem'] = pd.DataFrame(df.stop.apply(stem))\n",
    "df1['stop'] = pd.DataFrame(df1.process.apply(stop))\n",
    "df1['stem'] = pd.DataFrame(df1.stop.apply(stem))"
   ]
  },
  {
   "cell_type": "code",
   "execution_count": 0,
   "metadata": {
    "colab": {
     "base_uri": "https://localhost:8080/",
     "height": 37
    },
    "colab_type": "code",
    "id": "QVbkX0Pft2CX",
    "outputId": "b9ad3420-0576-4c8b-dedd-e3707d461f72"
   },
   "outputs": [
    {
     "name": "stdout",
     "output_type": "stream",
     "text": [
      "                                       original_text  ...                                               stem\n",
      "0  [QUOTE=jessepinkman16;5a50ac34d89b093f368b456e...  ...  quote jessepinkman aacdbfbe jabar emng propins...\n",
      "1  @verosvante kita2 aja nitizen yang pada kepo,t...  ...  verosvante aja nitizen kepo keluarga udh tau s...\n",
      "2  \"#SidangAhok smg sipenista agama n ateknya mat...  ...  sidangahok smg sipenista agama n ateknya mati ...\n",
      "3  @bolususulembang.jkt barusan baca undang2 ini....  ...  bolususulembang jkt barusan baca undang tetep ...\n",
      "4  bikin anak mulu lu nof \\nkaga mikir apa kasian...  ...  bikin anak mulu lu nof kaga mikir kasi anak lu...\n",
      "\n",
      "[5 rows x 9 columns]\n"
     ]
    }
   ],
   "source": [
    "print(df.head())"
   ]
  },
  {
   "cell_type": "code",
   "execution_count": 0,
   "metadata": {
    "colab": {},
    "colab_type": "code",
    "id": "Nnerj2Nctxoe"
   },
   "outputs": [],
   "source": [
    "df.to_csv('/content/drive/My Drive/train_stem.csv')"
   ]
  },
  {
   "cell_type": "code",
   "execution_count": 0,
   "metadata": {
    "colab": {},
    "colab_type": "code",
    "id": "E1TFHKrWoZGn"
   },
   "outputs": [],
   "source": [
    "df1.to_csv('/content/drive/My Drive/test_stem.csv')"
   ]
  },
  {
   "cell_type": "code",
   "execution_count": 0,
   "metadata": {
    "colab": {
     "base_uri": "https://localhost:8080/",
     "height": 496
    },
    "colab_type": "code",
    "id": "NGrL4JHGP2lz",
    "outputId": "9fc99eac-c909-4de6-819d-582e63cd263e"
   },
   "outputs": [
    {
     "data": {
      "image/png": "[encoded data removed]",
      "text/plain": [
       "<Figure size 1152x864 with 1 Axes>"
      ]
     },
     "metadata": {
      "tags": []
     },
     "output_type": "display_data"
    }
   ],
   "source": [
    "from wordcloud import WordCloud\n",
    "import matplotlib.pyplot as plt\n",
    "\n",
    "df = pd.read_csv('/content/drive/My Drive/train_stem.csv')\n",
    "toxic = df[(df['pornografi']==1) | (df['sara']==1) | (df['radikalisme']==1) | (df['pencemaran_nama_baik']==1)]\n",
    "toxic.head()\n",
    "normalized = \" \".join(toxic['stem'])\n",
    "wordcloud = WordCloud(max_font_size=60).generate(normalized)\n",
    "plt.figure(figsize=(16,12))\n",
    "\n",
    "'''plot wordcloud in matplotlib'''\n",
    "\n",
    "plt.imshow(wordcloud, interpolation=\"bilinear\")\n",
    "plt.axis(\"off\")\n",
    "plt.show()"
   ]
  },
  {
   "cell_type": "markdown",
   "metadata": {
    "colab_type": "text",
    "id": "IreooWdEJ8w9"
   },
   "source": [
    "## Model Pencemaran Nama Baik"
   ]
  },
  {
   "cell_type": "code",
   "execution_count": 0,
   "metadata": {
    "colab": {},
    "colab_type": "code",
    "id": "TTRYSGnfKRhe"
   },
   "outputs": [],
   "source": [
    "pencemaran = df[(df['sara']==0) & (df['pornografi']==0) & (df['radikalisme']==0) & (df['pencemaran_nama_baik']==1)]"
   ]
  },
  {
   "cell_type": "code",
   "execution_count": 0,
   "metadata": {
    "colab": {
     "base_uri": "https://localhost:8080/",
     "height": 411
    },
    "colab_type": "code",
    "id": "vUfEvE0qKRkS",
    "outputId": "15e72bc1-0826-440f-f952-b427ba023c07"
   },
   "outputs": [
    {
     "data": {
      "text/html": [
       "<div>\n",
       "<style scoped>\n",
       "    .dataframe tbody tr th:only-of-type {\n",
       "        vertical-align: middle;\n",
       "    }\n",
       "\n",
       "    .dataframe tbody tr th {\n",
       "        vertical-align: top;\n",
       "    }\n",
       "\n",
       "    .dataframe thead th {\n",
       "        text-align: right;\n",
       "    }\n",
       "</style>\n",
       "<table border=\"1\" class=\"dataframe\">\n",
       "  <thead>\n",
       "    <tr style=\"text-align: right;\">\n",
       "      <th></th>\n",
       "      <th>original_text</th>\n",
       "      <th>source</th>\n",
       "      <th>pornografi</th>\n",
       "      <th>sara</th>\n",
       "      <th>radikalisme</th>\n",
       "      <th>pencemaran_nama_baik</th>\n",
       "      <th>processed_text</th>\n",
       "    </tr>\n",
       "  </thead>\n",
       "  <tbody>\n",
       "    <tr>\n",
       "      <th>0</th>\n",
       "      <td>[QUOTE=jessepinkman16;5a50ac34d89b093f368b456e...</td>\n",
       "      <td>kaskus</td>\n",
       "      <td>0</td>\n",
       "      <td>0</td>\n",
       "      <td>0</td>\n",
       "      <td>1</td>\n",
       "      <td>jabar memang provinsi barokah boleh juga dan n...</td>\n",
       "    </tr>\n",
       "    <tr>\n",
       "      <th>15</th>\n",
       "      <td>[quote=ndalemniti;5a755c10d89b09a62f8b4568]Sud...</td>\n",
       "      <td>kaskus</td>\n",
       "      <td>0</td>\n",
       "      <td>0</td>\n",
       "      <td>0</td>\n",
       "      <td>1</td>\n",
       "      <td>dan dan nah muncul bani bodoh nmaksud hati ing...</td>\n",
       "    </tr>\n",
       "    <tr>\n",
       "      <th>16</th>\n",
       "      <td>[QUOTE=nexflon;5a9380f9dbd770f0228b4567]\\nlu m...</td>\n",
       "      <td>kaskus</td>\n",
       "      <td>0</td>\n",
       "      <td>0</td>\n",
       "      <td>0</td>\n",
       "      <td>1</td>\n",
       "      <td>nlu mau bilang sultan jogja parasit begitu kar...</td>\n",
       "    </tr>\n",
       "    <tr>\n",
       "      <th>22</th>\n",
       "      <td>Serang terus taaaaakkk, kalo ga nanti kalian g...</td>\n",
       "      <td>kaskus</td>\n",
       "      <td>0</td>\n",
       "      <td>0</td>\n",
       "      <td>0</td>\n",
       "      <td>1</td>\n",
       "      <td>serang terus tidak kalau tidak nanti kalian ti...</td>\n",
       "    </tr>\n",
       "    <tr>\n",
       "      <th>29</th>\n",
       "      <td>Pantek induak laki amak ang dek ang, jadi ment...</td>\n",
       "      <td>kaskus</td>\n",
       "      <td>0</td>\n",
       "      <td>0</td>\n",
       "      <td>0</td>\n",
       "      <td>1</td>\n",
       "      <td>pantek induak laki amak ang adik ang jadi ment...</td>\n",
       "    </tr>\n",
       "  </tbody>\n",
       "</table>\n",
       "</div>"
      ],
      "text/plain": [
       "                                        original_text  ...                                     processed_text\n",
       "0   [QUOTE=jessepinkman16;5a50ac34d89b093f368b456e...  ...  jabar memang provinsi barokah boleh juga dan n...\n",
       "15  [quote=ndalemniti;5a755c10d89b09a62f8b4568]Sud...  ...  dan dan nah muncul bani bodoh nmaksud hati ing...\n",
       "16  [QUOTE=nexflon;5a9380f9dbd770f0228b4567]\\nlu m...  ...  nlu mau bilang sultan jogja parasit begitu kar...\n",
       "22  Serang terus taaaaakkk, kalo ga nanti kalian g...  ...  serang terus tidak kalau tidak nanti kalian ti...\n",
       "29  Pantek induak laki amak ang dek ang, jadi ment...  ...  pantek induak laki amak ang adik ang jadi ment...\n",
       "\n",
       "[5 rows x 7 columns]"
      ]
     },
     "execution_count": 12,
     "metadata": {
      "tags": []
     },
     "output_type": "execute_result"
    }
   ],
   "source": [
    "pencemaran.head()"
   ]
  },
  {
   "cell_type": "code",
   "execution_count": 0,
   "metadata": {
    "colab": {
     "base_uri": "https://localhost:8080/",
     "height": 34
    },
    "colab_type": "code",
    "id": "d1T8N92TKRuz",
    "outputId": "8da68385-ef70-4f5c-bd4f-996e6ff143d4"
   },
   "outputs": [
    {
     "data": {
      "text/plain": [
       "755"
      ]
     },
     "execution_count": 13,
     "metadata": {
      "tags": []
     },
     "output_type": "execute_result"
    }
   ],
   "source": [
    "len(pencemaran)"
   ]
  },
  {
   "cell_type": "code",
   "execution_count": 0,
   "metadata": {
    "colab": {},
    "colab_type": "code",
    "id": "nVoU8Q-MXvS8"
   },
   "outputs": [],
   "source": [
    "pencemaran = pencemaran[['processed_text', 'pencemaran_nama_baik']].rename(columns={'pencemaran_nama_baik':'label'})"
   ]
  },
  {
   "cell_type": "code",
   "execution_count": 0,
   "metadata": {
    "colab": {
     "base_uri": "https://localhost:8080/",
     "height": 204
    },
    "colab_type": "code",
    "id": "wJqnQv6JYyK1",
    "outputId": "1def5cb6-3769-44a5-b3c3-c61615231c1e"
   },
   "outputs": [
    {
     "data": {
      "text/html": [
       "<div>\n",
       "<style scoped>\n",
       "    .dataframe tbody tr th:only-of-type {\n",
       "        vertical-align: middle;\n",
       "    }\n",
       "\n",
       "    .dataframe tbody tr th {\n",
       "        vertical-align: top;\n",
       "    }\n",
       "\n",
       "    .dataframe thead th {\n",
       "        text-align: right;\n",
       "    }\n",
       "</style>\n",
       "<table border=\"1\" class=\"dataframe\">\n",
       "  <thead>\n",
       "    <tr style=\"text-align: right;\">\n",
       "      <th></th>\n",
       "      <th>processed_text</th>\n",
       "      <th>label</th>\n",
       "    </tr>\n",
       "  </thead>\n",
       "  <tbody>\n",
       "    <tr>\n",
       "      <th>0</th>\n",
       "      <td>jabar memang provinsi barokah boleh juga dan n...</td>\n",
       "      <td>1</td>\n",
       "    </tr>\n",
       "    <tr>\n",
       "      <th>15</th>\n",
       "      <td>dan dan nah muncul bani bodoh nmaksud hati ing...</td>\n",
       "      <td>1</td>\n",
       "    </tr>\n",
       "    <tr>\n",
       "      <th>16</th>\n",
       "      <td>nlu mau bilang sultan jogja parasit begitu kar...</td>\n",
       "      <td>1</td>\n",
       "    </tr>\n",
       "    <tr>\n",
       "      <th>22</th>\n",
       "      <td>serang terus tidak kalau tidak nanti kalian ti...</td>\n",
       "      <td>1</td>\n",
       "    </tr>\n",
       "    <tr>\n",
       "      <th>29</th>\n",
       "      <td>pantek induak laki amak ang adik ang jadi ment...</td>\n",
       "      <td>1</td>\n",
       "    </tr>\n",
       "  </tbody>\n",
       "</table>\n",
       "</div>"
      ],
      "text/plain": [
       "                                       processed_text  label\n",
       "0   jabar memang provinsi barokah boleh juga dan n...      1\n",
       "15  dan dan nah muncul bani bodoh nmaksud hati ing...      1\n",
       "16  nlu mau bilang sultan jogja parasit begitu kar...      1\n",
       "22  serang terus tidak kalau tidak nanti kalian ti...      1\n",
       "29  pantek induak laki amak ang adik ang jadi ment...      1"
      ]
     },
     "execution_count": 15,
     "metadata": {
      "tags": []
     },
     "output_type": "execute_result"
    }
   ],
   "source": [
    "pencemaran.head()"
   ]
  },
  {
   "cell_type": "code",
   "execution_count": 0,
   "metadata": {
    "colab": {},
    "colab_type": "code",
    "id": "goLj0BWFKRz9"
   },
   "outputs": [],
   "source": [
    "netral = netral[['processed_text']]\n",
    "netral['label'] = 0"
   ]
  },
  {
   "cell_type": "code",
   "execution_count": 0,
   "metadata": {
    "colab": {
     "base_uri": "https://localhost:8080/",
     "height": 204
    },
    "colab_type": "code",
    "id": "YezBdm8_ZMUu",
    "outputId": "e23a421c-36d5-441f-fa1a-0acd3c5d546b"
   },
   "outputs": [
    {
     "data": {
      "text/html": [
       "<div>\n",
       "<style scoped>\n",
       "    .dataframe tbody tr th:only-of-type {\n",
       "        vertical-align: middle;\n",
       "    }\n",
       "\n",
       "    .dataframe tbody tr th {\n",
       "        vertical-align: top;\n",
       "    }\n",
       "\n",
       "    .dataframe thead th {\n",
       "        text-align: right;\n",
       "    }\n",
       "</style>\n",
       "<table border=\"1\" class=\"dataframe\">\n",
       "  <thead>\n",
       "    <tr style=\"text-align: right;\">\n",
       "      <th></th>\n",
       "      <th>processed_text</th>\n",
       "      <th>label</th>\n",
       "    </tr>\n",
       "  </thead>\n",
       "  <tbody>\n",
       "    <tr>\n",
       "      <th>1</th>\n",
       "      <td>kita saja nitizen yang pada penasaran toh kelu...</td>\n",
       "      <td>0</td>\n",
       "    </tr>\n",
       "    <tr>\n",
       "      <th>3</th>\n",
       "      <td>jakarta barusan baca undang ini tetap dibedaka...</td>\n",
       "      <td>0</td>\n",
       "    </tr>\n",
       "    <tr>\n",
       "      <th>4</th>\n",
       "      <td>buat anak melulu kamu nof nkaga mikir apa kasi...</td>\n",
       "      <td>0</td>\n",
       "    </tr>\n",
       "    <tr>\n",
       "      <th>8</th>\n",
       "      <td>mungkin akibat memakai gorden di kepala mengha...</td>\n",
       "      <td>0</td>\n",
       "    </tr>\n",
       "    <tr>\n",
       "      <th>9</th>\n",
       "      <td>e kakak nona yang paling bodoh dan bodoh manok...</td>\n",
       "      <td>0</td>\n",
       "    </tr>\n",
       "  </tbody>\n",
       "</table>\n",
       "</div>"
      ],
      "text/plain": [
       "                                      processed_text  label\n",
       "1  kita saja nitizen yang pada penasaran toh kelu...      0\n",
       "3  jakarta barusan baca undang ini tetap dibedaka...      0\n",
       "4  buat anak melulu kamu nof nkaga mikir apa kasi...      0\n",
       "8  mungkin akibat memakai gorden di kepala mengha...      0\n",
       "9  e kakak nona yang paling bodoh dan bodoh manok...      0"
      ]
     },
     "execution_count": 17,
     "metadata": {
      "tags": []
     },
     "output_type": "execute_result"
    }
   ],
   "source": [
    "netral.head()"
   ]
  },
  {
   "cell_type": "code",
   "execution_count": 0,
   "metadata": {
    "colab": {},
    "colab_type": "code",
    "id": "6mkjLGQuaHif"
   },
   "outputs": [],
   "source": [
    "netral_1000 = netral.sample(1000)"
   ]
  },
  {
   "cell_type": "code",
   "execution_count": 0,
   "metadata": {
    "colab": {},
    "colab_type": "code",
    "id": "QLOHZPS_ZuT8"
   },
   "outputs": [],
   "source": [
    "data = pd.concat([pencemaran, netral_1000], ignore_index=True)"
   ]
  },
  {
   "cell_type": "code",
   "execution_count": 0,
   "metadata": {
    "colab": {
     "base_uri": "https://localhost:8080/",
     "height": 204
    },
    "colab_type": "code",
    "id": "LVXuOi7GaAiL",
    "outputId": "3a640c72-39c7-42fe-9cb4-a0b6e06382d5"
   },
   "outputs": [
    {
     "data": {
      "text/html": [
       "<div>\n",
       "<style scoped>\n",
       "    .dataframe tbody tr th:only-of-type {\n",
       "        vertical-align: middle;\n",
       "    }\n",
       "\n",
       "    .dataframe tbody tr th {\n",
       "        vertical-align: top;\n",
       "    }\n",
       "\n",
       "    .dataframe thead th {\n",
       "        text-align: right;\n",
       "    }\n",
       "</style>\n",
       "<table border=\"1\" class=\"dataframe\">\n",
       "  <thead>\n",
       "    <tr style=\"text-align: right;\">\n",
       "      <th></th>\n",
       "      <th>processed_text</th>\n",
       "      <th>label</th>\n",
       "    </tr>\n",
       "  </thead>\n",
       "  <tbody>\n",
       "    <tr>\n",
       "      <th>0</th>\n",
       "      <td>jabar memang provinsi barokah boleh juga dan n...</td>\n",
       "      <td>1</td>\n",
       "    </tr>\n",
       "    <tr>\n",
       "      <th>1</th>\n",
       "      <td>dan dan nah muncul bani bodoh nmaksud hati ing...</td>\n",
       "      <td>1</td>\n",
       "    </tr>\n",
       "    <tr>\n",
       "      <th>2</th>\n",
       "      <td>nlu mau bilang sultan jogja parasit begitu kar...</td>\n",
       "      <td>1</td>\n",
       "    </tr>\n",
       "    <tr>\n",
       "      <th>3</th>\n",
       "      <td>serang terus tidak kalau tidak nanti kalian ti...</td>\n",
       "      <td>1</td>\n",
       "    </tr>\n",
       "    <tr>\n",
       "      <th>4</th>\n",
       "      <td>pantek induak laki amak ang adik ang jadi ment...</td>\n",
       "      <td>1</td>\n",
       "    </tr>\n",
       "  </tbody>\n",
       "</table>\n",
       "</div>"
      ],
      "text/plain": [
       "                                      processed_text  label\n",
       "0  jabar memang provinsi barokah boleh juga dan n...      1\n",
       "1  dan dan nah muncul bani bodoh nmaksud hati ing...      1\n",
       "2  nlu mau bilang sultan jogja parasit begitu kar...      1\n",
       "3  serang terus tidak kalau tidak nanti kalian ti...      1\n",
       "4  pantek induak laki amak ang adik ang jadi ment...      1"
      ]
     },
     "execution_count": 20,
     "metadata": {
      "tags": []
     },
     "output_type": "execute_result"
    }
   ],
   "source": [
    "data.head()"
   ]
  },
  {
   "cell_type": "code",
   "execution_count": 0,
   "metadata": {
    "colab": {
     "base_uri": "https://localhost:8080/",
     "height": 54
    },
    "colab_type": "code",
    "id": "BQZrrOajCgI-",
    "outputId": "80d4968b-3e37-44ba-c2a8-0b1605cddce1"
   },
   "outputs": [
    {
     "data": {
      "text/plain": [
       "'dan dan nah muncul bani bodoh nmaksud hati ingin klihatan pinter bahkan pamer kegoblokan dan tertawa dan dan nmaksud ketuhanan yang maha esa benar aturan tuhan yang dijunjung npertanyanya tuhan yang mana iya jelas tuhan yang di adaptasi di beberapa agama yang diakui dong nlah dari sekian banyak agama yang diakui di indonesia termasuk aliran kepercayan baru baru ini memang kamu yakin semua mengharuskan diskriminasi lgbt nya agama kamu saja yang salah kodrat agama lain belum tentu ninget ketuhanan yang maha esa bukan ketuhanan yang maha ika jadi jangan bawa agama kamu yang suka ngebunuh itu di sini bahkan keluar topik dan npamer kegoblokan tertawa nudah balik ke jamban lagi malas nangepin lagi kaum seperti kamu'"
      ]
     },
     "execution_count": 35,
     "metadata": {
      "tags": []
     },
     "output_type": "execute_result"
    }
   ],
   "source": [
    "data['processed_text'][1]"
   ]
  },
  {
   "cell_type": "code",
   "execution_count": 0,
   "metadata": {
    "colab": {
     "base_uri": "https://localhost:8080/",
     "height": 34
    },
    "colab_type": "code",
    "id": "zgJkf7pbarLS",
    "outputId": "a68a5b62-dd2d-49e9-e632-8c022556b303"
   },
   "outputs": [
    {
     "data": {
      "text/plain": [
       "1755"
      ]
     },
     "execution_count": 21,
     "metadata": {
      "tags": []
     },
     "output_type": "execute_result"
    }
   ],
   "source": [
    "len(data)"
   ]
  },
  {
   "cell_type": "code",
   "execution_count": 0,
   "metadata": {
    "colab": {},
    "colab_type": "code",
    "id": "boV5tydFKR3W"
   },
   "outputs": [],
   "source": [
    "def split_dataset(data, test_size=0.2):\n",
    "    # Split negatif and positive\n",
    "    positive = data[data['label']==1]\n",
    "    negative = data[data['label']==0]\n",
    "    \n",
    "    training_size = (1 - test_size)\n",
    "    train_marker_pos = int(len(positive) * training_size)\n",
    "    train_marker_neg = int(len(negative) * training_size)\n",
    "    \n",
    "    \n",
    "    # for train size\n",
    "    train_pos = positive[:train_marker_pos]\n",
    "    train_neg = negative[:train_marker_neg]\n",
    "    \n",
    "    \n",
    "    # for test size\n",
    "    test_pos = positive[train_marker_pos:]\n",
    "    test_neg = negative[train_marker_neg:]\n",
    "    \n",
    "    \n",
    "    # Oversampling positive sentimen\n",
    "    train_pos = pd.concat([train_pos, \n",
    "                train_pos.sample(abs(len(train_pos)-len(train_neg)), replace=True)], \n",
    "                          ignore_index=True, sort=False)\n",
    "    \n",
    "    \"\"\"\n",
    "    Split the dataset to training_set and test_set\n",
    "    \"\"\"\n",
    "    training_set = pd.concat([train_pos, train_neg], ignore_index=True, sort=False)\n",
    "    test_set = pd.concat([test_pos, test_neg], ignore_index=True, sort=False)\n",
    "    \n",
    "    # Shuffle\n",
    "    training_set = training_set.sample(frac=1)\n",
    "    test_set = test_set.sample(frac=1)\n",
    "\n",
    "    return training_set, test_set"
   ]
  },
  {
   "cell_type": "code",
   "execution_count": 0,
   "metadata": {
    "colab": {},
    "colab_type": "code",
    "id": "ZomqyjulKR7J"
   },
   "outputs": [],
   "source": [
    "train, test = split_dataset(data)"
   ]
  },
  {
   "cell_type": "code",
   "execution_count": 0,
   "metadata": {
    "colab": {
     "base_uri": "https://localhost:8080/",
     "height": 49
    },
    "colab_type": "code",
    "id": "Y26BBnXT9_YF",
    "outputId": "cd836e5d-ed5e-4083-a164-c2e914a250cf"
   },
   "outputs": [
    {
     "data": {
      "text/html": [
       "<div>\n",
       "<style scoped>\n",
       "    .dataframe tbody tr th:only-of-type {\n",
       "        vertical-align: middle;\n",
       "    }\n",
       "\n",
       "    .dataframe tbody tr th {\n",
       "        vertical-align: top;\n",
       "    }\n",
       "\n",
       "    .dataframe thead th {\n",
       "        text-align: right;\n",
       "    }\n",
       "</style>\n",
       "<table border=\"1\" class=\"dataframe\">\n",
       "  <thead>\n",
       "    <tr style=\"text-align: right;\">\n",
       "      <th></th>\n",
       "      <th>processed_text</th>\n",
       "      <th>label</th>\n",
       "    </tr>\n",
       "  </thead>\n",
       "  <tbody>\n",
       "  </tbody>\n",
       "</table>\n",
       "</div>"
      ],
      "text/plain": [
       "Empty DataFrame\n",
       "Columns: [processed_text, label]\n",
       "Index: []"
      ]
     },
     "execution_count": 24,
     "metadata": {
      "tags": []
     },
     "output_type": "execute_result"
    }
   ],
   "source": [
    "train[train['processed_text'].isnull()]"
   ]
  },
  {
   "cell_type": "code",
   "execution_count": 0,
   "metadata": {
    "colab": {},
    "colab_type": "code",
    "id": "mJzsbHyK0GzV"
   },
   "outputs": [],
   "source": [
    "stop_words = []\n",
    "with open('stopwords-id.txt') as f:\n",
    "    for word in f.readlines():\n",
    "        stop_words.append(word.strip('\\n'))"
   ]
  },
  {
   "cell_type": "code",
   "execution_count": 0,
   "metadata": {
    "colab": {
     "base_uri": "https://localhost:8080/",
     "height": 309
    },
    "colab_type": "code",
    "id": "PVhsnmzf0Gwu",
    "outputId": "9ec96d89-030f-4341-9c72-4a60676d194f"
   },
   "outputs": [
    {
     "name": "stderr",
     "output_type": "stream",
     "text": [
      "/usr/local/lib/python3.6/dist-packages/sklearn/feature_extraction/text.py:300: UserWarning: Your stop_words may be inconsistent with your preprocessing. Tokenizing the stop words generated tokens ['baiknya', 'berkali', 'kali', 'kurangnya', 'mata', 'olah', 'sekurang', 'setidak', 'tama', 'tidaknya'] not in stop_words.\n",
      "  'stop_words.' % sorted(inconsistent))\n"
     ]
    },
    {
     "data": {
      "text/plain": [
       "TfidfVectorizer(analyzer='word', binary=False, decode_error='strict',\n",
       "                dtype=<class 'numpy.float64'>, encoding='utf-8',\n",
       "                input='content', lowercase=True, max_df=0.8, max_features=None,\n",
       "                min_df=10, ngram_range=(1, 3), norm='l2', preprocessor=None,\n",
       "                smooth_idf=True,\n",
       "                stop_words=['ada', 'adalah', 'adanya', 'adapun', 'agak',\n",
       "                            'agaknya', 'agar', 'akan', 'akankah', 'akhir',\n",
       "                            'akhiri', 'akhirnya', 'aku', 'akulah', 'amat',\n",
       "                            'amatlah', 'anda', 'andalah', 'antar', 'antara',\n",
       "                            'antaranya', 'apa', 'apaan', 'apabila', 'apakah',\n",
       "                            'apalagi', 'apatah', 'artinya', 'asal', 'asalkan', ...],\n",
       "                strip_accents=None, sublinear_tf=True,\n",
       "                token_pattern='(?u)\\\\b\\\\w\\\\w+\\\\b', tokenizer=None, use_idf=True,\n",
       "                vocabulary=None)"
      ]
     },
     "execution_count": 27,
     "metadata": {
      "tags": []
     },
     "output_type": "execute_result"
    }
   ],
   "source": [
    "min_df = 10\n",
    "max_df = 0.8\n",
    "\n",
    "vectorizer_cemar = TfidfVectorizer(sublinear_tf=True, ngram_range=(1, 3), max_df=max_df, min_df=min_df, stop_words=stop_words)\n",
    "\n",
    "text = list(train['processed_text'])\n",
    "\n",
    "vectorizer_cemar.fit(text)"
   ]
  },
  {
   "cell_type": "code",
   "execution_count": 0,
   "metadata": {
    "colab": {
     "base_uri": "https://localhost:8080/",
     "height": 241
    },
    "colab_type": "code",
    "id": "M52zYZBM0GuK",
    "outputId": "743d271f-8116-4b85-b5a3-4109be244dfd"
   },
   "outputs": [
    {
     "name": "stdout",
     "output_type": "stream",
     "text": [
      "Start training classifier...\n"
     ]
    },
    {
     "name": "stderr",
     "output_type": "stream",
     "text": [
      "/usr/local/lib/python3.6/dist-packages/sklearn/model_selection/_split.py:1978: FutureWarning: The default value of cv will change from 3 to 5 in version 0.22. Specify it explicitly to silence this warning.\n",
      "  warnings.warn(CV_WARNING, FutureWarning)\n"
     ]
    },
    {
     "data": {
      "text/plain": [
       "CalibratedClassifierCV(base_estimator=LinearSVC(C=1.0, class_weight=None,\n",
       "                                                dual=True, fit_intercept=True,\n",
       "                                                intercept_scaling=1,\n",
       "                                                loss='squared_hinge',\n",
       "                                                max_iter=10000,\n",
       "                                                multi_class='ovr', penalty='l2',\n",
       "                                                random_state=None, tol=0.0001,\n",
       "                                                verbose=0),\n",
       "                       cv='warn', method='sigmoid')"
      ]
     },
     "execution_count": 28,
     "metadata": {
      "tags": []
     },
     "output_type": "execute_result"
    }
   ],
   "source": [
    "classifier_cemar = LinearSVC(C=1.0, max_iter=10000, tol=0.0001)\n",
    "\n",
    "X_train = vectorizer_cemar.transform(list(train['processed_text']))\n",
    "y_train = train['label']\n",
    "\n",
    "print(\"Start training classifier...\")\n",
    "classifier_cemar = CalibratedClassifierCV(classifier_cemar)\n",
    "classifier_cemar.fit(X_train, y_train)"
   ]
  },
  {
   "cell_type": "code",
   "execution_count": 0,
   "metadata": {
    "colab": {},
    "colab_type": "code",
    "id": "g8YaNQH20Grn"
   },
   "outputs": [],
   "source": [
    "X_test = vectorizer_cemar.transform(list(test['processed_text']))\n",
    "y_target = list(test['label'])\n",
    "\n",
    "y_pred = classifier_cemaar.predict(X_test)"
   ]
  },
  {
   "cell_type": "code",
   "execution_count": 0,
   "metadata": {
    "colab": {
     "base_uri": "https://localhost:8080/",
     "height": 255
    },
    "colab_type": "code",
    "id": "fwGRa04A0Go3",
    "outputId": "3b827839-41f1-4552-c4b5-1deb8cc86d3a"
   },
   "outputs": [
    {
     "name": "stdout",
     "output_type": "stream",
     "text": [
      "Classification Report:\n",
      "              precision    recall  f1-score   support\n",
      "\n",
      "           0       0.80      0.80      0.80       200\n",
      "           1       0.73      0.74      0.74       151\n",
      "\n",
      "    accuracy                           0.77       351\n",
      "   macro avg       0.77      0.77      0.77       351\n",
      "weighted avg       0.77      0.77      0.77       351\n",
      "\n",
      "Confusion matrix:\n",
      "[[159  41]\n",
      " [ 39 112]]\n",
      "Accuracy: 0.7720797720797721\n"
     ]
    }
   ],
   "source": [
    "report = classification_report(y_target, y_pred)\n",
    "print(\"Classification Report:\\n{}\".format(report))\n",
    "\n",
    "confusion_matrix = confusion_matrix(y_target, y_pred)\n",
    "print(\"Confusion matrix:\\n{}\".format(confusion_matrix))\n",
    "\n",
    "accuracy = accuracy_score(y_target, y_pred)\n",
    "print(\"Accuracy: {}\".format(accuracy))"
   ]
  },
  {
   "cell_type": "code",
   "execution_count": 0,
   "metadata": {
    "colab": {},
    "colab_type": "code",
    "id": "-7DyyEKWBD0i"
   },
   "outputs": [],
   "source": [
    "model_cemar = Pipeline([('vectorizer', vectorizer_cemar), ('svc', classifier_cemar)])"
   ]
  },
  {
   "cell_type": "code",
   "execution_count": 0,
   "metadata": {
    "colab": {},
    "colab_type": "code",
    "id": "eNwpWr4PBDwS"
   },
   "outputs": [],
   "source": [
    "pred = model_cemar.predict(['dan dan nah muncul bani bodoh nmaksud hati ingin klihatan pinter bahkan pamer kegoblokan dan tertawa dan dan nmaksud ketuhanan yang maha esa benar aturan tuhan yang dijunjung npertanyanya tuhan yang mana iya jelas tuhan yang di adaptasi di beberapa agama yang diakui dong nlah dari sekian banyak agama yang diakui di indonesia termasuk aliran kepercayan baru baru ini memang kamu yakin semua mengharuskan diskriminasi lgbt nya agama kamu saja yang salah kodrat agama lain belum tentu ninget ketuhanan yang maha esa bukan ketuhanan yang maha ika jadi jangan bawa agama kamu yang suka ngebunuh itu di sini bahkan keluar topik dan npamer kegoblokan tertawa nudah balik ke jamban lagi malas nangepin lagi kaum seperti kamu'])"
   ]
  },
  {
   "cell_type": "code",
   "execution_count": 0,
   "metadata": {
    "colab": {
     "base_uri": "https://localhost:8080/",
     "height": 34
    },
    "colab_type": "code",
    "id": "ucQYKi-MBDs1",
    "outputId": "bf547082-a1f4-4fe6-a11e-4c12e84863b8"
   },
   "outputs": [
    {
     "data": {
      "text/plain": [
       "1"
      ]
     },
     "execution_count": 40,
     "metadata": {
      "tags": []
     },
     "output_type": "execute_result"
    }
   ],
   "source": [
    "pred[0]"
   ]
  },
  {
   "cell_type": "code",
   "execution_count": 0,
   "metadata": {
    "colab": {},
    "colab_type": "code",
    "id": "iJLGwndZKSBJ"
   },
   "outputs": [],
   "source": [
    "with open('model_pencemaran.joblib', \"wb\") as f:\n",
    "    joblib.dump(model_cemar, f)"
   ]
  },
  {
   "cell_type": "code",
   "execution_count": 0,
   "metadata": {
    "colab": {},
    "colab_type": "code",
    "id": "RrJIc0EF3pBi"
   },
   "outputs": [],
   "source": []
  },
  {
   "cell_type": "code",
   "execution_count": 0,
   "metadata": {
    "colab": {},
    "colab_type": "code",
    "id": "WXN_YKl68py0"
   },
   "outputs": [],
   "source": [
    "a = []"
   ]
  },
  {
   "cell_type": "code",
   "execution_count": 0,
   "metadata": {
    "colab": {
     "base_uri": "https://localhost:8080/",
     "height": 34
    },
    "colab_type": "code",
    "id": "BsBdackk8pvz",
    "outputId": "cdab5e12-26f1-40cc-a601-182174534508"
   },
   "outputs": [
    {
     "name": "stdout",
     "output_type": "stream",
     "text": [
      "True\n"
     ]
    }
   ],
   "source": [
    "if not a:\n",
    "  print(True)"
   ]
  },
  {
   "cell_type": "code",
   "execution_count": 0,
   "metadata": {
    "colab": {},
    "colab_type": "code",
    "id": "t0wOemdj8ps4"
   },
   "outputs": [],
   "source": [
    "if a:\n",
    "  print(True)"
   ]
  },
  {
   "cell_type": "code",
   "execution_count": 0,
   "metadata": {
    "colab": {},
    "colab_type": "code",
    "id": "7GZkRKZu8pp2"
   },
   "outputs": [],
   "source": []
  },
  {
   "cell_type": "code",
   "execution_count": 0,
   "metadata": {
    "colab": {},
    "colab_type": "code",
    "id": "nzqdbzb88pk3"
   },
   "outputs": [],
   "source": []
  },
  {
   "cell_type": "markdown",
   "metadata": {
    "colab_type": "text",
    "id": "7AE1JJaCKScz"
   },
   "source": [
    "## Model Sara"
   ]
  },
  {
   "cell_type": "code",
   "execution_count": 0,
   "metadata": {
    "colab": {},
    "colab_type": "code",
    "id": "KIZFs3_3KR_h"
   },
   "outputs": [],
   "source": [
    "path_train = \"/content/drive/My Drive/Data/stem/train_stem.csv\"\n",
    "path_test = \"/content/drive/My Drive/Data/stem/test_stem.csv\""
   ]
  },
  {
   "cell_type": "code",
   "execution_count": 0,
   "metadata": {
    "colab": {
     "base_uri": "https://localhost:8080/",
     "height": 649
    },
    "colab_type": "code",
    "id": "2Y00YsUOKVgD",
    "outputId": "0cc0cd71-45d0-4e86-ea99-429c206d004c"
   },
   "outputs": [
    {
     "data": {
      "text/html": [
       "<div>\n",
       "<style scoped>\n",
       "    .dataframe tbody tr th:only-of-type {\n",
       "        vertical-align: middle;\n",
       "    }\n",
       "\n",
       "    .dataframe tbody tr th {\n",
       "        vertical-align: top;\n",
       "    }\n",
       "\n",
       "    .dataframe thead th {\n",
       "        text-align: right;\n",
       "    }\n",
       "</style>\n",
       "<table border=\"1\" class=\"dataframe\">\n",
       "  <thead>\n",
       "    <tr style=\"text-align: right;\">\n",
       "      <th></th>\n",
       "      <th>original_text</th>\n",
       "      <th>source</th>\n",
       "      <th>pornografi</th>\n",
       "      <th>sara</th>\n",
       "      <th>radikalisme</th>\n",
       "      <th>pencemaran_nama_baik</th>\n",
       "      <th>processed_text</th>\n",
       "      <th>stop</th>\n",
       "      <th>stem</th>\n",
       "    </tr>\n",
       "  </thead>\n",
       "  <tbody>\n",
       "    <tr>\n",
       "      <th>0</th>\n",
       "      <td>[QUOTE=jessepinkman16;5a50ac34d89b093f368b456e...</td>\n",
       "      <td>kaskus</td>\n",
       "      <td>0</td>\n",
       "      <td>0</td>\n",
       "      <td>0</td>\n",
       "      <td>1</td>\n",
       "      <td>jabar memang provinsi barokah boleh juga dan n...</td>\n",
       "      <td>jabar provinsi barokah juga nwoi anjing bodoh ...</td>\n",
       "      <td>jabar provinsi barokah juga nwoi anjing bodoh ...</td>\n",
       "    </tr>\n",
       "    <tr>\n",
       "      <th>1</th>\n",
       "      <td>@verosvante kita2 aja nitizen yang pada kepo,t...</td>\n",
       "      <td>instagram</td>\n",
       "      <td>0</td>\n",
       "      <td>0</td>\n",
       "      <td>0</td>\n",
       "      <td>0</td>\n",
       "      <td>kita saja nitizen yang pada penasaran toh kelu...</td>\n",
       "      <td>saja nitizen pada penasaran keluarga pada situ...</td>\n",
       "      <td>saja nitizen pada penasaran keluarga pada situ...</td>\n",
       "    </tr>\n",
       "    <tr>\n",
       "      <th>2</th>\n",
       "      <td>\"#SidangAhok smg sipenista agama n ateknya mat...</td>\n",
       "      <td>twitter</td>\n",
       "      <td>0</td>\n",
       "      <td>1</td>\n",
       "      <td>1</td>\n",
       "      <td>1</td>\n",
       "      <td>sidangahok semoga sipenista agama dan ateknya ...</td>\n",
       "      <td>sidangahok semoga sipenista agama ateknya mati...</td>\n",
       "      <td>sidangahok moga sipenista agama ateknya mati w...</td>\n",
       "    </tr>\n",
       "    <tr>\n",
       "      <th>3</th>\n",
       "      <td>@bolususulembang.jkt barusan baca undang2 ini....</td>\n",
       "      <td>instagram</td>\n",
       "      <td>0</td>\n",
       "      <td>0</td>\n",
       "      <td>0</td>\n",
       "      <td>0</td>\n",
       "      <td>jakarta barusan baca undang ini tetap dibedaka...</td>\n",
       "      <td>jakarta barusan baca undang tetap dibedakan an...</td>\n",
       "      <td>jakarta barusan baca undang tetap beda antara ...</td>\n",
       "    </tr>\n",
       "    <tr>\n",
       "      <th>4</th>\n",
       "      <td>bikin anak mulu lu nof \\nkaga mikir apa kasian...</td>\n",
       "      <td>kaskus</td>\n",
       "      <td>0</td>\n",
       "      <td>0</td>\n",
       "      <td>0</td>\n",
       "      <td>0</td>\n",
       "      <td>buat anak melulu kamu nof nkaga mikir apa kasi...</td>\n",
       "      <td>anak melulu nof nkaga mikir kasian anak nanti ...</td>\n",
       "      <td>anak melulu nof nkaga mikir kasi anak nanti ma...</td>\n",
       "    </tr>\n",
       "  </tbody>\n",
       "</table>\n",
       "</div>"
      ],
      "text/plain": [
       "                                       original_text  ...                                               stem\n",
       "0  [QUOTE=jessepinkman16;5a50ac34d89b093f368b456e...  ...  jabar provinsi barokah juga nwoi anjing bodoh ...\n",
       "1  @verosvante kita2 aja nitizen yang pada kepo,t...  ...  saja nitizen pada penasaran keluarga pada situ...\n",
       "2  \"#SidangAhok smg sipenista agama n ateknya mat...  ...  sidangahok moga sipenista agama ateknya mati w...\n",
       "3  @bolususulembang.jkt barusan baca undang2 ini....  ...  jakarta barusan baca undang tetap beda antara ...\n",
       "4  bikin anak mulu lu nof \\nkaga mikir apa kasian...  ...  anak melulu nof nkaga mikir kasi anak nanti ma...\n",
       "\n",
       "[5 rows x 9 columns]"
      ]
     },
     "execution_count": 120,
     "metadata": {
      "tags": []
     },
     "output_type": "execute_result"
    }
   ],
   "source": [
    "dftrain = pd.read_csv(path_train)\n",
    "dftrain.head()"
   ]
  },
  {
   "cell_type": "code",
   "execution_count": 0,
   "metadata": {
    "colab": {
     "base_uri": "https://localhost:8080/",
     "height": 496
    },
    "colab_type": "code",
    "id": "bOLGTI4pKVdn",
    "outputId": "4a66361f-dc1e-4139-99ac-d99f7f883142"
   },
   "outputs": [
    {
     "data": {
      "text/html": [
       "<div>\n",
       "<style scoped>\n",
       "    .dataframe tbody tr th:only-of-type {\n",
       "        vertical-align: middle;\n",
       "    }\n",
       "\n",
       "    .dataframe tbody tr th {\n",
       "        vertical-align: top;\n",
       "    }\n",
       "\n",
       "    .dataframe thead th {\n",
       "        text-align: right;\n",
       "    }\n",
       "</style>\n",
       "<table border=\"1\" class=\"dataframe\">\n",
       "  <thead>\n",
       "    <tr style=\"text-align: right;\">\n",
       "      <th></th>\n",
       "      <th>original_text</th>\n",
       "      <th>source</th>\n",
       "      <th>pornografi</th>\n",
       "      <th>sara</th>\n",
       "      <th>radikalisme</th>\n",
       "      <th>pencemaran_nama_baik</th>\n",
       "      <th>processed_text</th>\n",
       "      <th>stop</th>\n",
       "      <th>stem</th>\n",
       "    </tr>\n",
       "  </thead>\n",
       "  <tbody>\n",
       "    <tr>\n",
       "      <th>69</th>\n",
       "      <td>Kalian teriak \"Ganyang cina!\" \"Usir Ahmadiyah\"...</td>\n",
       "      <td>twitter</td>\n",
       "      <td>0</td>\n",
       "      <td>1</td>\n",
       "      <td>0</td>\n",
       "      <td>0</td>\n",
       "      <td>kalian teriak ganyang cina usir ahmadiyah musn...</td>\n",
       "      <td>teriak ganyang cina usir ahmadiyah musnahkan l...</td>\n",
       "      <td>teriak ganyang cina usir ahmadiyah musnah lgbt...</td>\n",
       "    </tr>\n",
       "    <tr>\n",
       "      <th>86</th>\n",
       "      <td>Stop kambinghitamkan atheis sebagai pelakunya....</td>\n",
       "      <td>kaskus</td>\n",
       "      <td>0</td>\n",
       "      <td>1</td>\n",
       "      <td>0</td>\n",
       "      <td>0</td>\n",
       "      <td>henti kambinghitamkan ateis sebagai pelakunya ...</td>\n",
       "      <td>henti kambinghitamkan ateis pelakunya ntidak a...</td>\n",
       "      <td>henti kambinghitamkan ateis laku ntidak ateis ...</td>\n",
       "    </tr>\n",
       "    <tr>\n",
       "      <th>100</th>\n",
       "      <td>[QUOTE=shoooony;5b58640f902cfe442e8b4569]nyera...</td>\n",
       "      <td>kaskus</td>\n",
       "      <td>0</td>\n",
       "      <td>1</td>\n",
       "      <td>0</td>\n",
       "      <td>0</td>\n",
       "      <td>serang surah dalam al qur an tahun serang nabi...</td>\n",
       "      <td>serang surah al qur an serang nabi nsetiap pen...</td>\n",
       "      <td>serang surah al qur an serang nabi nsetiap pen...</td>\n",
       "    </tr>\n",
       "    <tr>\n",
       "      <th>106</th>\n",
       "      <td>kok dia bisa dengar ?? SUPERMAN ???\\n\\nposisin...</td>\n",
       "      <td>kaskus</td>\n",
       "      <td>0</td>\n",
       "      <td>1</td>\n",
       "      <td>0</td>\n",
       "      <td>0</td>\n",
       "      <td>kok dia bisa dengar superman dan nposisinya ka...</td>\n",
       "      <td>dia dengar superman nposisinya nyebrang jalan ...</td>\n",
       "      <td>dia dengar superman nposisinya nyebrang jalan ...</td>\n",
       "    </tr>\n",
       "    <tr>\n",
       "      <th>120</th>\n",
       "      <td>Salut dengan dosen satu ini dan pandangan dia ...</td>\n",
       "      <td>kaskus</td>\n",
       "      <td>0</td>\n",
       "      <td>1</td>\n",
       "      <td>0</td>\n",
       "      <td>0</td>\n",
       "      <td>salut dengan dosen satu ini dan pandangan dia ...</td>\n",
       "      <td>salut dosen pandangan persis pandangan non mus...</td>\n",
       "      <td>salut dosen pandang persis pandang non muslim ...</td>\n",
       "    </tr>\n",
       "  </tbody>\n",
       "</table>\n",
       "</div>"
      ],
      "text/plain": [
       "                                         original_text  ...                                               stem\n",
       "69   Kalian teriak \"Ganyang cina!\" \"Usir Ahmadiyah\"...  ...  teriak ganyang cina usir ahmadiyah musnah lgbt...\n",
       "86   Stop kambinghitamkan atheis sebagai pelakunya....  ...  henti kambinghitamkan ateis laku ntidak ateis ...\n",
       "100  [QUOTE=shoooony;5b58640f902cfe442e8b4569]nyera...  ...  serang surah al qur an serang nabi nsetiap pen...\n",
       "106  kok dia bisa dengar ?? SUPERMAN ???\\n\\nposisin...  ...  dia dengar superman nposisinya nyebrang jalan ...\n",
       "120  Salut dengan dosen satu ini dan pandangan dia ...  ...  salut dosen pandang persis pandang non muslim ...\n",
       "\n",
       "[5 rows x 9 columns]"
      ]
     },
     "execution_count": 121,
     "metadata": {
      "tags": []
     },
     "output_type": "execute_result"
    }
   ],
   "source": [
    "sara = dftrain[(dftrain['pornografi']==0) & (dftrain['sara']==1) & (dftrain['radikalisme']==0) & (dftrain['pencemaran_nama_baik']==0)]\n",
    "sara.head()"
   ]
  },
  {
   "cell_type": "code",
   "execution_count": 0,
   "metadata": {
    "colab": {
     "base_uri": "https://localhost:8080/",
     "height": 34
    },
    "colab_type": "code",
    "id": "IEGAO_2oKVb8",
    "outputId": "d7377103-f67c-4253-e058-c7e64f7d7b38"
   },
   "outputs": [
    {
     "data": {
      "text/plain": [
       "152"
      ]
     },
     "execution_count": 122,
     "metadata": {
      "tags": []
     },
     "output_type": "execute_result"
    }
   ],
   "source": [
    "len(sara)"
   ]
  },
  {
   "cell_type": "code",
   "execution_count": 0,
   "metadata": {
    "colab": {
     "base_uri": "https://localhost:8080/",
     "height": 700
    },
    "colab_type": "code",
    "id": "wdN9KnHhKVaG",
    "outputId": "9a831745-9eac-42f7-de6a-57c772ad7934"
   },
   "outputs": [
    {
     "data": {
      "text/html": [
       "<div>\n",
       "<style scoped>\n",
       "    .dataframe tbody tr th:only-of-type {\n",
       "        vertical-align: middle;\n",
       "    }\n",
       "\n",
       "    .dataframe tbody tr th {\n",
       "        vertical-align: top;\n",
       "    }\n",
       "\n",
       "    .dataframe thead th {\n",
       "        text-align: right;\n",
       "    }\n",
       "</style>\n",
       "<table border=\"1\" class=\"dataframe\">\n",
       "  <thead>\n",
       "    <tr style=\"text-align: right;\">\n",
       "      <th></th>\n",
       "      <th>original_text</th>\n",
       "      <th>source</th>\n",
       "      <th>pornografi</th>\n",
       "      <th>sara</th>\n",
       "      <th>radikalisme</th>\n",
       "      <th>pencemaran_nama_baik</th>\n",
       "      <th>processed_text</th>\n",
       "      <th>stop</th>\n",
       "      <th>stem</th>\n",
       "    </tr>\n",
       "  </thead>\n",
       "  <tbody>\n",
       "    <tr>\n",
       "      <th>1</th>\n",
       "      <td>@verosvante kita2 aja nitizen yang pada kepo,t...</td>\n",
       "      <td>instagram</td>\n",
       "      <td>0</td>\n",
       "      <td>0</td>\n",
       "      <td>0</td>\n",
       "      <td>0</td>\n",
       "      <td>kita saja nitizen yang pada penasaran toh kelu...</td>\n",
       "      <td>saja nitizen pada penasaran keluarga pada situ...</td>\n",
       "      <td>saja nitizen pada penasaran keluarga pada situ...</td>\n",
       "    </tr>\n",
       "    <tr>\n",
       "      <th>3</th>\n",
       "      <td>@bolususulembang.jkt barusan baca undang2 ini....</td>\n",
       "      <td>instagram</td>\n",
       "      <td>0</td>\n",
       "      <td>0</td>\n",
       "      <td>0</td>\n",
       "      <td>0</td>\n",
       "      <td>jakarta barusan baca undang ini tetap dibedaka...</td>\n",
       "      <td>jakarta barusan baca undang tetap dibedakan an...</td>\n",
       "      <td>jakarta barusan baca undang tetap beda antara ...</td>\n",
       "    </tr>\n",
       "    <tr>\n",
       "      <th>4</th>\n",
       "      <td>bikin anak mulu lu nof \\nkaga mikir apa kasian...</td>\n",
       "      <td>kaskus</td>\n",
       "      <td>0</td>\n",
       "      <td>0</td>\n",
       "      <td>0</td>\n",
       "      <td>0</td>\n",
       "      <td>buat anak melulu kamu nof nkaga mikir apa kasi...</td>\n",
       "      <td>anak melulu nof nkaga mikir kasian anak nanti ...</td>\n",
       "      <td>anak melulu nof nkaga mikir kasi anak nanti ma...</td>\n",
       "    </tr>\n",
       "    <tr>\n",
       "      <th>8</th>\n",
       "      <td>Mungkin akibat memakai gorden di pala menghamb...</td>\n",
       "      <td>kaskus</td>\n",
       "      <td>0</td>\n",
       "      <td>0</td>\n",
       "      <td>0</td>\n",
       "      <td>0</td>\n",
       "      <td>mungkin akibat memakai gorden di kepala mengha...</td>\n",
       "      <td>akibat memakai gorden kepala menghambat aliran...</td>\n",
       "      <td>akibat pakai gorden kepala hambat alir oksigen...</td>\n",
       "    </tr>\n",
       "    <tr>\n",
       "      <th>9</th>\n",
       "      <td>E kaka nona yg paling bodoh dan goblok Manokwa...</td>\n",
       "      <td>twitter</td>\n",
       "      <td>0</td>\n",
       "      <td>0</td>\n",
       "      <td>0</td>\n",
       "      <td>0</td>\n",
       "      <td>e kakak nona yang paling bodoh dan bodoh manok...</td>\n",
       "      <td>e kakak nona paling bodoh bodoh manokwari so i...</td>\n",
       "      <td>e kakak nona paling bodoh bodoh manokwari so i...</td>\n",
       "    </tr>\n",
       "  </tbody>\n",
       "</table>\n",
       "</div>"
      ],
      "text/plain": [
       "                                       original_text  ...                                               stem\n",
       "1  @verosvante kita2 aja nitizen yang pada kepo,t...  ...  saja nitizen pada penasaran keluarga pada situ...\n",
       "3  @bolususulembang.jkt barusan baca undang2 ini....  ...  jakarta barusan baca undang tetap beda antara ...\n",
       "4  bikin anak mulu lu nof \\nkaga mikir apa kasian...  ...  anak melulu nof nkaga mikir kasi anak nanti ma...\n",
       "8  Mungkin akibat memakai gorden di pala menghamb...  ...  akibat pakai gorden kepala hambat alir oksigen...\n",
       "9  E kaka nona yg paling bodoh dan goblok Manokwa...  ...  e kakak nona paling bodoh bodoh manokwari so i...\n",
       "\n",
       "[5 rows x 9 columns]"
      ]
     },
     "execution_count": 123,
     "metadata": {
      "tags": []
     },
     "output_type": "execute_result"
    }
   ],
   "source": [
    "netral = dftrain[(dftrain['pornografi']==0) & (dftrain['sara']==0) & (dftrain['radikalisme']==0) & (dftrain['pencemaran_nama_baik']==0)]\n",
    "netral.head()"
   ]
  },
  {
   "cell_type": "code",
   "execution_count": 0,
   "metadata": {
    "colab": {
     "base_uri": "https://localhost:8080/",
     "height": 34
    },
    "colab_type": "code",
    "id": "6ntAQwp8KVYg",
    "outputId": "fd2f1035-3bdb-4023-95f4-a1c1a0c44f96"
   },
   "outputs": [
    {
     "data": {
      "text/plain": [
       "3066"
      ]
     },
     "execution_count": 124,
     "metadata": {
      "tags": []
     },
     "output_type": "execute_result"
    }
   ],
   "source": [
    "len(netral)"
   ]
  },
  {
   "cell_type": "code",
   "execution_count": 0,
   "metadata": {
    "colab": {
     "base_uri": "https://localhost:8080/",
     "height": 1000
    },
    "colab_type": "code",
    "id": "vOFkTh_jKVXU",
    "outputId": "e4b78e0b-3555-4ead-9f90-e4d918dbb7aa"
   },
   "outputs": [
    {
     "data": {
      "text/html": [
       "<div>\n",
       "<style scoped>\n",
       "    .dataframe tbody tr th:only-of-type {\n",
       "        vertical-align: middle;\n",
       "    }\n",
       "\n",
       "    .dataframe tbody tr th {\n",
       "        vertical-align: top;\n",
       "    }\n",
       "\n",
       "    .dataframe thead th {\n",
       "        text-align: right;\n",
       "    }\n",
       "</style>\n",
       "<table border=\"1\" class=\"dataframe\">\n",
       "  <thead>\n",
       "    <tr style=\"text-align: right;\">\n",
       "      <th></th>\n",
       "      <th>processed_text</th>\n",
       "      <th>label</th>\n",
       "    </tr>\n",
       "  </thead>\n",
       "  <tbody>\n",
       "    <tr>\n",
       "      <th>69</th>\n",
       "      <td>teriak ganyang cina usir ahmadiyah musnah lgbt...</td>\n",
       "      <td>1</td>\n",
       "    </tr>\n",
       "    <tr>\n",
       "      <th>86</th>\n",
       "      <td>henti kambinghitamkan ateis laku ntidak ateis ...</td>\n",
       "      <td>1</td>\n",
       "    </tr>\n",
       "    <tr>\n",
       "      <th>100</th>\n",
       "      <td>serang surah al qur an serang nabi nsetiap pen...</td>\n",
       "      <td>1</td>\n",
       "    </tr>\n",
       "    <tr>\n",
       "      <th>106</th>\n",
       "      <td>dia dengar superman nposisinya nyebrang jalan ...</td>\n",
       "      <td>1</td>\n",
       "    </tr>\n",
       "    <tr>\n",
       "      <th>120</th>\n",
       "      <td>salut dosen pandang persis pandang non muslim ...</td>\n",
       "      <td>1</td>\n",
       "    </tr>\n",
       "    <tr>\n",
       "      <th>244</th>\n",
       "      <td>yang begitu bilang begini sehat kemarin suka r...</td>\n",
       "      <td>1</td>\n",
       "    </tr>\n",
       "    <tr>\n",
       "      <th>274</th>\n",
       "      <td>weh jan jan serasa papua ki tuk gosong gosong ...</td>\n",
       "      <td>1</td>\n",
       "    </tr>\n",
       "    <tr>\n",
       "      <th>341</th>\n",
       "      <td>nsama dengab zakir nprof sains kaum muslim wak...</td>\n",
       "      <td>1</td>\n",
       "    </tr>\n",
       "    <tr>\n",
       "      <th>384</th>\n",
       "      <td>nkarena rugi tertawa nloe yang dunia kamu seri...</td>\n",
       "      <td>1</td>\n",
       "    </tr>\n",
       "    <tr>\n",
       "      <th>395</th>\n",
       "      <td>pandang orang agama ateis agnostik deis nathei...</td>\n",
       "      <td>1</td>\n",
       "    </tr>\n",
       "    <tr>\n",
       "      <th>405</th>\n",
       "      <td>saran buat kafir sini nini internal umat islam...</td>\n",
       "      <td>1</td>\n",
       "    </tr>\n",
       "    <tr>\n",
       "      <th>416</th>\n",
       "      <td>arab maju kaya uea nuea tax gratis bebas tu ne...</td>\n",
       "      <td>1</td>\n",
       "    </tr>\n",
       "    <tr>\n",
       "      <th>494</th>\n",
       "      <td>cerita pas ketemu geng motor organisasi masyar...</td>\n",
       "      <td>1</td>\n",
       "    </tr>\n",
       "    <tr>\n",
       "      <th>500</th>\n",
       "      <td>nabi musa preman pernah bunuh manusia nsedangk...</td>\n",
       "      <td>1</td>\n",
       "    </tr>\n",
       "    <tr>\n",
       "      <th>533</th>\n",
       "      <td>lomba dapetin hati rt kafir lomba jam tangan p...</td>\n",
       "      <td>1</td>\n",
       "    </tr>\n",
       "    <tr>\n",
       "      <th>621</th>\n",
       "      <td>ahok sih hina al qur an ulama selalu sikap jij...</td>\n",
       "      <td>1</td>\n",
       "    </tr>\n",
       "    <tr>\n",
       "      <th>777</th>\n",
       "      <td>biksu bocah nteperangkap dalam nkayaknya kelua...</td>\n",
       "      <td>1</td>\n",
       "    </tr>\n",
       "    <tr>\n",
       "      <th>812</th>\n",
       "      <td>sok iya gek ngolek uang oq pye arek malang kab...</td>\n",
       "      <td>1</td>\n",
       "    </tr>\n",
       "    <tr>\n",
       "      <th>822</th>\n",
       "      <td>foto istimewa beijing wowjoint machinery co lt...</td>\n",
       "      <td>1</td>\n",
       "    </tr>\n",
       "    <tr>\n",
       "      <th>858</th>\n",
       "      <td>zaman jahiliyah nabi agama tanam benci yahudi ...</td>\n",
       "      <td>1</td>\n",
       "    </tr>\n",
       "    <tr>\n",
       "      <th>887</th>\n",
       "      <td>iya ela eksotis eksotis seperti p orang papua ...</td>\n",
       "      <td>1</td>\n",
       "    </tr>\n",
       "    <tr>\n",
       "      <th>982</th>\n",
       "      <td>akibat cina bisnis prostitusi jadi bandar vcd ...</td>\n",
       "      <td>1</td>\n",
       "    </tr>\n",
       "    <tr>\n",
       "      <th>986</th>\n",
       "      <td>pernah lihat be roti papua rt roti papua kali ...</td>\n",
       "      <td>1</td>\n",
       "    </tr>\n",
       "    <tr>\n",
       "      <th>1041</th>\n",
       "      <td>ini dan ncie bisa nyertakan video saja tertawa...</td>\n",
       "      <td>1</td>\n",
       "    </tr>\n",
       "    <tr>\n",
       "      <th>1049</th>\n",
       "      <td>duga di thread isi phobia salah agama nsempit ...</td>\n",
       "      <td>1</td>\n",
       "    </tr>\n",
       "    <tr>\n",
       "      <th>1067</th>\n",
       "      <td>manteb ntambahin juragan tidak fanatik agama n...</td>\n",
       "      <td>1</td>\n",
       "    </tr>\n",
       "    <tr>\n",
       "      <th>1086</th>\n",
       "      <td>cibir njustru pendeta paham korban yesus njesu...</td>\n",
       "      <td>1</td>\n",
       "    </tr>\n",
       "    <tr>\n",
       "      <th>1128</th>\n",
       "      <td>nastaik batak mau pulang medan lewat bandara i...</td>\n",
       "      <td>1</td>\n",
       "    </tr>\n",
       "    <tr>\n",
       "      <th>1131</th>\n",
       "      <td>tidur sana orang papua tertawa rt kau monyet t...</td>\n",
       "      <td>1</td>\n",
       "    </tr>\n",
       "    <tr>\n",
       "      <th>1247</th>\n",
       "      <td>kakak semingu gosong kamu bulan jadi orang pap...</td>\n",
       "      <td>1</td>\n",
       "    </tr>\n",
       "    <tr>\n",
       "      <th>...</th>\n",
       "      <td>...</td>\n",
       "      <td>...</td>\n",
       "    </tr>\n",
       "    <tr>\n",
       "      <th>5480</th>\n",
       "      <td>harus diviralkan organisasi papua merdeka papu...</td>\n",
       "      <td>1</td>\n",
       "    </tr>\n",
       "    <tr>\n",
       "      <th>5553</th>\n",
       "      <td>yahweh putra bapa putra yahweh tikus kristus a...</td>\n",
       "      <td>1</td>\n",
       "    </tr>\n",
       "    <tr>\n",
       "      <th>5594</th>\n",
       "      <td>parah opang bandung dijakarta opang lempar mot...</td>\n",
       "      <td>1</td>\n",
       "    </tr>\n",
       "    <tr>\n",
       "      <th>5756</th>\n",
       "      <td>tb simatupang ndi panjaitan nadam malik batuba...</td>\n",
       "      <td>1</td>\n",
       "    </tr>\n",
       "    <tr>\n",
       "      <th>5760</th>\n",
       "      <td>crtnya mauki cri laki papua mnjdi pndmping ta ...</td>\n",
       "      <td>1</td>\n",
       "    </tr>\n",
       "    <tr>\n",
       "      <th>5769</th>\n",
       "      <td>dpr papua segera yogyakarta tidak terima sebut...</td>\n",
       "      <td>1</td>\n",
       "    </tr>\n",
       "    <tr>\n",
       "      <th>5789</th>\n",
       "      <td>saja bawah tekan diancem tangkap memang pki ke...</td>\n",
       "      <td>1</td>\n",
       "    </tr>\n",
       "    <tr>\n",
       "      <th>5884</th>\n",
       "      <td>bodoh bilang azab warga papua bakar umat gidi ...</td>\n",
       "      <td>1</td>\n",
       "    </tr>\n",
       "    <tr>\n",
       "      <th>5892</th>\n",
       "      <td>main bacok an ayo quenmutia kamu suka bunuh or...</td>\n",
       "      <td>1</td>\n",
       "    </tr>\n",
       "    <tr>\n",
       "      <th>5893</th>\n",
       "      <td>hahahaha rt yank gosong sendiri iya hahah rt t...</td>\n",
       "      <td>1</td>\n",
       "    </tr>\n",
       "    <tr>\n",
       "      <th>5934</th>\n",
       "      <td>cina presiden ahok misal jamin maju bawah ahok...</td>\n",
       "      <td>1</td>\n",
       "    </tr>\n",
       "    <tr>\n",
       "      <th>5950</th>\n",
       "      <td>guru mata ajar ajar baca tulis quran btq nama ...</td>\n",
       "      <td>1</td>\n",
       "    </tr>\n",
       "    <tr>\n",
       "      <th>6023</th>\n",
       "      <td>teman sosial media bilang ganyang cina usir ci...</td>\n",
       "      <td>1</td>\n",
       "    </tr>\n",
       "    <tr>\n",
       "      <th>6169</th>\n",
       "      <td>lebih ini tempuh hukum apa dilakukanya ndrpd i...</td>\n",
       "      <td>1</td>\n",
       "    </tr>\n",
       "    <tr>\n",
       "      <th>6203</th>\n",
       "      <td>jujur orang cerdas pintar pilih orang imam mam...</td>\n",
       "      <td>1</td>\n",
       "    </tr>\n",
       "    <tr>\n",
       "      <th>6218</th>\n",
       "      <td>urus thr kompak kafir kafir tidak ada gonyang ...</td>\n",
       "      <td>1</td>\n",
       "    </tr>\n",
       "    <tr>\n",
       "      <th>6219</th>\n",
       "      <td>url menang berkat main muslim url enam main mu...</td>\n",
       "      <td>1</td>\n",
       "    </tr>\n",
       "    <tr>\n",
       "      <th>6259</th>\n",
       "      <td>dan pihak tentang sih cina kafir ahok di krimi...</td>\n",
       "      <td>1</td>\n",
       "    </tr>\n",
       "    <tr>\n",
       "      <th>6306</th>\n",
       "      <td>nayo ayo banga amin tertawa agama tebal iman l...</td>\n",
       "      <td>1</td>\n",
       "    </tr>\n",
       "    <tr>\n",
       "      <th>6411</th>\n",
       "      <td>nabi nikah bocah umur dan eksekusi umur nitu n...</td>\n",
       "      <td>1</td>\n",
       "    </tr>\n",
       "    <tr>\n",
       "      <th>6485</th>\n",
       "      <td>kaya tempe gosong wkrt nanti orang papua lebih...</td>\n",
       "      <td>1</td>\n",
       "    </tr>\n",
       "    <tr>\n",
       "      <th>6697</th>\n",
       "      <td>nsalah judul tritnye npadahal orang untung ang...</td>\n",
       "      <td>1</td>\n",
       "    </tr>\n",
       "    <tr>\n",
       "      <th>6741</th>\n",
       "      <td>saja seram seram sedap nkita tahu apa balik ka...</td>\n",
       "      <td>1</td>\n",
       "    </tr>\n",
       "    <tr>\n",
       "      <th>6767</th>\n",
       "      <td>sebut cina iya tertawa p rt lestari cina korea...</td>\n",
       "      <td>1</td>\n",
       "    </tr>\n",
       "    <tr>\n",
       "      <th>6770</th>\n",
       "      <td>iya nama negara mayoritas slogan rahmat il ala...</td>\n",
       "      <td>1</td>\n",
       "    </tr>\n",
       "    <tr>\n",
       "      <th>6773</th>\n",
       "      <td>hal dulu nmayoritas hal bodoh suka keras istri...</td>\n",
       "      <td>1</td>\n",
       "    </tr>\n",
       "    <tr>\n",
       "      <th>6825</th>\n",
       "      <td>semua nabi yahudi utus langsung tuhanya yang m...</td>\n",
       "      <td>1</td>\n",
       "    </tr>\n",
       "    <tr>\n",
       "      <th>6861</th>\n",
       "      <td>dunia negara negara mayoritas muslim tidak anu...</td>\n",
       "      <td>1</td>\n",
       "    </tr>\n",
       "    <tr>\n",
       "      <th>6883</th>\n",
       "      <td>rt komunis masih laku cina malas khilafah jela...</td>\n",
       "      <td>1</td>\n",
       "    </tr>\n",
       "    <tr>\n",
       "      <th>6966</th>\n",
       "      <td>cumansimpatisan bakar masjid papua heboh berit...</td>\n",
       "      <td>1</td>\n",
       "    </tr>\n",
       "  </tbody>\n",
       "</table>\n",
       "<p>152 rows × 2 columns</p>\n",
       "</div>"
      ],
      "text/plain": [
       "                                         processed_text  label\n",
       "69    teriak ganyang cina usir ahmadiyah musnah lgbt...      1\n",
       "86    henti kambinghitamkan ateis laku ntidak ateis ...      1\n",
       "100   serang surah al qur an serang nabi nsetiap pen...      1\n",
       "106   dia dengar superman nposisinya nyebrang jalan ...      1\n",
       "120   salut dosen pandang persis pandang non muslim ...      1\n",
       "244   yang begitu bilang begini sehat kemarin suka r...      1\n",
       "274   weh jan jan serasa papua ki tuk gosong gosong ...      1\n",
       "341   nsama dengab zakir nprof sains kaum muslim wak...      1\n",
       "384   nkarena rugi tertawa nloe yang dunia kamu seri...      1\n",
       "395   pandang orang agama ateis agnostik deis nathei...      1\n",
       "405   saran buat kafir sini nini internal umat islam...      1\n",
       "416   arab maju kaya uea nuea tax gratis bebas tu ne...      1\n",
       "494   cerita pas ketemu geng motor organisasi masyar...      1\n",
       "500   nabi musa preman pernah bunuh manusia nsedangk...      1\n",
       "533   lomba dapetin hati rt kafir lomba jam tangan p...      1\n",
       "621   ahok sih hina al qur an ulama selalu sikap jij...      1\n",
       "777   biksu bocah nteperangkap dalam nkayaknya kelua...      1\n",
       "812   sok iya gek ngolek uang oq pye arek malang kab...      1\n",
       "822   foto istimewa beijing wowjoint machinery co lt...      1\n",
       "858   zaman jahiliyah nabi agama tanam benci yahudi ...      1\n",
       "887   iya ela eksotis eksotis seperti p orang papua ...      1\n",
       "982   akibat cina bisnis prostitusi jadi bandar vcd ...      1\n",
       "986   pernah lihat be roti papua rt roti papua kali ...      1\n",
       "1041  ini dan ncie bisa nyertakan video saja tertawa...      1\n",
       "1049  duga di thread isi phobia salah agama nsempit ...      1\n",
       "1067  manteb ntambahin juragan tidak fanatik agama n...      1\n",
       "1086  cibir njustru pendeta paham korban yesus njesu...      1\n",
       "1128  nastaik batak mau pulang medan lewat bandara i...      1\n",
       "1131  tidur sana orang papua tertawa rt kau monyet t...      1\n",
       "1247  kakak semingu gosong kamu bulan jadi orang pap...      1\n",
       "...                                                 ...    ...\n",
       "5480  harus diviralkan organisasi papua merdeka papu...      1\n",
       "5553  yahweh putra bapa putra yahweh tikus kristus a...      1\n",
       "5594  parah opang bandung dijakarta opang lempar mot...      1\n",
       "5756  tb simatupang ndi panjaitan nadam malik batuba...      1\n",
       "5760  crtnya mauki cri laki papua mnjdi pndmping ta ...      1\n",
       "5769  dpr papua segera yogyakarta tidak terima sebut...      1\n",
       "5789  saja bawah tekan diancem tangkap memang pki ke...      1\n",
       "5884  bodoh bilang azab warga papua bakar umat gidi ...      1\n",
       "5892  main bacok an ayo quenmutia kamu suka bunuh or...      1\n",
       "5893  hahahaha rt yank gosong sendiri iya hahah rt t...      1\n",
       "5934  cina presiden ahok misal jamin maju bawah ahok...      1\n",
       "5950  guru mata ajar ajar baca tulis quran btq nama ...      1\n",
       "6023  teman sosial media bilang ganyang cina usir ci...      1\n",
       "6169  lebih ini tempuh hukum apa dilakukanya ndrpd i...      1\n",
       "6203  jujur orang cerdas pintar pilih orang imam mam...      1\n",
       "6218  urus thr kompak kafir kafir tidak ada gonyang ...      1\n",
       "6219  url menang berkat main muslim url enam main mu...      1\n",
       "6259  dan pihak tentang sih cina kafir ahok di krimi...      1\n",
       "6306  nayo ayo banga amin tertawa agama tebal iman l...      1\n",
       "6411  nabi nikah bocah umur dan eksekusi umur nitu n...      1\n",
       "6485  kaya tempe gosong wkrt nanti orang papua lebih...      1\n",
       "6697  nsalah judul tritnye npadahal orang untung ang...      1\n",
       "6741  saja seram seram sedap nkita tahu apa balik ka...      1\n",
       "6767  sebut cina iya tertawa p rt lestari cina korea...      1\n",
       "6770  iya nama negara mayoritas slogan rahmat il ala...      1\n",
       "6773  hal dulu nmayoritas hal bodoh suka keras istri...      1\n",
       "6825  semua nabi yahudi utus langsung tuhanya yang m...      1\n",
       "6861  dunia negara negara mayoritas muslim tidak anu...      1\n",
       "6883  rt komunis masih laku cina malas khilafah jela...      1\n",
       "6966  cumansimpatisan bakar masjid papua heboh berit...      1\n",
       "\n",
       "[152 rows x 2 columns]"
      ]
     },
     "execution_count": 125,
     "metadata": {
      "tags": []
     },
     "output_type": "execute_result"
    }
   ],
   "source": [
    "saranew = sara[['stem','sara']]\n",
    "saranew = saranew.rename(columns={\"sara\": \"label\",\"stem\":\"processed_text\"})\n",
    "saranew"
   ]
  },
  {
   "cell_type": "code",
   "execution_count": 0,
   "metadata": {
    "colab": {},
    "colab_type": "code",
    "id": "RfbJTKPLKVRa"
   },
   "outputs": [],
   "source": [
    "netral = netral[['stem']]\n",
    "netral = netral.rename(columns={\"stem\":\"processed_text\"})\n",
    "netral['label'] = 0"
   ]
  },
  {
   "cell_type": "code",
   "execution_count": 0,
   "metadata": {
    "colab": {
     "base_uri": "https://localhost:8080/",
     "height": 204
    },
    "colab_type": "code",
    "id": "LAQWagUuUP6g",
    "outputId": "ab5fe1fa-eadc-4d44-9477-2478e670255d"
   },
   "outputs": [
    {
     "data": {
      "text/html": [
       "<div>\n",
       "<style scoped>\n",
       "    .dataframe tbody tr th:only-of-type {\n",
       "        vertical-align: middle;\n",
       "    }\n",
       "\n",
       "    .dataframe tbody tr th {\n",
       "        vertical-align: top;\n",
       "    }\n",
       "\n",
       "    .dataframe thead th {\n",
       "        text-align: right;\n",
       "    }\n",
       "</style>\n",
       "<table border=\"1\" class=\"dataframe\">\n",
       "  <thead>\n",
       "    <tr style=\"text-align: right;\">\n",
       "      <th></th>\n",
       "      <th>processed_text</th>\n",
       "      <th>label</th>\n",
       "    </tr>\n",
       "  </thead>\n",
       "  <tbody>\n",
       "    <tr>\n",
       "      <th>829</th>\n",
       "      <td>om tulis kasih sumur sebentar disamperin jurag...</td>\n",
       "      <td>0</td>\n",
       "    </tr>\n",
       "    <tr>\n",
       "      <th>1541</th>\n",
       "      <td>harus fokus mana kakak perempuan almira anak a...</td>\n",
       "      <td>0</td>\n",
       "    </tr>\n",
       "    <tr>\n",
       "      <th>1190</th>\n",
       "      <td>tersingung iya nasihat kakak supaya tahu kamu ...</td>\n",
       "      <td>0</td>\n",
       "    </tr>\n",
       "    <tr>\n",
       "      <th>6094</th>\n",
       "      <td>dariduli tidak hormat sekali akun muslim cyber...</td>\n",
       "      <td>0</td>\n",
       "    </tr>\n",
       "    <tr>\n",
       "      <th>5800</th>\n",
       "      <td>jakarta sih iya terima bukan anak presiden wap...</td>\n",
       "      <td>0</td>\n",
       "    </tr>\n",
       "  </tbody>\n",
       "</table>\n",
       "</div>"
      ],
      "text/plain": [
       "                                         processed_text  label\n",
       "829   om tulis kasih sumur sebentar disamperin jurag...      0\n",
       "1541  harus fokus mana kakak perempuan almira anak a...      0\n",
       "1190  tersingung iya nasihat kakak supaya tahu kamu ...      0\n",
       "6094  dariduli tidak hormat sekali akun muslim cyber...      0\n",
       "5800  jakarta sih iya terima bukan anak presiden wap...      0"
      ]
     },
     "execution_count": 127,
     "metadata": {
      "tags": []
     },
     "output_type": "execute_result"
    }
   ],
   "source": [
    "netral = netral.sample(500, replace=True)\n",
    "netral.head()"
   ]
  },
  {
   "cell_type": "code",
   "execution_count": 0,
   "metadata": {
    "colab": {
     "base_uri": "https://localhost:8080/",
     "height": 204
    },
    "colab_type": "code",
    "id": "ShqfHLcsKRfn",
    "outputId": "5b9d6f8c-ce96-40fe-b9cd-86499e156815"
   },
   "outputs": [
    {
     "data": {
      "text/html": [
       "<div>\n",
       "<style scoped>\n",
       "    .dataframe tbody tr th:only-of-type {\n",
       "        vertical-align: middle;\n",
       "    }\n",
       "\n",
       "    .dataframe tbody tr th {\n",
       "        vertical-align: top;\n",
       "    }\n",
       "\n",
       "    .dataframe thead th {\n",
       "        text-align: right;\n",
       "    }\n",
       "</style>\n",
       "<table border=\"1\" class=\"dataframe\">\n",
       "  <thead>\n",
       "    <tr style=\"text-align: right;\">\n",
       "      <th></th>\n",
       "      <th>processed_text</th>\n",
       "      <th>label</th>\n",
       "    </tr>\n",
       "  </thead>\n",
       "  <tbody>\n",
       "    <tr>\n",
       "      <th>69</th>\n",
       "      <td>teriak ganyang cina usir ahmadiyah musnah lgbt...</td>\n",
       "      <td>1</td>\n",
       "    </tr>\n",
       "    <tr>\n",
       "      <th>86</th>\n",
       "      <td>henti kambinghitamkan ateis laku ntidak ateis ...</td>\n",
       "      <td>1</td>\n",
       "    </tr>\n",
       "    <tr>\n",
       "      <th>100</th>\n",
       "      <td>serang surah al qur an serang nabi nsetiap pen...</td>\n",
       "      <td>1</td>\n",
       "    </tr>\n",
       "    <tr>\n",
       "      <th>106</th>\n",
       "      <td>dia dengar superman nposisinya nyebrang jalan ...</td>\n",
       "      <td>1</td>\n",
       "    </tr>\n",
       "    <tr>\n",
       "      <th>120</th>\n",
       "      <td>salut dosen pandang persis pandang non muslim ...</td>\n",
       "      <td>1</td>\n",
       "    </tr>\n",
       "  </tbody>\n",
       "</table>\n",
       "</div>"
      ],
      "text/plain": [
       "                                        processed_text  label\n",
       "69   teriak ganyang cina usir ahmadiyah musnah lgbt...      1\n",
       "86   henti kambinghitamkan ateis laku ntidak ateis ...      1\n",
       "100  serang surah al qur an serang nabi nsetiap pen...      1\n",
       "106  dia dengar superman nposisinya nyebrang jalan ...      1\n",
       "120  salut dosen pandang persis pandang non muslim ...      1"
      ]
     },
     "execution_count": 128,
     "metadata": {
      "tags": []
     },
     "output_type": "execute_result"
    }
   ],
   "source": [
    "saranew = pd.concat([saranew, netral], ignore_index=False)\n",
    "saranew.head()"
   ]
  },
  {
   "cell_type": "code",
   "execution_count": 0,
   "metadata": {
    "colab": {},
    "colab_type": "code",
    "id": "8vYVxSZLYftS"
   },
   "outputs": [],
   "source": [
    "def split_dataset1(data, test_size=0.3):\n",
    "    # Split negatif and positive\n",
    "    positive = data[data['label']==1]\n",
    "    negative = data[data['label']==0]\n",
    "    \n",
    "    training_size = (1 - test_size)\n",
    "    train_marker_pos = int(len(positive) * training_size)\n",
    "    train_marker_neg = int(len(negative) * training_size)\n",
    "    \n",
    "    \n",
    "    # for train size\n",
    "    train_pos = positive[:train_marker_pos]\n",
    "    train_neg = negative[:train_marker_neg]\n",
    "    \n",
    "    \n",
    "    # for test size\n",
    "    test_pos = positive[train_marker_pos:]\n",
    "    test_neg = negative[train_marker_neg:]\n",
    "    \n",
    "    \n",
    "    # Oversampling positive sentimen\n",
    "    train_pos = pd.concat([train_pos, \n",
    "                train_pos.sample(abs(len(train_pos)-len(train_neg)), replace=True)], ignore_index=True, sort=False)\n",
    "    \n",
    "    \"\"\"\n",
    "    Split the dataset to training_set and test_set\n",
    "    \"\"\"\n",
    "    training_set = pd.concat([train_pos, train_neg], ignore_index=True, sort=False)\n",
    "    test_set = pd.concat([test_pos, test_neg], ignore_index=True, sort=False)\n",
    "    \n",
    "    # Shuffle\n",
    "    training_set = training_set.sample(frac=1)\n",
    "    test_set = test_set.sample(frac=1)\n",
    "\n",
    "    return training_set, test_set"
   ]
  },
  {
   "cell_type": "code",
   "execution_count": 0,
   "metadata": {
    "colab": {},
    "colab_type": "code",
    "id": "uIaY8hU18JMX"
   },
   "outputs": [],
   "source": [
    "train, test = split_dataset1(saranew)"
   ]
  },
  {
   "cell_type": "code",
   "execution_count": 0,
   "metadata": {
    "colab": {},
    "colab_type": "code",
    "id": "QhpcEjKIZ93P"
   },
   "outputs": [],
   "source": [
    "stop_words = []\n",
    "with open('/content/drive/My Drive/StopwordTalaUpdate.txt') as f:\n",
    "    for word in f.readlines():\n",
    "        stop_words.append(word.strip('\\n'))"
   ]
  },
  {
   "cell_type": "code",
   "execution_count": 0,
   "metadata": {
    "colab": {
     "base_uri": "https://localhost:8080/",
     "height": 136
    },
    "colab_type": "code",
    "id": "4MGjYo_58MtQ",
    "outputId": "ba4d2574-2a56-40bb-9b88-5411c59b2b41"
   },
   "outputs": [
    {
     "data": {
      "text/plain": [
       "TfidfVectorizer(analyzer='word', binary=False, decode_error='strict',\n",
       "                dtype=<class 'numpy.float64'>, encoding='utf-8',\n",
       "                input='content', lowercase=True, max_df=0.8, max_features=None,\n",
       "                min_df=10, ngram_range=(1, 3), norm='l2', preprocessor=None,\n",
       "                smooth_idf=True, stop_words=None, strip_accents=None,\n",
       "                sublinear_tf=True, token_pattern='(?u)\\\\b\\\\w\\\\w+\\\\b',\n",
       "                tokenizer=None, use_idf=True, vocabulary=None)"
      ]
     },
     "execution_count": 165,
     "metadata": {
      "tags": []
     },
     "output_type": "execute_result"
    }
   ],
   "source": [
    "min_df = 10\n",
    "max_df = 0.8\n",
    "\n",
    "vectorizer = TfidfVectorizer(sublinear_tf=True, ngram_range=(1, 3), max_df=max_df, min_df=min_df)\n",
    "\n",
    "text = list(train['processed_text'])\n",
    "\n",
    "vectorizer.fit(text)"
   ]
  },
  {
   "cell_type": "code",
   "execution_count": 0,
   "metadata": {
    "colab": {
     "base_uri": "https://localhost:8080/",
     "height": 241
    },
    "colab_type": "code",
    "id": "-nC71q6r8Mlt",
    "outputId": "d5647880-d6f1-4eb6-cfb0-9588f5960911"
   },
   "outputs": [
    {
     "name": "stdout",
     "output_type": "stream",
     "text": [
      "Start training classifier...\n"
     ]
    },
    {
     "name": "stderr",
     "output_type": "stream",
     "text": [
      "/usr/local/lib/python3.6/dist-packages/sklearn/model_selection/_split.py:1978: FutureWarning: The default value of cv will change from 3 to 5 in version 0.22. Specify it explicitly to silence this warning.\n",
      "  warnings.warn(CV_WARNING, FutureWarning)\n"
     ]
    },
    {
     "data": {
      "text/plain": [
       "CalibratedClassifierCV(base_estimator=LinearSVC(C=1.0, class_weight=None,\n",
       "                                                dual=True, fit_intercept=True,\n",
       "                                                intercept_scaling=1,\n",
       "                                                loss='squared_hinge',\n",
       "                                                max_iter=10000,\n",
       "                                                multi_class='ovr', penalty='l2',\n",
       "                                                random_state=None, tol=0.0001,\n",
       "                                                verbose=0),\n",
       "                       cv='warn', method='sigmoid')"
      ]
     },
     "execution_count": 166,
     "metadata": {
      "tags": []
     },
     "output_type": "execute_result"
    }
   ],
   "source": [
    "classifier = LinearSVC(C=1.0, max_iter=10000, tol=0.0001)\n",
    "\n",
    "X_train = vectorizer.transform(list(train['processed_text']))\n",
    "y_train = train['label']\n",
    "\n",
    "print(\"Start training classifier...\")\n",
    "classifier = CalibratedClassifierCV(classifier)\n",
    "classifier.fit(X_train, y_train)"
   ]
  },
  {
   "cell_type": "code",
   "execution_count": 0,
   "metadata": {
    "colab": {},
    "colab_type": "code",
    "id": "v90CSAVS8Mb2"
   },
   "outputs": [],
   "source": [
    "X_test = vectorizer.transform(list(test['processed_text']))\n",
    "y_target = list(test['label'])\n",
    "\n",
    "y_pred = classifier.predict(X_test)"
   ]
  },
  {
   "cell_type": "code",
   "execution_count": 0,
   "metadata": {
    "colab": {
     "base_uri": "https://localhost:8080/",
     "height": 204
    },
    "colab_type": "code",
    "id": "omRW8FNl8MOO",
    "outputId": "ea593eff-6a97-4dd3-ef82-236999ad7a22"
   },
   "outputs": [
    {
     "name": "stdout",
     "output_type": "stream",
     "text": [
      "Classification Report:\n",
      "              precision    recall  f1-score   support\n",
      "\n",
      "           0       0.85      0.90      0.87       350\n",
      "           1       0.59      0.47      0.52       107\n",
      "\n",
      "    accuracy                           0.80       457\n",
      "   macro avg       0.72      0.68      0.70       457\n",
      "weighted avg       0.79      0.80      0.79       457\n",
      "\n",
      "Accuracy: 0.7986870897155361\n"
     ]
    }
   ],
   "source": [
    "report = classification_report(y_target, y_pred)\n",
    "print(\"Classification Report:\\n{}\".format(report))\n",
    "\n",
    "#confusion_matrix = confusion_matrix(y_target, y_pred)\n",
    "#print(\"Confusion matrix:\\n{}\".format(confusion_matrix))\n",
    "\n",
    "accuracy = accuracy_score(y_target, y_pred)\n",
    "print(\"Accuracy: {}\".format(accuracy))"
   ]
  },
  {
   "cell_type": "code",
   "execution_count": 0,
   "metadata": {
    "colab": {},
    "colab_type": "code",
    "id": "A4yzZVQNmkMq"
   },
   "outputs": [],
   "source": [
    "model = Pipeline([('vectorizer', vectorizer), ('svc', classifier)])"
   ]
  },
  {
   "cell_type": "code",
   "execution_count": 0,
   "metadata": {
    "colab": {},
    "colab_type": "code",
    "id": "qrhnbT-qnmt-"
   },
   "outputs": [],
   "source": [
    "pred = model.predict(['''orang semingu sekali brisik sudah langsung di bacok giliran yang sehari x brisik plus bangunin orang tidur tidak ada yang ngebacok dan nemang sekte pedofil tidak mau tersaingi di'''])"
   ]
  },
  {
   "cell_type": "code",
   "execution_count": 0,
   "metadata": {
    "colab": {
     "base_uri": "https://localhost:8080/",
     "height": 34
    },
    "colab_type": "code",
    "id": "5w3qfmtopH3t",
    "outputId": "40652bc2-b0d7-43c3-bf1f-248c72198b20"
   },
   "outputs": [
    {
     "data": {
      "text/plain": [
       "0"
      ]
     },
     "execution_count": 171,
     "metadata": {
      "tags": []
     },
     "output_type": "execute_result"
    }
   ],
   "source": [
    "pred[0]"
   ]
  },
  {
   "cell_type": "code",
   "execution_count": 0,
   "metadata": {
    "colab": {},
    "colab_type": "code",
    "id": "NZFgedcs8MD6"
   },
   "outputs": [],
   "source": [
    "from joblib import dump, load\n",
    "model_sara= dump(model, '/content/drive/My Drive/model_sara.joblib') "
   ]
  },
  {
   "cell_type": "markdown",
   "metadata": {
    "colab_type": "text",
    "id": "HHu4-pOqKXDr"
   },
   "source": [
    "## Model Pornografi"
   ]
  },
  {
   "cell_type": "code",
   "execution_count": 0,
   "metadata": {
    "colab": {},
    "colab_type": "code",
    "id": "mWYOMcze89s8"
   },
   "outputs": [],
   "source": [
    "train = pd.read_csv('/content/drive/My Drive/train_stem.csv')\n",
    "test = pd.read_csv('/content/drive/My Drive/test_stem.csv')"
   ]
  },
  {
   "cell_type": "code",
   "execution_count": 0,
   "metadata": {
    "colab": {},
    "colab_type": "code",
    "id": "1V6PATiXKZzO"
   },
   "outputs": [],
   "source": [
    "pornografi = train[(train['sara']==0) & (train['pornografi']==1) & (train['radikalisme']==0) & (train['pencemaran_nama_baik']==0)]"
   ]
  },
  {
   "cell_type": "code",
   "execution_count": 0,
   "metadata": {
    "colab": {
     "base_uri": "https://localhost:8080/",
     "height": 410
    },
    "colab_type": "code",
    "id": "-pTj97CiKaT1",
    "outputId": "ae106b09-9c9b-46fa-a440-82b70beba0b1"
   },
   "outputs": [
    {
     "data": {
      "text/html": [
       "<div>\n",
       "<style scoped>\n",
       "    .dataframe tbody tr th:only-of-type {\n",
       "        vertical-align: middle;\n",
       "    }\n",
       "\n",
       "    .dataframe tbody tr th {\n",
       "        vertical-align: top;\n",
       "    }\n",
       "\n",
       "    .dataframe thead th {\n",
       "        text-align: right;\n",
       "    }\n",
       "</style>\n",
       "<table border=\"1\" class=\"dataframe\">\n",
       "  <thead>\n",
       "    <tr style=\"text-align: right;\">\n",
       "      <th></th>\n",
       "      <th>original_text</th>\n",
       "      <th>source</th>\n",
       "      <th>pornografi</th>\n",
       "      <th>sara</th>\n",
       "      <th>radikalisme</th>\n",
       "      <th>pencemaran_nama_baik</th>\n",
       "      <th>processed_text</th>\n",
       "      <th>stop</th>\n",
       "      <th>stem</th>\n",
       "    </tr>\n",
       "  </thead>\n",
       "  <tbody>\n",
       "    <tr>\n",
       "      <th>7</th>\n",
       "      <td>@ongbaotek eh memek diem lo pala lo kaya konto...</td>\n",
       "      <td>twitter</td>\n",
       "      <td>1</td>\n",
       "      <td>0</td>\n",
       "      <td>0</td>\n",
       "      <td>0</td>\n",
       "      <td>eh memek diam kamu kepala kamu kaya kontol muk...</td>\n",
       "      <td>eh memek diam kepala kaya kontol muka kaya mem...</td>\n",
       "      <td>eh memek diam kepala kaya kontol muka kaya mem...</td>\n",
       "    </tr>\n",
       "    <tr>\n",
       "      <th>14</th>\n",
       "      <td>@jemmydarusman mami langsung berbalik badan. M...</td>\n",
       "      <td>twitter</td>\n",
       "      <td>1</td>\n",
       "      <td>0</td>\n",
       "      <td>0</td>\n",
       "      <td>0</td>\n",
       "      <td>mami langsung berbalik badan mami cium kamu ma...</td>\n",
       "      <td>mami langsung berbalik badan mami cium mami ke...</td>\n",
       "      <td>mami langsung balik badan mami cium mami kenyo...</td>\n",
       "    </tr>\n",
       "    <tr>\n",
       "      <th>18</th>\n",
       "      <td>VCS yuk tante,ibu2,janda,jilboob,SMA,SMK,SMP,M...</td>\n",
       "      <td>instagram</td>\n",
       "      <td>1</td>\n",
       "      <td>0</td>\n",
       "      <td>0</td>\n",
       "      <td>0</td>\n",
       "      <td>vcs ayo tante ibu janda jilbob sama smk sampai...</td>\n",
       "      <td>vcs ayo tante janda jilbob smk mahasiswi lagi ...</td>\n",
       "      <td>vcs ayo tante janda jilbob smk mahasiswi lagi ...</td>\n",
       "    </tr>\n",
       "    <tr>\n",
       "      <th>24</th>\n",
       "      <td>#vcs #bokep #mendesah #desah #desahan #igohot ...</td>\n",
       "      <td>twitter</td>\n",
       "      <td>1</td>\n",
       "      <td>0</td>\n",
       "      <td>0</td>\n",
       "      <td>0</td>\n",
       "      <td>vcs porno mendesah desah desahan igohot igoind...</td>\n",
       "      <td>vcs porno mendesah desah desahan igohot igoind...</td>\n",
       "      <td>vcs porno desah desah desah igohot igoindo igo...</td>\n",
       "    </tr>\n",
       "    <tr>\n",
       "      <th>31</th>\n",
       "      <td>Penis Anda Kecil ? Oles dan urut dgn MINYAK LI...</td>\n",
       "      <td>instagram</td>\n",
       "      <td>1</td>\n",
       "      <td>0</td>\n",
       "      <td>0</td>\n",
       "      <td>0</td>\n",
       "      <td>penis anda kecil oles dan urut dengan minyak l...</td>\n",
       "      <td>penis kecil oles urut minyak lintah papua asli...</td>\n",
       "      <td>penis kecil oles urut minyak lintah papua asli...</td>\n",
       "    </tr>\n",
       "  </tbody>\n",
       "</table>\n",
       "</div>"
      ],
      "text/plain": [
       "                                        original_text  ...                                               stem\n",
       "7   @ongbaotek eh memek diem lo pala lo kaya konto...  ...  eh memek diam kepala kaya kontol muka kaya mem...\n",
       "14  @jemmydarusman mami langsung berbalik badan. M...  ...  mami langsung balik badan mami cium mami kenyo...\n",
       "18  VCS yuk tante,ibu2,janda,jilboob,SMA,SMK,SMP,M...  ...  vcs ayo tante janda jilbob smk mahasiswi lagi ...\n",
       "24  #vcs #bokep #mendesah #desah #desahan #igohot ...  ...  vcs porno desah desah desah igohot igoindo igo...\n",
       "31  Penis Anda Kecil ? Oles dan urut dgn MINYAK LI...  ...  penis kecil oles urut minyak lintah papua asli...\n",
       "\n",
       "[5 rows x 9 columns]"
      ]
     },
     "execution_count": 7,
     "metadata": {
      "tags": []
     },
     "output_type": "execute_result"
    }
   ],
   "source": [
    "pornografi.head()"
   ]
  },
  {
   "cell_type": "code",
   "execution_count": 0,
   "metadata": {
    "colab": {
     "base_uri": "https://localhost:8080/",
     "height": 34
    },
    "colab_type": "code",
    "id": "Gee4PLI1Kaq3",
    "outputId": "c6448cb4-acd8-4c2e-bdf0-fef03d60c547"
   },
   "outputs": [
    {
     "data": {
      "text/plain": [
       "1092"
      ]
     },
     "execution_count": 8,
     "metadata": {
      "tags": []
     },
     "output_type": "execute_result"
    }
   ],
   "source": [
    "len(pornografi)"
   ]
  },
  {
   "cell_type": "code",
   "execution_count": 0,
   "metadata": {
    "colab": {
     "base_uri": "https://localhost:8080/",
     "height": 1000
    },
    "colab_type": "code",
    "id": "5Sbj9UryKamV",
    "outputId": "6c966e5c-e086-4bbf-f707-490a14c43ebe"
   },
   "outputs": [
    {
     "name": "stdout",
     "output_type": "stream",
     "text": [
      "                                          original_text  ...                                               stem\n",
      "1     @verosvante kita2 aja nitizen yang pada kepo,t...  ...  saja nitizen pada penasaran keluarga pada situ...\n",
      "3     @bolususulembang.jkt barusan baca undang2 ini....  ...  jakarta barusan baca undang tetap beda antara ...\n",
      "4     bikin anak mulu lu nof \\nkaga mikir apa kasian...  ...  anak melulu nof nkaga mikir kasi anak nanti ma...\n",
      "8     Mungkin akibat memakai gorden di pala menghamb...  ...  akibat pakai gorden kepala hambat alir oksigen...\n",
      "9     E kaka nona yg paling bodoh dan goblok Manokwa...  ...  e kakak nona paling bodoh bodoh manokwari so i...\n",
      "10    SWIMWEAR PUNYA MAJIKAN DICOLONG DASAR BABU GA ...  ...  swimwear majikan colong dasar babu tahu cepat ...\n",
      "12    [QUOTE=1punchman;5b4ef626a09a39a1208b4572]Piha...  ...  oposisi salah perintah minta saham persen ngob...\n",
      "17    @fhth__ itu kan cuma chant balasan atas perbua...  ...  kan chant balas buat suporter malay suporter m...\n",
      "19    Itu hanya Oknum\\nkami damai \\nkami toleran\\nka...  ...  hanya oknum nkami damai nkami toleran nkami aj...\n",
      "20    Ga abis abis dah yg begini -_-\\r\\r\\nYuk jaga s...  ...  habis habis yang ayo jaga sanak saudara doktri...\n",
      "25    @_dayutarii iya.. Kasihan jg bc komen komen ny...  ...  iya kasihan bc komentar komentar ny iya netz p...\n",
      "27    :nohope:\\n\\nNegara didesak [B]#2019GantiPresid...  ...  nohope negara desak gantipresiden nsedang pres...\n",
      "32    @verosvante kayak yg udh paham bgt sama urusan...  ...  yang paham sama urus hijrah kamu kabar orang a...\n",
      "36    URGENT JAWATAN KOSONG ☺️ Tidak perlukan pengal...  ...  urgent jawat kosong perlu alam qualification c...\n",
      "37    @joenevan14 mane gak die ngerti bahase sumbang...  ...  mane die erti bahase sumbang bilang die sengon...\n",
      "38    @elvinadoni18 Ya kan bener to contoh yang bagu...  ...  iya benar to contoh bagus coba orang contoh ng...\n",
      "41    Kalian smua lucu yg membenci lucinta luna.kta ...  ...  semua lucu benci lucinta luna kta nya benci su...\n",
      "48    Kalo Suka ngejelek jelekin lucinta luna Awa di...  ...  suka ngejelek jelekin lucinta luna awa cakar t...\n",
      "57    Presidenku titisan kecebong.\\nprabowo titisan ...  ...  presiden titis kecebong nprabowo titis macan a...\n",
      "58    singkek lagi!!! lagi-lagi singkek memancing da...  ...  singkek lagi singkek pancing pecah belah negar...\n",
      "59    Ingin Menang Banyak Dengan Modal Sedikit?\\nAyo...  ...  menang modal ayo gabung dengan casinobola deng...\n",
      "60    @purnamafreddy lucu ya komennya... Trus klw sa...  ...  lucu iya komenya sekarang mantan presiden kelu...\n",
      "61    DEAR MAS FATAH ... ANTARA DOSA ATAU PAHALA GW ...  ...  dear mas fatah dosa pahala tidak mana yang kal...\n",
      "63    Di sini terapis kalo gw bilang gampangan, ada ...  ...  sini terap bilang gampang beberapa kali tidak ...\n",
      "65     [img]https://s.kaskus.id/images/2018/02/09/98...  ...  dunia kontemporer sat laku delusional banyak d...\n",
      "66    @dindasyarif  aja mengakui kalo dia transgende...  ...  aku dia transgender dia salat pakai sarung dia...\n",
      "67    klo loe liat video perlakuan TNI ke rkyat asli...  ...  lihat video laku tni rkyat asli papua kamu bak...\n",
      "72    anjir pindah aja lu sono ke Arab haha ngapain ...  ...  waw pindah ke arab tertawa apa di kalau kamu m...\n",
      "73    Haha gila langsung gosong dah gue RT @mluthfij...  ...  tertawa gila langsung gosong aku rt amin iya s...\n",
      "75    hmmm ... ane gak heran kader2 pks sangat mengi...  ...  hm tidak heran kader partai adil sejahtera ido...\n",
      "...                                                 ...  ...                                                ...\n",
      "6798  apa boleh buat klo suami tidak pandai di ranja...  ...  kalau suami pandai ranjang nsudah kerang amoy ...\n",
      "6799  @memeksange692 ouh ouh..say km sangar ih di ew...  ...  ouh ouh sayang sangar ih ewe kontol maf yh say...\n",
      "6800  Tante aq sabunin, aq jilatin vagina nya ya?? A...  ...  tante sabunin jilat vagina nya iya remas susu ...\n",
      "6808  Calon  Menantu Kehangatan ML >https://s.id/2ah...  ...  calon menantu hangat ml vcs ps customer layan ...\n",
      "6809  Dan,,,CD bs mlorot sendiri\"@TanteSumbar: Cewek...  ...  cd mlorot cewek kalau sange hanya cium juga bu...\n",
      "6813  Partner sex, partner 3some. Buat wanita yang i...  ...  partner seks partner some wanita ingin birah p...\n",
      "6821  Tante Jilbab Sepong Kontol Gede Mulut Sampe Ga...  ...  tante jilbab sepong kontol mulut tidak muat fo...\n",
      "6823  RT @kikishuda: Jngn kau senang dpt cewe yg pin...  ...  rt kamu senang cewek pinter nyepong mungkin ad...\n",
      "6826  @Carlasayang peluk dari belakang, buka gamis C...  ...  peluk belakang buka gamis carla buka celana ge...\n",
      "6831  Memek yang sudah ngeluarkan 2 anak ini terasa ...  ...  memek sudah ngeluarkan anak asa sempit jari ma...\n",
      "6835  Kalo itu baru dicukur fah, biar makin lebat RT...  ...  itu cukur fah biar lebat rt jembut tumbuh rul ...\n",
      "6843  BAHAN COLI \\n#bokepsemi #bokepindo #sepong #am...  ...  bahan coli bokepsemi bokepindo sepong amoy bis...\n",
      "6849  Kdg2 tuh, aku rse, kau ckp psal dri kau....sed...  ...  kdg aku rse cukup psal kamu dar kali kakak lak...\n",
      "6851  @lolitagina aku jilatin miss V kamu yup...Trus...  ...  jilat mis v iya naik atas puting susu lumat iy...\n",
      "6854  @idabispakindo mana ni ida blsan sms ny ud aku...  ...  ida blsan sms ny sms kmu tu sange berat ini tu...\n",
      "6860  Yah gw mau ngewe jg lah!hahahhaRT @iheartDHCN:...  ...  yah mau ngewe lah hahahart kawinin bunda maria...\n",
      "6871  Janganlah menjadi KERTAS yang tidak akan kemba...  ...  jadi kertas tidak kembali sempurna di remas te...\n",
      "6909  Susu bisa? RT \"@WOWFakta: Jk kmu mrasa mau pin...  ...  susu rt jk kmu mrasa pingsan remas benda saja ...\n",
      "6932  LoL “@iwanagustian: Sapi : Coba elo bayangin,a...  ...  tertawa sapi coba bayangin ampir ari susu di e...\n",
      "6934  Foto Memek Sempit Anak SMP Gadis Perawan: Foto...  ...  foto memek sempit anak gadis perawan foto meme...\n",
      "6940  jembut mu bau. klo aku harum boy RT @zainfachr...  ...  jembut mu bau aku harum boy rt kya jembut rt b...\n",
      "6943  taudah jadi pengen salty ff yg inti ceritanya ...  ...  taudah ingin salty f inti cerita sengama ewe b...\n",
      "6958  Kadang2 cwo.a juga yg anjing ! Ninggalin anak ...  ...  kadang cowok a anjing ningalin anak istri cma ...\n",
      "6960  Cerita 17 tahun cerita dewasa remas susu kelua...  ...  cerita cerita dewasa remas susu asi cerita gp ...\n",
      "6962  Cwe sange yg mau dipuasin abg wa aj 0822217307...  ...  cewek sange mau dipuasin abg whatsap kontolged...\n",
      "6968  Hy beb.\\nMalam minggu ya.\\nUdh avail cileungsi...  ...  hy sayang malam mingu iya avail cileungsi iya ...\n",
      "6969  Tante Muda Cantik Pamer Jembut Lebat: Foto Tan...  ...  tante muda cantik pamer jembut lebat foto tant...\n",
      "6970  Nyusu dulu.biar kuat nyodoknya , msh setengah ...  ...  nyusu biar kuat nyodoknya tengah tegang sih ya...\n",
      "6975  Yg ngajakin chat kurang seru, gak pada kirim f...  ...  ngajakin chat seru pada kirim foto sange ngewe...\n",
      "6976  Lagi sange...butuh cewek...\\nVcs yuk\\nAdd id l...  ...  sange butuh cewek vcs ayo id line hot sange me...\n",
      "\n",
      "[4158 rows x 9 columns]\n"
     ]
    }
   ],
   "source": [
    "netral = train[(train['pornografi']==0) & (train['sara']==0) & (train['radikalisme']==0) & (train['pencemaran_nama_baik']==0)]\n",
    "pornografi = train[(train['sara']==0) & (train['pornografi']==1) & (train['radikalisme']==0) & (train['pencemaran_nama_baik']==0)]\n",
    "netralporn = pd.concat([netral, pornografi])\n",
    "print(netralporn)"
   ]
  },
  {
   "cell_type": "code",
   "execution_count": 0,
   "metadata": {
    "colab": {
     "base_uri": "https://localhost:8080/",
     "height": 1000
    },
    "colab_type": "code",
    "id": "RV01lI-_r8Vj",
    "outputId": "7d02da64-b04b-414c-f270-a4cb58c2fd34"
   },
   "outputs": [
    {
     "name": "stdout",
     "output_type": "stream",
     "text": [
      "                                                   stem  pornografi\n",
      "1     saja nitizen pada penasaran keluarga pada situ...           0\n",
      "3     jakarta barusan baca undang tetap beda antara ...           0\n",
      "4     anak melulu nof nkaga mikir kasi anak nanti ma...           0\n",
      "8     akibat pakai gorden kepala hambat alir oksigen...           0\n",
      "9     e kakak nona paling bodoh bodoh manokwari so i...           0\n",
      "10    swimwear majikan colong dasar babu tahu cepat ...           0\n",
      "12    oposisi salah perintah minta saham persen ngob...           0\n",
      "17    kan chant balas buat suporter malay suporter m...           0\n",
      "19    hanya oknum nkami damai nkami toleran nkami aj...           0\n",
      "20    habis habis yang ayo jaga sanak saudara doktri...           0\n",
      "25    iya kasihan bc komentar komentar ny iya netz p...           0\n",
      "27    nohope negara desak gantipresiden nsedang pres...           0\n",
      "32    yang paham sama urus hijrah kamu kabar orang a...           0\n",
      "36    urgent jawat kosong perlu alam qualification c...           0\n",
      "37    mane die erti bahase sumbang bilang die sengon...           0\n",
      "38    iya benar to contoh bagus coba orang contoh ng...           0\n",
      "41    semua lucu benci lucinta luna kta nya benci su...           0\n",
      "48    suka ngejelek jelekin lucinta luna awa cakar t...           0\n",
      "57    presiden titis kecebong nprabowo titis macan a...           0\n",
      "58    singkek lagi singkek pancing pecah belah negar...           0\n",
      "59    menang modal ayo gabung dengan casinobola deng...           0\n",
      "60    lucu iya komenya sekarang mantan presiden kelu...           0\n",
      "61    dear mas fatah dosa pahala tidak mana yang kal...           0\n",
      "63    sini terap bilang gampang beberapa kali tidak ...           0\n",
      "65    dunia kontemporer sat laku delusional banyak d...           0\n",
      "66    aku dia transgender dia salat pakai sarung dia...           0\n",
      "67    lihat video laku tni rkyat asli papua kamu bak...           0\n",
      "72    waw pindah ke arab tertawa apa di kalau kamu m...           0\n",
      "73    tertawa gila langsung gosong aku rt amin iya s...           0\n",
      "75    hm tidak heran kader partai adil sejahtera ido...           0\n",
      "...                                                 ...         ...\n",
      "6798  kalau suami pandai ranjang nsudah kerang amoy ...           1\n",
      "6799  ouh ouh sayang sangar ih ewe kontol maf yh say...           1\n",
      "6800  tante sabunin jilat vagina nya iya remas susu ...           1\n",
      "6808  calon menantu hangat ml vcs ps customer layan ...           1\n",
      "6809  cd mlorot cewek kalau sange hanya cium juga bu...           1\n",
      "6813  partner seks partner some wanita ingin birah p...           1\n",
      "6821  tante jilbab sepong kontol mulut tidak muat fo...           1\n",
      "6823  rt kamu senang cewek pinter nyepong mungkin ad...           1\n",
      "6826  peluk belakang buka gamis carla buka celana ge...           1\n",
      "6831  memek sudah ngeluarkan anak asa sempit jari ma...           1\n",
      "6835  itu cukur fah biar lebat rt jembut tumbuh rul ...           1\n",
      "6843  bahan coli bokepsemi bokepindo sepong amoy bis...           1\n",
      "6849  kdg aku rse cukup psal kamu dar kali kakak lak...           1\n",
      "6851  jilat mis v iya naik atas puting susu lumat iy...           1\n",
      "6854  ida blsan sms ny sms kmu tu sange berat ini tu...           1\n",
      "6860  yah mau ngewe lah hahahart kawinin bunda maria...           1\n",
      "6871  jadi kertas tidak kembali sempurna di remas te...           1\n",
      "6909  susu rt jk kmu mrasa pingsan remas benda saja ...           1\n",
      "6932  tertawa sapi coba bayangin ampir ari susu di e...           1\n",
      "6934  foto memek sempit anak gadis perawan foto meme...           1\n",
      "6940  jembut mu bau aku harum boy rt kya jembut rt b...           1\n",
      "6943  taudah ingin salty f inti cerita sengama ewe b...           1\n",
      "6958  kadang cowok a anjing ningalin anak istri cma ...           1\n",
      "6960  cerita cerita dewasa remas susu asi cerita gp ...           1\n",
      "6962  cewek sange mau dipuasin abg whatsap kontolged...           1\n",
      "6968  hy sayang malam mingu iya avail cileungsi iya ...           1\n",
      "6969  tante muda cantik pamer jembut lebat foto tant...           1\n",
      "6970  nyusu biar kuat nyodoknya tengah tegang sih ya...           1\n",
      "6975  ngajakin chat seru pada kirim foto sange ngewe...           1\n",
      "6976  sange butuh cewek vcs ayo id line hot sange me...           1\n",
      "\n",
      "[4158 rows x 2 columns]\n"
     ]
    }
   ],
   "source": [
    "porno = pd.DataFrame(netralporn)\n",
    "porno = pd.DataFrame(porno.loc[:, ['stem', 'pornografi']])\n",
    "print(porno)"
   ]
  },
  {
   "cell_type": "code",
   "execution_count": 0,
   "metadata": {
    "colab": {
     "base_uri": "https://localhost:8080/",
     "height": 1000
    },
    "colab_type": "code",
    "id": "4_EwnewX9XtQ",
    "outputId": "4a31b891-d999-4e3a-a1a9-1b3fdb0ea5b6"
   },
   "outputs": [
    {
     "name": "stdout",
     "output_type": "stream",
     "text": [
      "                                         original_text  ...                                               stem\n",
      "2    Pertama kali denger lagunya enk bgt in dan png...  ...  kali denger lagu enk in pngn praktekin gerakan...\n",
      "3    astajim, ini pasti yg kasih penghargaan ke ibu...  ...  astajim pasti kasih penghargan ibu sri antek a...\n",
      "4    beda kalo disini kalo komplain lgs di bully am...  ...  beda keluh langsung buly genk di nya kalau di ...\n",
      "5    @SBYudhoyono kalo keberagamannya ada tapi ga d...  ...  agama tapi diangep tapi dilupain tapi rusak pa...\n",
      "7    @made.soe.production yupss setuju .. bodoamat ...  ...  soe production yups tuju bodoamat tga sblh bil...\n",
      "9    Mbak, please,mohon dengan sangat berenti donk ...  ...  mbak mohon mohon sangat renti pamer susu kya g...\n",
      "14   Bisa di bikin lagu tu ha-ha-ha mari kita cipta...  ...  di lagu tu tertawa tertawa tertawa kita cipta ...\n",
      "17   @irma_wahyuniii namanya juga laki asli mbak.. ...  ...  nama laki asli mbak iya tidak malu nya tertawa...\n",
      "18   Besok kalo aku pulang ke tana air keluarga ku ...  ...  besok aku pulang tana air keluarga ku suru mas...\n",
      "19   [img]https://s.kaskus.id/images/2018/01/26/100...  ...  ajang cari bakat talent hunt laku audisi audis...\n",
      "20   Tong di baturan lah urang mah kafir :')RT @pad...  ...  tong baturan saya mah kafir rt pergi kelas wan...\n",
      "21   Kl udah cantik dari lahir mah bebas ..mau paka...  ...  sudah cantik lahir mah bebas pakai daster baju...\n",
      "24   [QUOTE=dian3012;5b0ba5261ee5df024a8b456c]\\n\\nE...  ...  nemg salur tenaga kerja nohope ncari jobstret ...\n",
      "30   [QUOTE=Optima85;536595759]No offense jg ya gan...  ...  nomor ofense iya juragan nyg dipermasalahin or...\n",
      "33   huum @verosvante merugikan pihak wanita dan an...  ...  rumah rugi wanita anak nikah siri depa ada sur...\n",
      "34   @indahterindah tergantung perusahaan nya mba.....  ...  gantung usah nya mbak resmi bayar bagasi kalau...\n",
      "36   Keciduk ???? Kalian pikir pemberitaan itu bena...  ...  ciduk pikir rit benar ahahaha berita karang pa...\n",
      "40   @verosvante klo nikah siri emangnya knp. Toh n...  ...  nikah siri memang toh nikah habib duda kali ni...\n",
      "41   Pengen cepet2 liat album terbarunya deh.. lagu...  ...  cepet lihat album baru deh lagu bagus suara ba...\n",
      "42   Di jemput nya di garbarata lho 🙌🏻, aku aja di ...  ...  jemput nya garbarata lho saja jemput parkir dr...\n",
      "43   @abang_bono  abang atau tante ses mungkin,mend...  ...  abang tante ses mending laki suka dandan tuntu...\n",
      "45   chapter one : ahok jadi korban kriminalisasi\\n...  ...  chapter one ahok korban kriminalisasi nchapter...\n",
      "46   @doiextraordinaryy lagian kak mereka kan ngaku...  ...  kak kan aku mereka transgender kalau satu tah ...\n",
      "47   lha wong alm ibu ku bukan muslim mas... aku yo...  ...  lha alm ku muslim mas iya tanya agama mu opo b...\n",
      "48   MAMPUUUUUSS MU makan tuh maen bertahan!!!!! :n...  ...  mampus mu makan main tahan tertawa tertawa ter...\n",
      "51   commented: salut ah buat DPR yang satu ini... ...  ...  comented salut ah dpr satu kalau turki mantan ...\n",
      "53   Parpol yg katanya paling muslim aja korupsi im...  ...  partai politik kata muslim korupsi impor dagin...\n",
      "54   ini siapa sih yg dimaksud, ko gw ngga paham ya...  ...  sih maksud aku paham iya kakak perempuan hs al...\n",
      "55   trit beginian untuk pengikut agama kebencian t...  ...  trit ikut agama benci ada guna wakaka nyg mau ...\n",
      "60   widih ulama turki mengundang untuk bertukar pi...  ...  widih ulama turki undang tukar pikir kira piki...\n",
      "..                                                 ...  ...                                                ...\n",
      "560  Tante Jilbab Sepong Kontol Gede Mulut Sampe Ga...  ...  tante jilbab sepong kontol mulut tidak muat fo...\n",
      "576  @BasherRL heh kontol, jan sok pemes lu di rp, ...  ...  heh kontol jan sok mes di rp muka memek orang ...\n",
      "578  Gila lu ndro \"@Ardix_: Contohnya tetek. RT @in...  ...  gila ndro contoh tetek rt jk kmu mau pingsan r...\n",
      "597  Subuh ginih dingin lagi kaya yach enak kalau n...  ...  subuh ginih dingin kaya yach enak ngewe soalya...\n",
      "604  WAJIB NONTON! JANGAN TERHARU\\n (Video lengkapn...  ...  wajib nonton haru video lengkap tag cewek abg ...\n",
      "611  @pikiii_ X=5, Y=9, Z<4. Maka, jumlah bulu kete...  ...  kali iya z jumlah bulu ketek saipul jamil hela...\n",
      "621  Serius nanya✌ itu nenen ada areola nya nggk?? ...  ...  serius itu tetek areola nya kasih ke publik bi...\n",
      "625  Cerita 17 tahun remas tetek dalam berdansa: Ce...  ...  cerita remas tetek dansa cerita gp porno foto ...\n",
      "636  BAHAN COLI \\n#sexy #bispak #birahi #toket #put...  ...  bahan coli seksi bispak birah tetek puting jil...\n",
      "641  @minnieginny aku ga suka kenceng2 main nya, is...  ...  tidak suka kenceng main nya isep remas pelan b...\n",
      "646  \"Ah..apakah itu yang dinamakan te**tek sapi?co...  ...  ah itu nama te tek sapi coba remas cair putih ...\n",
      "652  Memek RT @niaaabulbul: Ngentot RT @restyfradit...  ...  memek rt sengama rt kontol rt tawa dikit ah ad...\n",
      "653  Bg, neng mau nanya.\" | \"Nanya apa, neng?\" | \"C...  ...  abang neng tanya apa neng buat kakak perempuan...\n",
      "666  [quote=adopt6.rape9;5af87a30a2c06eb8628b4567]p...  ...  nudah habis sabun kamar mandi sat nasbung angk...\n",
      "672  Sabar yaa ayu :) sabarsabar RT @ayuuapl: anjen...  ...  sabar iya ayu sabarsabar rt anjeng mas bagus i...\n",
      "678  @evetheresia aaaasssshhhhh uuugghhh memek kamu...  ...  ash ugh memek sempit sayang ah nikmat pegang p...\n",
      "685  wakakakakaka RT @Barirul: Kalo itu baru dicuku...  ...  wakakakakaka rt itu cukur fah biar lebat rt je...\n",
      "686  BAHAN COLI \\n#bokepsemi #bokepindo #sepong #am...  ...  bahan coli bokepsemi bokepindo sepong amoy bis...\n",
      "689  Foto Memek Sempit Anak SMP Gadis Perawan: Foto...  ...  foto memek sempit anak gadis perawan foto meme...\n",
      "703  yuk ahh\\n#sange #ngewe #memek #tante #ngentot ...  ...  ayo ah sange ngewe memek tante sengama seks ja...\n",
      "705  Mnurut gua sih terserah ka lucinta luna aja .....  ...  mnurut sih serah kakak lucinta luna yang bukan...\n",
      "711  Aku ga pernah ky gitu kan anak baik2 RT @cpand...  ...  tidak seperti kan anak rt ngewe orang tema dia...\n",
      "712  Anuku rusak si sepong lonte RT @lotarmateus: S...  ...  anu rusak sih sepong lonte rt sirsak sih jambu...\n",
      "719  isi sloot malam ini kak masih banyak sloot yaa...  ...  isi slot malam kak banyak slot iya avail jogja...\n",
      "721  I added a video to a @YouTube playlist http://...  ...  i aded a video to a playlist sawer hot remas s...\n",
      "722  Itu buah dada ny bsa ga d pamerin mulu, kita y...  ...  buah dada ny tidak pamerin melulu yang bnar wa...\n",
      "736  Aku keluarin dimana beib?\"@nadiabohay: Oohh ye...  ...  keluarin mana beib yeah oh ohrt di bwah yah ya...\n",
      "739  Open vcs and member, chat wa; 085865115634 Bur...  ...  open vcs member chat whatsap buru iya sayang e...\n",
      "759  twit #parah !! RT @damar_fun ikutan dong :)) R...  ...  twit parah rt ikut rt bugil kamar puting kok w...\n",
      "765  Pengen jd wartawan gw, mayan bs ngewe gratis R...  ...  jadi wartawan lumayan ngewe gratis rt sakti id...\n",
      "\n",
      "[466 rows x 9 columns]\n"
     ]
    }
   ],
   "source": [
    "netral_test = test[(test['pornografi']==0) & (test['sara']==0) & (test['radikalisme']==0) & (test['pencemaran_nama_baik']==0)]\n",
    "pornografi_test = test[(test['sara']==0) & (test['pornografi']==1) & (test['radikalisme']==0) & (test['pencemaran_nama_baik']==0)]\n",
    "netralporn_test = pd.concat([netral_test, pornografi_test])\n",
    "print(netralporn_test)"
   ]
  },
  {
   "cell_type": "code",
   "execution_count": 0,
   "metadata": {
    "colab": {
     "base_uri": "https://localhost:8080/",
     "height": 1000
    },
    "colab_type": "code",
    "id": "nudKR1l09cZQ",
    "outputId": "8b4cc9c8-5ffb-40ab-b322-c05fd2d86376"
   },
   "outputs": [
    {
     "name": "stdout",
     "output_type": "stream",
     "text": [
      "                                                  stem  pornografi\n",
      "2    kali denger lagu enk in pngn praktekin gerakan...           0\n",
      "3    astajim pasti kasih penghargan ibu sri antek a...           0\n",
      "4    beda keluh langsung buly genk di nya kalau di ...           0\n",
      "5    agama tapi diangep tapi dilupain tapi rusak pa...           0\n",
      "7    soe production yups tuju bodoamat tga sblh bil...           0\n",
      "9    mbak mohon mohon sangat renti pamer susu kya g...           0\n",
      "14   di lagu tu tertawa tertawa tertawa kita cipta ...           0\n",
      "17   nama laki asli mbak iya tidak malu nya tertawa...           0\n",
      "18   besok aku pulang tana air keluarga ku suru mas...           0\n",
      "19   ajang cari bakat talent hunt laku audisi audis...           0\n",
      "20   tong baturan saya mah kafir rt pergi kelas wan...           0\n",
      "21   sudah cantik lahir mah bebas pakai daster baju...           0\n",
      "24   nemg salur tenaga kerja nohope ncari jobstret ...           0\n",
      "30   nomor ofense iya juragan nyg dipermasalahin or...           0\n",
      "33   rumah rugi wanita anak nikah siri depa ada sur...           0\n",
      "34   gantung usah nya mbak resmi bayar bagasi kalau...           0\n",
      "36   ciduk pikir rit benar ahahaha berita karang pa...           0\n",
      "40   nikah siri memang toh nikah habib duda kali ni...           0\n",
      "41   cepet lihat album baru deh lagu bagus suara ba...           0\n",
      "42   jemput nya garbarata lho saja jemput parkir dr...           0\n",
      "43   abang tante ses mending laki suka dandan tuntu...           0\n",
      "45   chapter one ahok korban kriminalisasi nchapter...           0\n",
      "46   kak kan aku mereka transgender kalau satu tah ...           0\n",
      "47   lha alm ku muslim mas iya tanya agama mu opo b...           0\n",
      "48   mampus mu makan main tahan tertawa tertawa ter...           0\n",
      "51   comented salut ah dpr satu kalau turki mantan ...           0\n",
      "53   partai politik kata muslim korupsi impor dagin...           0\n",
      "54   sih maksud aku paham iya kakak perempuan hs al...           0\n",
      "55   trit ikut agama benci ada guna wakaka nyg mau ...           0\n",
      "60   widih ulama turki undang tukar pikir kira piki...           0\n",
      "..                                                 ...         ...\n",
      "560  tante jilbab sepong kontol mulut tidak muat fo...           1\n",
      "576  heh kontol jan sok mes di rp muka memek orang ...           1\n",
      "578  gila ndro contoh tetek rt jk kmu mau pingsan r...           1\n",
      "597  subuh ginih dingin kaya yach enak ngewe soalya...           1\n",
      "604  wajib nonton haru video lengkap tag cewek abg ...           1\n",
      "611  kali iya z jumlah bulu ketek saipul jamil hela...           1\n",
      "621  serius itu tetek areola nya kasih ke publik bi...           1\n",
      "625  cerita remas tetek dansa cerita gp porno foto ...           1\n",
      "636  bahan coli seksi bispak birah tetek puting jil...           1\n",
      "641  tidak suka kenceng main nya isep remas pelan b...           1\n",
      "646  ah itu nama te tek sapi coba remas cair putih ...           1\n",
      "652  memek rt sengama rt kontol rt tawa dikit ah ad...           1\n",
      "653  abang neng tanya apa neng buat kakak perempuan...           1\n",
      "666  nudah habis sabun kamar mandi sat nasbung angk...           1\n",
      "672  sabar iya ayu sabarsabar rt anjeng mas bagus i...           1\n",
      "678  ash ugh memek sempit sayang ah nikmat pegang p...           1\n",
      "685  wakakakakaka rt itu cukur fah biar lebat rt je...           1\n",
      "686  bahan coli bokepsemi bokepindo sepong amoy bis...           1\n",
      "689  foto memek sempit anak gadis perawan foto meme...           1\n",
      "703  ayo ah sange ngewe memek tante sengama seks ja...           1\n",
      "705  mnurut sih serah kakak lucinta luna yang bukan...           1\n",
      "711  tidak seperti kan anak rt ngewe orang tema dia...           1\n",
      "712  anu rusak sih sepong lonte rt sirsak sih jambu...           1\n",
      "719  isi slot malam kak banyak slot iya avail jogja...           1\n",
      "721  i aded a video to a playlist sawer hot remas s...           1\n",
      "722  buah dada ny tidak pamerin melulu yang bnar wa...           1\n",
      "736  keluarin mana beib yeah oh ohrt di bwah yah ya...           1\n",
      "739  open vcs member chat whatsap buru iya sayang e...           1\n",
      "759  twit parah rt ikut rt bugil kamar puting kok w...           1\n",
      "765  jadi wartawan lumayan ngewe gratis rt sakti id...           1\n",
      "\n",
      "[466 rows x 2 columns]\n"
     ]
    }
   ],
   "source": [
    "porno_test = pd.DataFrame(netralporn_test)\n",
    "porno_test = pd.DataFrame(porno_test.loc[:, ['stem', 'pornografi']])\n",
    "print(porno_test)"
   ]
  },
  {
   "cell_type": "code",
   "execution_count": 0,
   "metadata": {
    "colab": {},
    "colab_type": "code",
    "id": "mDHow4qDN9l6"
   },
   "outputs": [],
   "source": [
    "train_porno, test_porno = split_dataset(netralporn)"
   ]
  },
  {
   "cell_type": "code",
   "execution_count": 0,
   "metadata": {
    "colab": {},
    "colab_type": "code",
    "id": "LTX6fhjlOEAg"
   },
   "outputs": [],
   "source": [
    "from sklearn.feature_extraction.text import TfidfVectorizer\n",
    "min_df = 10\n",
    "max_df = 0.8\n",
    "\n",
    "train_text = list(train_porno['stem'])\n",
    "test_text = list(test_porno['stem'])\n",
    "\n",
    "tfidf_porno = TfidfVectorizer(sublinear_tf=True, ngram_range=(1, 3), max_df=max_df, min_df=min_df)\n",
    "tfidf_porno.fit(train_text)\n",
    "\n",
    "xtrain_tfidf = tfidf_porno.transform(train_text)\n",
    "xvalid_tfidf = train_porno['label']"
   ]
  },
  {
   "cell_type": "code",
   "execution_count": 0,
   "metadata": {
    "colab": {
     "base_uri": "https://localhost:8080/",
     "height": 901
    },
    "colab_type": "code",
    "id": "ivnD6yXlKaiH",
    "outputId": "48d1b5c5-2d8a-4882-ae06-05951a70e9b2"
   },
   "outputs": [
    {
     "name": "stdout",
     "output_type": "stream",
     "text": [
      "  (0, 16058)\t0.1560014689961609\n",
      "  (0, 14089)\t0.16446828792096344\n",
      "  (0, 13981)\t0.25118752130988165\n",
      "  (0, 13558)\t0.11166570800238511\n",
      "  (0, 12636)\t0.252542106362111\n",
      "  (0, 12354)\t0.1560014689961609\n",
      "  (0, 12183)\t0.4205088515875281\n",
      "  (0, 9600)\t0.4424138602620254\n",
      "  (0, 8592)\t0.1258177016546289\n",
      "  (0, 8114)\t0.13537917435463065\n",
      "  (0, 7688)\t0.47001996267903934\n",
      "  (0, 6506)\t0.13099100113555237\n",
      "  (0, 3540)\t0.1289055055725871\n",
      "  (0, 2728)\t0.24252823336408832\n",
      "  (0, 1573)\t0.17811713945270188\n",
      "  (0, 1121)\t0.13634622521251907\n",
      "  (0, 266)\t0.1199584364173256\n",
      "  (1, 15867)\t0.3401936830795445\n",
      "  (1, 13659)\t0.31290114927516344\n",
      "  (1, 13578)\t0.18031453874460368\n",
      "  (1, 8222)\t0.1458997432008417\n",
      "  (1, 7832)\t0.2495298482541081\n",
      "  (1, 7669)\t0.15285265068700374\n",
      "  (1, 7577)\t0.29693604044993605\n",
      "  (1, 7528)\t0.1881782106036509\n",
      "  :\t:\n",
      "  (2783, 11408)\t0.31042110659486793\n",
      "  (2783, 8650)\t0.29585320896792755\n",
      "  (2783, 8644)\t0.24316939505249718\n",
      "  (2783, 8580)\t0.2131239599122782\n",
      "  (2783, 7959)\t0.2491714572641882\n",
      "  (2783, 7690)\t0.1993634862951751\n",
      "  (2783, 7659)\t0.2405067803660873\n",
      "  (2783, 7054)\t0.11882261908006429\n",
      "  (2783, 6552)\t0.25259584302372506\n",
      "  (2783, 5896)\t0.1859011791723352\n",
      "  (2783, 5735)\t0.22267037078746457\n",
      "  (2783, 452)\t0.31042110659486793\n",
      "  (2784, 16695)\t0.25067073243685417\n",
      "  (2784, 15497)\t0.1398874747080179\n",
      "  (2784, 14308)\t0.4195425069293525\n",
      "  (2784, 12973)\t0.27484171962454385\n",
      "  (2784, 8851)\t0.2613848564449268\n",
      "  (2784, 8282)\t0.2114493727743325\n",
      "  (2784, 7938)\t0.24505445129152717\n",
      "  (2784, 7431)\t0.20338436691422096\n",
      "  (2784, 6826)\t0.2322187765813409\n",
      "  (2784, 5812)\t0.34635403779608825\n",
      "  (2784, 5523)\t0.311435954191176\n",
      "  (2784, 2181)\t0.26550078307022756\n",
      "  (2784, 1359)\t0.3319974820023457\n"
     ]
    }
   ],
   "source": [
    "print(xtrain_tfidf)"
   ]
  },
  {
   "cell_type": "code",
   "execution_count": 0,
   "metadata": {
    "colab": {},
    "colab_type": "code",
    "id": "e43cs-l5Kafg"
   },
   "outputs": [],
   "source": [
    "from sklearn.naive_bayes import MultinomialNB\n",
    "from sklearn.metrics import confusion_matrix\n",
    "\n",
    "mnb = MultinomialNB()\n",
    "mnb = mnb.fit(xtrain_tfidf, train_y)\n",
    "hasil_mnb = mnb.predict(xvalid_tfidf)"
   ]
  },
  {
   "cell_type": "code",
   "execution_count": 0,
   "metadata": {
    "colab": {
     "base_uri": "https://localhost:8080/",
     "height": 34
    },
    "colab_type": "code",
    "id": "kXxAVcUUKabr",
    "outputId": "16c17c88-bd7e-44d0-a5f7-e6c23bef46d6"
   },
   "outputs": [
    {
     "name": "stdout",
     "output_type": "stream",
     "text": [
      "[0 0 0 ... 0 1 0]\n"
     ]
    }
   ],
   "source": [
    "print(hasil_mnb)"
   ]
  },
  {
   "cell_type": "code",
   "execution_count": 0,
   "metadata": {
    "colab": {
     "base_uri": "https://localhost:8080/",
     "height": 52
    },
    "colab_type": "code",
    "id": "KRSskWl3KaY0",
    "outputId": "4fe1b2d0-920b-4c12-ba6d-377993f83bd5"
   },
   "outputs": [
    {
     "data": {
      "text/plain": [
       "array([[1024,   93],\n",
       "       [   1,  255]])"
      ]
     },
     "execution_count": 17,
     "metadata": {
      "tags": []
     },
     "output_type": "execute_result"
    }
   ],
   "source": [
    "confusion_matrix(hasil_mnb, valid_y)"
   ]
  },
  {
   "cell_type": "code",
   "execution_count": 0,
   "metadata": {
    "colab": {
     "base_uri": "https://localhost:8080/",
     "height": 173
    },
    "colab_type": "code",
    "id": "gjy-ii16KaXU",
    "outputId": "15d6e90f-bf8f-4e36-a47b-7e293f047e56"
   },
   "outputs": [
    {
     "name": "stdout",
     "output_type": "stream",
     "text": [
      "              precision    recall  f1-score   support\n",
      "\n",
      "           0       1.00      0.92      0.96      1117\n",
      "           1       0.73      1.00      0.84       256\n",
      "\n",
      "    accuracy                           0.93      1373\n",
      "   macro avg       0.87      0.96      0.90      1373\n",
      "weighted avg       0.95      0.93      0.94      1373\n",
      "\n"
     ]
    }
   ],
   "source": [
    "from sklearn.metrics import classification_report\n",
    "print(classification_report(hasil_mnb, valid_y))"
   ]
  },
  {
   "cell_type": "code",
   "execution_count": 0,
   "metadata": {
    "colab": {},
    "colab_type": "code",
    "id": "3KyJRlvb91gQ"
   },
   "outputs": [],
   "source": [
    "from joblib import dump, load\n",
    "model_mnb_porno = dump(mnb, '/content/drive/My Drive/model_mnb_porno.joblib')"
   ]
  },
  {
   "cell_type": "code",
   "execution_count": 0,
   "metadata": {
    "colab": {
     "base_uri": "https://localhost:8080/",
     "height": 72
    },
    "colab_type": "code",
    "id": "vuBYxkl_sg-s",
    "outputId": "a975b3c9-3846-4298-b819-d644ed1d11e2"
   },
   "outputs": [
    {
     "name": "stderr",
     "output_type": "stream",
     "text": [
      "/usr/local/lib/python3.6/dist-packages/sklearn/svm/base.py:193: FutureWarning: The default value of gamma will change from 'auto' to 'scale' in version 0.22 to account better for unscaled features. Set gamma explicitly to 'auto' or 'scale' to avoid this warning.\n",
      "  \"avoid this warning.\", FutureWarning)\n"
     ]
    }
   ],
   "source": [
    "from sklearn.svm import SVC\n",
    "\n",
    "svm = SVC(kernel = 'sigmoid', random_state = 42)\n",
    "svm = svm.fit(xtrain_tfidf, train_y)\n",
    "hasil_svm = svm.predict(xvalid_tfidf)"
   ]
  },
  {
   "cell_type": "code",
   "execution_count": 0,
   "metadata": {
    "colab": {
     "base_uri": "https://localhost:8080/",
     "height": 34
    },
    "colab_type": "code",
    "id": "KQyZvPJFsjzu",
    "outputId": "14a2abd4-2e27-42d9-f2dc-4467131684ec"
   },
   "outputs": [
    {
     "name": "stdout",
     "output_type": "stream",
     "text": [
      "[0 0 0 ... 0 0 0]\n"
     ]
    }
   ],
   "source": [
    "print(hasil_svm)"
   ]
  },
  {
   "cell_type": "code",
   "execution_count": 0,
   "metadata": {
    "colab": {
     "base_uri": "https://localhost:8080/",
     "height": 52
    },
    "colab_type": "code",
    "id": "KZ51ILfnsmJT",
    "outputId": "7b22e242-e51f-4e4b-e88f-26a1bbe3179c"
   },
   "outputs": [
    {
     "data": {
      "text/plain": [
       "array([[1025,  348],\n",
       "       [   0,    0]])"
      ]
     },
     "execution_count": 26,
     "metadata": {
      "tags": []
     },
     "output_type": "execute_result"
    }
   ],
   "source": [
    "confusion_matrix(hasil_svm, valid_y)"
   ]
  },
  {
   "cell_type": "code",
   "execution_count": 0,
   "metadata": {
    "colab": {
     "base_uri": "https://localhost:8080/",
     "height": 228
    },
    "colab_type": "code",
    "id": "oVPjF_9Zsox9",
    "outputId": "ecf6e284-f06d-4924-f545-c1270a530bb3"
   },
   "outputs": [
    {
     "name": "stdout",
     "output_type": "stream",
     "text": [
      "              precision    recall  f1-score   support\n",
      "\n",
      "           0       1.00      0.75      0.85      1373\n",
      "           1       0.00      0.00      0.00         0\n",
      "\n",
      "    accuracy                           0.75      1373\n",
      "   macro avg       0.50      0.37      0.43      1373\n",
      "weighted avg       1.00      0.75      0.85      1373\n",
      "\n"
     ]
    },
    {
     "name": "stderr",
     "output_type": "stream",
     "text": [
      "/usr/local/lib/python3.6/dist-packages/sklearn/metrics/classification.py:1439: UndefinedMetricWarning: Recall and F-score are ill-defined and being set to 0.0 in labels with no true samples.\n",
      "  'recall', 'true', average, warn_for)\n"
     ]
    }
   ],
   "source": [
    "from sklearn.metrics import classification_report\n",
    "print(classification_report(hasil_svm, valid_y))"
   ]
  },
  {
   "cell_type": "code",
   "execution_count": 0,
   "metadata": {
    "colab": {},
    "colab_type": "code",
    "id": "LlK7kmrf-EQu"
   },
   "outputs": [],
   "source": [
    "model_svm_porno = dump(svm, '/content/drive/My Drive/model_svm_porno.joblib') "
   ]
  },
  {
   "cell_type": "code",
   "execution_count": 0,
   "metadata": {
    "colab": {
     "base_uri": "https://localhost:8080/",
     "height": 72
    },
    "colab_type": "code",
    "id": "x9N_dNqossCS",
    "outputId": "88394be8-b487-46b8-dbdc-653ecfbd5ae3"
   },
   "outputs": [
    {
     "name": "stderr",
     "output_type": "stream",
     "text": [
      "/usr/local/lib/python3.6/dist-packages/sklearn/model_selection/_split.py:1978: FutureWarning: The default value of cv will change from 3 to 5 in version 0.22. Specify it explicitly to silence this warning.\n",
      "  warnings.warn(CV_WARNING, FutureWarning)\n"
     ]
    }
   ],
   "source": [
    "from sklearn.svm import LinearSVC\n",
    "from sklearn.calibration import CalibratedClassifierCV\n",
    "\n",
    "classifier = LinearSVC(C=1.0, max_iter=10000, tol=0.0001)\n",
    "classifier = CalibratedClassifierCV(classifier)\n",
    "classifier.fit(xtrain_tfidf, train_y)\n",
    "hasil_svc= classifier.predict(xvalid_tfidf)"
   ]
  },
  {
   "cell_type": "code",
   "execution_count": 0,
   "metadata": {
    "colab": {
     "base_uri": "https://localhost:8080/",
     "height": 52
    },
    "colab_type": "code",
    "id": "Qnn9G2jQsyT-",
    "outputId": "31c1e4c3-4c99-4684-a70c-b492db50271a"
   },
   "outputs": [
    {
     "data": {
      "text/plain": [
       "array([[1017,   23],\n",
       "       [   8,  325]])"
      ]
     },
     "execution_count": 30,
     "metadata": {
      "tags": []
     },
     "output_type": "execute_result"
    }
   ],
   "source": [
    "confusion_matrix(hasil_svc, vconfusion_matrix(hasil_svm, valid_y)alid_y)"
   ]
  },
  {
   "cell_type": "code",
   "execution_count": 0,
   "metadata": {
    "colab": {
     "base_uri": "https://localhost:8080/",
     "height": 34
    },
    "colab_type": "code",
    "id": "zM5FdlPzs6PO",
    "outputId": "94adcfd2-1de5-4b60-9cf3-9694b3618061"
   },
   "outputs": [
    {
     "name": "stdout",
     "output_type": "stream",
     "text": [
      "[0 0 0 ... 0 1 0]\n"
     ]
    }
   ],
   "source": [
    "print(hasil_svc)"
   ]
  },
  {
   "cell_type": "code",
   "execution_count": 0,
   "metadata": {
    "colab": {
     "base_uri": "https://localhost:8080/",
     "height": 173
    },
    "colab_type": "code",
    "id": "wb3BDVE1s2Dj",
    "outputId": "f244ee95-8aeb-44b4-9e70-64ff5655491b"
   },
   "outputs": [
    {
     "name": "stdout",
     "output_type": "stream",
     "text": [
      "              precision    recall  f1-score   support\n",
      "\n",
      "           0       0.99      0.98      0.98      1040\n",
      "           1       0.93      0.98      0.95       333\n",
      "\n",
      "    accuracy                           0.98      1373\n",
      "   macro avg       0.96      0.98      0.97      1373\n",
      "weighted avg       0.98      0.98      0.98      1373\n",
      "\n"
     ]
    }
   ],
   "source": [
    "print(classification_report(hasil_svc, valid_y))"
   ]
  },
  {
   "cell_type": "code",
   "execution_count": 0,
   "metadata": {
    "colab": {},
    "colab_type": "code",
    "id": "VBVQOuA--UYw"
   },
   "outputs": [],
   "source": [
    "model_svc_porno = dump(mnb, '/content/drive/My Drive/model_svc_porno.joblib') "
   ]
  },
  {
   "cell_type": "code",
   "execution_count": 0,
   "metadata": {
    "colab": {},
    "colab_type": "code",
    "id": "EEWtYdEr-dwE"
   },
   "outputs": [],
   "source": [
    "from sklearn.svm import SVC\n",
    "\n",
    "svm_linear = SVC(kernel = 'linear', random_state = 42)\n",
    "svm_linear = svm_linear.fit(xtrain_tfidf, train_y)\n",
    "hasil_svm_linear = svm_linear.predict(xvalid_tfidf)"
   ]
  },
  {
   "cell_type": "code",
   "execution_count": 0,
   "metadata": {
    "colab": {
     "base_uri": "https://localhost:8080/",
     "height": 34
    },
    "colab_type": "code",
    "id": "g8_ir5iJ-qEZ",
    "outputId": "70183b0a-ce62-4837-d8ad-018c00757123"
   },
   "outputs": [
    {
     "name": "stdout",
     "output_type": "stream",
     "text": [
      "[0 0 0 ... 0 1 0]\n"
     ]
    }
   ],
   "source": [
    "print(hasil_svm_linear)"
   ]
  },
  {
   "cell_type": "code",
   "execution_count": 0,
   "metadata": {
    "colab": {
     "base_uri": "https://localhost:8080/",
     "height": 52
    },
    "colab_type": "code",
    "id": "8WkIgE6u-uZl",
    "outputId": "d14d9fca-3d96-4374-88b7-cab4d5549f53"
   },
   "outputs": [
    {
     "data": {
      "text/plain": [
       "array([[1024,   30],\n",
       "       [   1,  318]])"
      ]
     },
     "execution_count": 36,
     "metadata": {
      "tags": []
     },
     "output_type": "execute_result"
    }
   ],
   "source": [
    "confusion_matrix(hasil_svm_linear, valid_y)"
   ]
  },
  {
   "cell_type": "code",
   "execution_count": 0,
   "metadata": {
    "colab": {
     "base_uri": "https://localhost:8080/",
     "height": 173
    },
    "colab_type": "code",
    "id": "fGSPBUIX-1pn",
    "outputId": "80be7202-8e58-4438-b891-5f6f9345d82c"
   },
   "outputs": [
    {
     "name": "stdout",
     "output_type": "stream",
     "text": [
      "              precision    recall  f1-score   support\n",
      "\n",
      "           0       1.00      0.97      0.99      1054\n",
      "           1       0.91      1.00      0.95       319\n",
      "\n",
      "    accuracy                           0.98      1373\n",
      "   macro avg       0.96      0.98      0.97      1373\n",
      "weighted avg       0.98      0.98      0.98      1373\n",
      "\n"
     ]
    }
   ],
   "source": [
    "print(classification_report(hasil_svm_linear, valid_y))"
   ]
  },
  {
   "cell_type": "code",
   "execution_count": 0,
   "metadata": {
    "colab": {},
    "colab_type": "code",
    "id": "Zn59dh98-89W"
   },
   "outputs": [],
   "source": [
    "model_porno = Pipeline([('vectorizer', tfidf_porno), ('svc', classifier_porno)])\n",
    "with open('model_porno.joblib', \"wb\") as f:\n",
    "    joblib.dump(model_porno, f)"
   ]
  },
  {
   "cell_type": "code",
   "execution_count": 0,
   "metadata": {
    "colab": {
     "base_uri": "https://localhost:8080/",
     "height": 288
    },
    "colab_type": "code",
    "id": "JVPeRSOWSP2z",
    "outputId": "38a63004-b219-4dbe-961a-0ff498cefe08"
   },
   "outputs": [
    {
     "name": "stderr",
     "output_type": "stream",
     "text": [
      "/usr/local/lib/python3.6/dist-packages/sklearn/base.py:306: UserWarning: Trying to unpickle estimator TfidfTransformer from version 0.21.2 when using version 0.21.3. This might lead to breaking code or invalid results. Use at your own risk.\n",
      "  UserWarning)\n",
      "/usr/local/lib/python3.6/dist-packages/sklearn/base.py:306: UserWarning: Trying to unpickle estimator TfidfVectorizer from version 0.21.2 when using version 0.21.3. This might lead to breaking code or invalid results. Use at your own risk.\n",
      "  UserWarning)\n",
      "/usr/local/lib/python3.6/dist-packages/sklearn/base.py:306: UserWarning: Trying to unpickle estimator LinearSVC from version 0.21.2 when using version 0.21.3. This might lead to breaking code or invalid results. Use at your own risk.\n",
      "  UserWarning)\n",
      "/usr/local/lib/python3.6/dist-packages/sklearn/base.py:306: UserWarning: Trying to unpickle estimator LabelEncoder from version 0.21.2 when using version 0.21.3. This might lead to breaking code or invalid results. Use at your own risk.\n",
      "  UserWarning)\n",
      "/usr/local/lib/python3.6/dist-packages/sklearn/base.py:306: UserWarning: Trying to unpickle estimator _SigmoidCalibration from version 0.21.2 when using version 0.21.3. This might lead to breaking code or invalid results. Use at your own risk.\n",
      "  UserWarning)\n",
      "/usr/local/lib/python3.6/dist-packages/sklearn/base.py:306: UserWarning: Trying to unpickle estimator CalibratedClassifierCV from version 0.21.2 when using version 0.21.3. This might lead to breaking code or invalid results. Use at your own risk.\n",
      "  UserWarning)\n",
      "/usr/local/lib/python3.6/dist-packages/sklearn/base.py:306: UserWarning: Trying to unpickle estimator Pipeline from version 0.21.2 when using version 0.21.3. This might lead to breaking code or invalid results. Use at your own risk.\n",
      "  UserWarning)\n"
     ]
    }
   ],
   "source": [
    "model_porno_import = load('/content/drive/My Drive/model_porno.joblib') "
   ]
  },
  {
   "cell_type": "code",
   "execution_count": 0,
   "metadata": {
    "colab": {},
    "colab_type": "code",
    "id": "VS_YMWy6SSvu"
   },
   "outputs": [],
   "source": [
    "predict_porno = model_porno_import.predict([\"\"\"RT colok memek pke kontol psti bkin smangat @cewedodol: bete di kamar trus tiduran trus.. uuh badan'y lg gk enak ngapa2in..\"\"\"])"
   ]
  },
  {
   "cell_type": "code",
   "execution_count": 0,
   "metadata": {
    "colab": {
     "base_uri": "https://localhost:8080/",
     "height": 34
    },
    "colab_type": "code",
    "id": "YSO4p3PNSWzN",
    "outputId": "36575834-ffa5-427b-fe89-54ab1060cbab"
   },
   "outputs": [
    {
     "data": {
      "text/plain": [
       "1"
      ]
     },
     "execution_count": 23,
     "metadata": {
      "tags": []
     },
     "output_type": "execute_result"
    }
   ],
   "source": [
    "predict_porno[0]"
   ]
  },
  {
   "cell_type": "code",
   "execution_count": 0,
   "metadata": {
    "colab": {},
    "colab_type": "code",
    "id": "ZrmBfkIQSez0"
   },
   "outputs": [],
   "source": [
    "predict_porno = model_porno_import.predict(['dan dan nah muncul bani bodoh nmaksud hati ingin klihatan pinter bahkan pamer kegoblokan dan tertawa dan dan nmaksud ketuhanan yang maha esa benar aturan tuhan yang dijunjung npertanyanya tuhan yang mana iya jelas tuhan yang di adaptasi di beberapa agama yang diakui dong nlah dari sekian banyak agama yang diakui di indonesia termasuk aliran kepercayan baru baru ini memang kamu yakin semua mengharuskan diskriminasi lgbt nya agama kamu saja yang salah kodrat agama lain belum tentu ninget ketuhanan yang maha esa bukan ketuhanan yang maha ika jadi jangan bawa agama kamu yang suka ngebunuh itu di sini bahkan keluar topik dan npamer kegoblokan tertawa nudah balik ke jamban lagi malas nangepin lagi kaum seperti kamu'])"
   ]
  },
  {
   "cell_type": "code",
   "execution_count": 0,
   "metadata": {
    "colab": {
     "base_uri": "https://localhost:8080/",
     "height": 34
    },
    "colab_type": "code",
    "id": "ui9kLbV4Shbt",
    "outputId": "02fc0089-1a0a-4fbd-acf0-02eaa1fe273e"
   },
   "outputs": [
    {
     "data": {
      "text/plain": [
       "0"
      ]
     },
     "execution_count": 26,
     "metadata": {
      "tags": []
     },
     "output_type": "execute_result"
    }
   ],
   "source": [
    "predict_porno[0]"
   ]
  },
  {
   "cell_type": "markdown",
   "metadata": {
    "colab_type": "text",
    "id": "gfnUnsRrKb1H"
   },
   "source": [
    "## Model Radikalisme"
   ]
  },
  {
   "cell_type": "code",
   "execution_count": 0,
   "metadata": {
    "colab": {},
    "colab_type": "code",
    "id": "C6q0-LTJKeTq"
   },
   "outputs": [],
   "source": [
    "radikalisme = df[(df['sara']==0) & (df['pornografi']==0) & (df['radikalisme']==1) & (df['pencemaran_nama_baik']==0)]"
   ]
  },
  {
   "cell_type": "code",
   "execution_count": 0,
   "metadata": {
    "colab": {
     "base_uri": "https://localhost:8080/",
     "height": 510
    },
    "colab_type": "code",
    "id": "kx2gyIQKKhUL",
    "outputId": "283059bb-207c-44dc-eaa9-62b89657831d"
   },
   "outputs": [
    {
     "data": {
      "text/html": [
       "<div>\n",
       "<style scoped>\n",
       "    .dataframe tbody tr th:only-of-type {\n",
       "        vertical-align: middle;\n",
       "    }\n",
       "\n",
       "    .dataframe tbody tr th {\n",
       "        vertical-align: top;\n",
       "    }\n",
       "\n",
       "    .dataframe thead th {\n",
       "        text-align: right;\n",
       "    }\n",
       "</style>\n",
       "<table border=\"1\" class=\"dataframe\">\n",
       "  <thead>\n",
       "    <tr style=\"text-align: right;\">\n",
       "      <th></th>\n",
       "      <th>original_text</th>\n",
       "      <th>source</th>\n",
       "      <th>pornografi</th>\n",
       "      <th>sara</th>\n",
       "      <th>radikalisme</th>\n",
       "      <th>pencemaran_nama_baik</th>\n",
       "      <th>processed_text</th>\n",
       "      <th>process</th>\n",
       "    </tr>\n",
       "  </thead>\n",
       "  <tbody>\n",
       "    <tr>\n",
       "      <th>13</th>\n",
       "      <td>@zuhairimisrawi pngusiran syiah ko jadi mirip ...</td>\n",
       "      <td>twitter</td>\n",
       "      <td>0</td>\n",
       "      <td>0</td>\n",
       "      <td>1</td>\n",
       "      <td>0</td>\n",
       "      <td>pngusiran syiah kok jadi mirip sama di usir ny...</td>\n",
       "      <td>zuhairimisrawi pngusiran syiah ko jadi mirip ...</td>\n",
       "    </tr>\n",
       "    <tr>\n",
       "      <th>28</th>\n",
       "      <td>Allahuakbar, demi Allah demi Rasulullah dan pa...</td>\n",
       "      <td>twitter</td>\n",
       "      <td>0</td>\n",
       "      <td>0</td>\n",
       "      <td>1</td>\n",
       "      <td>0</td>\n",
       "      <td>alahuakbar demi alah demi rasululah dan para s...</td>\n",
       "      <td>allahuakbar  demi allah demi rasulullah dan pa...</td>\n",
       "    </tr>\n",
       "    <tr>\n",
       "      <th>62</th>\n",
       "      <td>nah..disinilah letak akar masalahnya..jangan t...</td>\n",
       "      <td>twitter</td>\n",
       "      <td>0</td>\n",
       "      <td>0</td>\n",
       "      <td>1</td>\n",
       "      <td>0</td>\n",
       "      <td>nah disinilah letak akar masalahnya jangan ter...</td>\n",
       "      <td>nah  disinilah letak akar masalahnya  jangan t...</td>\n",
       "    </tr>\n",
       "    <tr>\n",
       "      <th>99</th>\n",
       "      <td>gerombolan yg mau ganti azas Pancasila dgn khi...</td>\n",
       "      <td>twitter</td>\n",
       "      <td>0</td>\n",
       "      <td>0</td>\n",
       "      <td>1</td>\n",
       "      <td>0</td>\n",
       "      <td>gerombolan yang mau ganti asas pancasila denga...</td>\n",
       "      <td>gerombolan yg mau ganti azas pancasila dgn khi...</td>\n",
       "    </tr>\n",
       "    <tr>\n",
       "      <th>101</th>\n",
       "      <td>Allahuakbar, demi Allah demi Rasulullah dan pa...</td>\n",
       "      <td>twitter</td>\n",
       "      <td>0</td>\n",
       "      <td>0</td>\n",
       "      <td>1</td>\n",
       "      <td>0</td>\n",
       "      <td>alahuakbar demi alah demi rasululah dan para s...</td>\n",
       "      <td>allahuakbar  demi allah demi rasulullah dan pa...</td>\n",
       "    </tr>\n",
       "  </tbody>\n",
       "</table>\n",
       "</div>"
      ],
      "text/plain": [
       "                                         original_text  ...                                            process\n",
       "13   @zuhairimisrawi pngusiran syiah ko jadi mirip ...  ...   zuhairimisrawi pngusiran syiah ko jadi mirip ...\n",
       "28   Allahuakbar, demi Allah demi Rasulullah dan pa...  ...  allahuakbar  demi allah demi rasulullah dan pa...\n",
       "62   nah..disinilah letak akar masalahnya..jangan t...  ...  nah  disinilah letak akar masalahnya  jangan t...\n",
       "99   gerombolan yg mau ganti azas Pancasila dgn khi...  ...  gerombolan yg mau ganti azas pancasila dgn khi...\n",
       "101  Allahuakbar, demi Allah demi Rasulullah dan pa...  ...  allahuakbar  demi allah demi rasulullah dan pa...\n",
       "\n",
       "[5 rows x 8 columns]"
      ]
     },
     "execution_count": 21,
     "metadata": {
      "tags": []
     },
     "output_type": "execute_result"
    }
   ],
   "source": [
    "radikalisme.head()"
   ]
  },
  {
   "cell_type": "code",
   "execution_count": 0,
   "metadata": {
    "colab": {},
    "colab_type": "code",
    "id": "yzAzUIqKZgu9"
   },
   "outputs": [],
   "source": [
    "radikalisme = radikalisme[['processed_text', 'radikalisme']].rename(columns={'radikalisme':'label'})"
   ]
  },
  {
   "cell_type": "code",
   "execution_count": 0,
   "metadata": {
    "colab": {
     "base_uri": "https://localhost:8080/",
     "height": 204
    },
    "colab_type": "code",
    "id": "-ogAxPQ0tJc4",
    "outputId": "12a61f1d-a858-4538-db00-64bdc083a1d0"
   },
   "outputs": [
    {
     "data": {
      "text/html": [
       "<div>\n",
       "<style scoped>\n",
       "    .dataframe tbody tr th:only-of-type {\n",
       "        vertical-align: middle;\n",
       "    }\n",
       "\n",
       "    .dataframe tbody tr th {\n",
       "        vertical-align: top;\n",
       "    }\n",
       "\n",
       "    .dataframe thead th {\n",
       "        text-align: right;\n",
       "    }\n",
       "</style>\n",
       "<table border=\"1\" class=\"dataframe\">\n",
       "  <thead>\n",
       "    <tr style=\"text-align: right;\">\n",
       "      <th></th>\n",
       "      <th>processed_text</th>\n",
       "      <th>label</th>\n",
       "    </tr>\n",
       "  </thead>\n",
       "  <tbody>\n",
       "    <tr>\n",
       "      <th>13</th>\n",
       "      <td>pngusiran syiah kok jadi mirip sama di usir ny...</td>\n",
       "      <td>1</td>\n",
       "    </tr>\n",
       "    <tr>\n",
       "      <th>28</th>\n",
       "      <td>alahuakbar demi alah demi rasululah dan para s...</td>\n",
       "      <td>1</td>\n",
       "    </tr>\n",
       "    <tr>\n",
       "      <th>62</th>\n",
       "      <td>nah disinilah letak akar masalahnya jangan ter...</td>\n",
       "      <td>1</td>\n",
       "    </tr>\n",
       "    <tr>\n",
       "      <th>99</th>\n",
       "      <td>gerombolan yang mau ganti asas pancasila denga...</td>\n",
       "      <td>1</td>\n",
       "    </tr>\n",
       "    <tr>\n",
       "      <th>101</th>\n",
       "      <td>alahuakbar demi alah demi rasululah dan para s...</td>\n",
       "      <td>1</td>\n",
       "    </tr>\n",
       "  </tbody>\n",
       "</table>\n",
       "</div>"
      ],
      "text/plain": [
       "                                        processed_text  label\n",
       "13   pngusiran syiah kok jadi mirip sama di usir ny...      1\n",
       "28   alahuakbar demi alah demi rasululah dan para s...      1\n",
       "62   nah disinilah letak akar masalahnya jangan ter...      1\n",
       "99   gerombolan yang mau ganti asas pancasila denga...      1\n",
       "101  alahuakbar demi alah demi rasululah dan para s...      1"
      ]
     },
     "execution_count": 23,
     "metadata": {
      "tags": []
     },
     "output_type": "execute_result"
    }
   ],
   "source": [
    "radikalisme.head()"
   ]
  },
  {
   "cell_type": "code",
   "execution_count": 0,
   "metadata": {
    "colab": {},
    "colab_type": "code",
    "id": "ylG64SQLlAjW"
   },
   "outputs": [],
   "source": [
    "netral = netral[['processed_text']]\n",
    "netral['label'] = 0"
   ]
  },
  {
   "cell_type": "code",
   "execution_count": 0,
   "metadata": {
    "colab": {
     "base_uri": "https://localhost:8080/",
     "height": 204
    },
    "colab_type": "code",
    "id": "Yw3DwUu7lDxr",
    "outputId": "d170e757-5329-4d15-d7fe-a1d3cce50b19"
   },
   "outputs": [
    {
     "data": {
      "text/html": [
       "<div>\n",
       "<style scoped>\n",
       "    .dataframe tbody tr th:only-of-type {\n",
       "        vertical-align: middle;\n",
       "    }\n",
       "\n",
       "    .dataframe tbody tr th {\n",
       "        vertical-align: top;\n",
       "    }\n",
       "\n",
       "    .dataframe thead th {\n",
       "        text-align: right;\n",
       "    }\n",
       "</style>\n",
       "<table border=\"1\" class=\"dataframe\">\n",
       "  <thead>\n",
       "    <tr style=\"text-align: right;\">\n",
       "      <th></th>\n",
       "      <th>processed_text</th>\n",
       "      <th>label</th>\n",
       "    </tr>\n",
       "  </thead>\n",
       "  <tbody>\n",
       "    <tr>\n",
       "      <th>1</th>\n",
       "      <td>kita saja nitizen yang pada penasaran toh kelu...</td>\n",
       "      <td>0</td>\n",
       "    </tr>\n",
       "    <tr>\n",
       "      <th>3</th>\n",
       "      <td>jakarta barusan baca undang ini tetap dibedaka...</td>\n",
       "      <td>0</td>\n",
       "    </tr>\n",
       "    <tr>\n",
       "      <th>4</th>\n",
       "      <td>buat anak melulu kamu nof nkaga mikir apa kasi...</td>\n",
       "      <td>0</td>\n",
       "    </tr>\n",
       "    <tr>\n",
       "      <th>8</th>\n",
       "      <td>mungkin akibat memakai gorden di kepala mengha...</td>\n",
       "      <td>0</td>\n",
       "    </tr>\n",
       "    <tr>\n",
       "      <th>9</th>\n",
       "      <td>e kakak nona yang paling bodoh dan bodoh manok...</td>\n",
       "      <td>0</td>\n",
       "    </tr>\n",
       "  </tbody>\n",
       "</table>\n",
       "</div>"
      ],
      "text/plain": [
       "                                      processed_text  label\n",
       "1  kita saja nitizen yang pada penasaran toh kelu...      0\n",
       "3  jakarta barusan baca undang ini tetap dibedaka...      0\n",
       "4  buat anak melulu kamu nof nkaga mikir apa kasi...      0\n",
       "8  mungkin akibat memakai gorden di kepala mengha...      0\n",
       "9  e kakak nona yang paling bodoh dan bodoh manok...      0"
      ]
     },
     "execution_count": 25,
     "metadata": {
      "tags": []
     },
     "output_type": "execute_result"
    }
   ],
   "source": [
    "netral.head()"
   ]
  },
  {
   "cell_type": "code",
   "execution_count": 0,
   "metadata": {
    "colab": {},
    "colab_type": "code",
    "id": "SoX-_r2YlHmC"
   },
   "outputs": [],
   "source": [
    "netral_1000 = netral.sample(1000)"
   ]
  },
  {
   "cell_type": "code",
   "execution_count": 0,
   "metadata": {
    "colab": {
     "base_uri": "https://localhost:8080/",
     "height": 204
    },
    "colab_type": "code",
    "id": "nuvhk1pmlM_M",
    "outputId": "069273b5-1601-4b8d-df7c-85210a2fd29b"
   },
   "outputs": [
    {
     "data": {
      "text/html": [
       "<div>\n",
       "<style scoped>\n",
       "    .dataframe tbody tr th:only-of-type {\n",
       "        vertical-align: middle;\n",
       "    }\n",
       "\n",
       "    .dataframe tbody tr th {\n",
       "        vertical-align: top;\n",
       "    }\n",
       "\n",
       "    .dataframe thead th {\n",
       "        text-align: right;\n",
       "    }\n",
       "</style>\n",
       "<table border=\"1\" class=\"dataframe\">\n",
       "  <thead>\n",
       "    <tr style=\"text-align: right;\">\n",
       "      <th></th>\n",
       "      <th>processed_text</th>\n",
       "      <th>label</th>\n",
       "    </tr>\n",
       "  </thead>\n",
       "  <tbody>\n",
       "    <tr>\n",
       "      <th>0</th>\n",
       "      <td>pngusiran syiah kok jadi mirip sama di usir ny...</td>\n",
       "      <td>1</td>\n",
       "    </tr>\n",
       "    <tr>\n",
       "      <th>1</th>\n",
       "      <td>alahuakbar demi alah demi rasululah dan para s...</td>\n",
       "      <td>1</td>\n",
       "    </tr>\n",
       "    <tr>\n",
       "      <th>2</th>\n",
       "      <td>nah disinilah letak akar masalahnya jangan ter...</td>\n",
       "      <td>1</td>\n",
       "    </tr>\n",
       "    <tr>\n",
       "      <th>3</th>\n",
       "      <td>gerombolan yang mau ganti asas pancasila denga...</td>\n",
       "      <td>1</td>\n",
       "    </tr>\n",
       "    <tr>\n",
       "      <th>4</th>\n",
       "      <td>alahuakbar demi alah demi rasululah dan para s...</td>\n",
       "      <td>1</td>\n",
       "    </tr>\n",
       "  </tbody>\n",
       "</table>\n",
       "</div>"
      ],
      "text/plain": [
       "                                      processed_text  label\n",
       "0  pngusiran syiah kok jadi mirip sama di usir ny...      1\n",
       "1  alahuakbar demi alah demi rasululah dan para s...      1\n",
       "2  nah disinilah letak akar masalahnya jangan ter...      1\n",
       "3  gerombolan yang mau ganti asas pancasila denga...      1\n",
       "4  alahuakbar demi alah demi rasululah dan para s...      1"
      ]
     },
     "execution_count": 28,
     "metadata": {
      "tags": []
     },
     "output_type": "execute_result"
    }
   ],
   "source": [
    "data = pd.concat([radikalisme, netral_1000], ignore_index=True)\n",
    "data.head()"
   ]
  },
  {
   "cell_type": "code",
   "execution_count": 0,
   "metadata": {
    "colab": {
     "base_uri": "https://localhost:8080/",
     "height": 54
    },
    "colab_type": "code",
    "id": "APO_tZA4lQ2v",
    "outputId": "66fabdfb-152f-4b13-d9cd-f59d638d9113"
   },
   "outputs": [
    {
     "data": {
      "text/plain": [
       "'alahuakbar demi alah demi rasululah dan para sahabat dan para tabin harus ditegakan khilafah yang akan menjamin kehidupan umat islam'"
      ]
     },
     "execution_count": 29,
     "metadata": {
      "tags": []
     },
     "output_type": "execute_result"
    }
   ],
   "source": [
    "data['processed_text'][1]"
   ]
  },
  {
   "cell_type": "code",
   "execution_count": 0,
   "metadata": {
    "colab": {
     "base_uri": "https://localhost:8080/",
     "height": 34
    },
    "colab_type": "code",
    "id": "rcmRzFtdtYtF",
    "outputId": "338809d2-864b-4f7f-8558-9b4b4a186e2e"
   },
   "outputs": [
    {
     "data": {
      "text/plain": [
       "1424"
      ]
     },
     "execution_count": 30,
     "metadata": {
      "tags": []
     },
     "output_type": "execute_result"
    }
   ],
   "source": [
    "len(data)"
   ]
  },
  {
   "cell_type": "code",
   "execution_count": 0,
   "metadata": {
    "colab": {
     "base_uri": "https://localhost:8080/",
     "height": 49
    },
    "colab_type": "code",
    "id": "CHKgS38_Ttvl",
    "outputId": "e1215c5d-ed6d-4217-c50a-980ce9903c84"
   },
   "outputs": [
    {
     "data": {
      "text/html": [
       "<div>\n",
       "<style scoped>\n",
       "    .dataframe tbody tr th:only-of-type {\n",
       "        vertical-align: middle;\n",
       "    }\n",
       "\n",
       "    .dataframe tbody tr th {\n",
       "        vertical-align: top;\n",
       "    }\n",
       "\n",
       "    .dataframe thead th {\n",
       "        text-align: right;\n",
       "    }\n",
       "</style>\n",
       "<table border=\"1\" class=\"dataframe\">\n",
       "  <thead>\n",
       "    <tr style=\"text-align: right;\">\n",
       "      <th></th>\n",
       "      <th>processed_text</th>\n",
       "      <th>label</th>\n",
       "    </tr>\n",
       "  </thead>\n",
       "  <tbody>\n",
       "  </tbody>\n",
       "</table>\n",
       "</div>"
      ],
      "text/plain": [
       "Empty DataFrame\n",
       "Columns: [processed_text, label]\n",
       "Index: []"
      ]
     },
     "execution_count": 31,
     "metadata": {
      "tags": []
     },
     "output_type": "execute_result"
    }
   ],
   "source": [
    "def split_dataset(data, test_size=0.2):\n",
    "    # Split negatif and positive\n",
    "    positive = data[data['label']==1]\n",
    "    negative = data[data['label']==0]\n",
    "    \n",
    "    training_size = (1 - test_size)\n",
    "    train_marker_pos = int(len(positive) * training_size)\n",
    "    train_marker_neg = int(len(negative) * training_size)\n",
    "    \n",
    "    \n",
    "    # for train size\n",
    "    train_pos = positive[:train_marker_pos]\n",
    "    train_neg = negative[:train_marker_neg]\n",
    "    \n",
    "    \n",
    "    # for test size\n",
    "    test_pos = positive[train_marker_pos:]\n",
    "    test_neg = negative[train_marker_neg:]\n",
    "    \n",
    "    \n",
    "    # Oversampling positive sentimen\n",
    "    train_pos = pd.concat([train_pos, \n",
    "                train_pos.sample(abs(len(train_pos)-len(train_neg)), replace=True)], \n",
    "                          ignore_index=True, sort=False)\n",
    "    \n",
    "    \"\"\"\n",
    "    Split the dataset to training_set and test_set\n",
    "    \"\"\"\n",
    "    training_set = pd.concat([train_pos, train_neg], ignore_index=True, sort=False)\n",
    "    test_set = pd.concat([test_pos, test_neg], ignore_index=True, sort=False)\n",
    "    \n",
    "    # Shuffle\n",
    "    training_set = training_set.sample(frac=1)\n",
    "    test_set = test_set.sample(frac=1)\n",
    "\n",
    "    return training_set, test_set\n",
    "\n",
    "train, test = split_dataset(data)\n",
    "train[train['processed_text'].isnull()]"
   ]
  },
  {
   "cell_type": "code",
   "execution_count": 0,
   "metadata": {
    "colab": {},
    "colab_type": "code",
    "id": "IQQAcbuUTyG4"
   },
   "outputs": [],
   "source": [
    "stop_words = []\n",
    "with open('stopwords-id.txt') as f:\n",
    "    for word in f.readlines():\n",
    "        stop_words.append(word.strip('\\n'))"
   ]
  },
  {
   "cell_type": "code",
   "execution_count": 0,
   "metadata": {
    "colab": {
     "base_uri": "https://localhost:8080/",
     "height": 275
    },
    "colab_type": "code",
    "id": "64m02mjlVUsY",
    "outputId": "59621ff7-2e06-4192-e179-8327bf3fba49"
   },
   "outputs": [
    {
     "name": "stderr",
     "output_type": "stream",
     "text": [
      "/usr/local/lib/python3.6/dist-packages/sklearn/feature_extraction/text.py:300: UserWarning: Your stop_words may be inconsistent with your preprocessing. Tokenizing the stop words generated tokens ['baiknya', 'berkali', 'kali', 'kurangnya', 'mata', 'olah', 'sekurang', 'setidak', 'tama', 'tidaknya'] not in stop_words.\n",
      "  'stop_words.' % sorted(inconsistent))\n"
     ]
    },
    {
     "name": "stdout",
     "output_type": "stream",
     "text": [
      "Start training classifier...\n"
     ]
    },
    {
     "name": "stderr",
     "output_type": "stream",
     "text": [
      "/usr/local/lib/python3.6/dist-packages/sklearn/model_selection/_split.py:1978: FutureWarning: The default value of cv will change from 3 to 5 in version 0.22. Specify it explicitly to silence this warning.\n",
      "  warnings.warn(CV_WARNING, FutureWarning)\n"
     ]
    },
    {
     "data": {
      "text/plain": [
       "CalibratedClassifierCV(base_estimator=LinearSVC(C=1.0, class_weight=None,\n",
       "                                                dual=True, fit_intercept=True,\n",
       "                                                intercept_scaling=1,\n",
       "                                                loss='squared_hinge',\n",
       "                                                max_iter=10000,\n",
       "                                                multi_class='ovr', penalty='l2',\n",
       "                                                random_state=None, tol=0.0001,\n",
       "                                                verbose=0),\n",
       "                       cv='warn', method='sigmoid')"
      ]
     },
     "execution_count": 35,
     "metadata": {
      "tags": []
     },
     "output_type": "execute_result"
    }
   ],
   "source": [
    "min_df = 10\n",
    "max_df = 0.8\n",
    "\n",
    "vectorizer = TfidfVectorizer(sublinear_tf=True, ngram_range=(1, 3), max_df=max_df, min_df=min_df, stop_words=stop_words)\n",
    "\n",
    "text = list(train['processed_text'])\n",
    "\n",
    "vectorizer.fit(text)\n",
    "\n",
    "classifier = LinearSVC(C=1.0, max_iter=10000, tol=0.0001)\n",
    "\n",
    "X_train = vectorizer.transform(list(train['processed_text']))\n",
    "y_train = train['label']\n",
    "\n",
    "print(\"Start training classifier...\")\n",
    "classifier = CalibratedClassifierCV(classifier)\n",
    "classifier.fit(X_train, y_train)"
   ]
  },
  {
   "cell_type": "code",
   "execution_count": 0,
   "metadata": {
    "colab": {
     "base_uri": "https://localhost:8080/",
     "height": 255
    },
    "colab_type": "code",
    "id": "pJmOcWKLVg5W",
    "outputId": "1e0a3cb1-a433-49ea-dbeb-0534fc331ad2"
   },
   "outputs": [
    {
     "name": "stdout",
     "output_type": "stream",
     "text": [
      "Classification Report:\n",
      "              precision    recall  f1-score   support\n",
      "\n",
      "           0       0.95      0.95      0.95       200\n",
      "           1       0.89      0.89      0.89        85\n",
      "\n",
      "    accuracy                           0.94       285\n",
      "   macro avg       0.92      0.92      0.92       285\n",
      "weighted avg       0.94      0.94      0.94       285\n",
      "\n",
      "Confusion matrix:\n",
      "[[191   9]\n",
      " [  9  76]]\n",
      "Accuracy: 0.9368421052631579\n"
     ]
    }
   ],
   "source": [
    "X_test = vectorizer.transform(list(test['processed_text']))\n",
    "y_target = list(test['label'])\n",
    "\n",
    "y_pred = classifier.predict(X_test)\n",
    "\n",
    "report = classification_report(y_target, y_pred)\n",
    "print(\"Classification Report:\\n{}\".format(report))\n",
    "\n",
    "confusion_matrix = confusion_matrix(y_target, y_pred)\n",
    "print(\"Confusion matrix:\\n{}\".format(confusion_matrix))\n",
    "\n",
    "accuracy = accuracy_score(y_target, y_pred)\n",
    "print(\"Accuracy: {}\".format(accuracy))"
   ]
  },
  {
   "cell_type": "code",
   "execution_count": 0,
   "metadata": {
    "colab": {},
    "colab_type": "code",
    "id": "LBj_icF7VkhU"
   },
   "outputs": [],
   "source": [
    "model = Pipeline([('vectorizer', vectorizer), ('svc', classifier)])"
   ]
  },
  {
   "cell_type": "code",
   "execution_count": 0,
   "metadata": {
    "colab": {},
    "colab_type": "code",
    "id": "YBC1PiP7Vm-c"
   },
   "outputs": [],
   "source": [
    "pred = model.predict(['bukan hanya spanduk prof video orasi mereka buku mereka dan lainlain itu sudah sngat jelas saya heran sama rkyat yang masih tolol sudah jls ada niat dari hizbut tahrir yang ingin tegakan khilafah ganti negara kesatuan republik indonesia masih berkilah tidak ada lah mau tegakan khilafah saja munafik apanya khilafah'])"
   ]
  },
  {
   "cell_type": "code",
   "execution_count": 0,
   "metadata": {
    "colab": {
     "base_uri": "https://localhost:8080/",
     "height": 34
    },
    "colab_type": "code",
    "id": "JjFvYwmlWN-i",
    "outputId": "eafe4943-3b0b-4c3e-8e76-64d34ad7ae02"
   },
   "outputs": [
    {
     "data": {
      "text/plain": [
       "1"
      ]
     },
     "execution_count": 39,
     "metadata": {
      "tags": []
     },
     "output_type": "execute_result"
    }
   ],
   "source": [
    "pred[0]"
   ]
  },
  {
   "cell_type": "code",
   "execution_count": 0,
   "metadata": {
    "colab": {},
    "colab_type": "code",
    "id": "mS9XeS_1WQfw"
   },
   "outputs": [],
   "source": [
    "with open('model_radikalisme.joblib', \"wb\") as f:\n",
    "    joblib.dump(model, f)"
   ]
  },
  {
   "cell_type": "code",
   "execution_count": 0,
   "metadata": {
    "colab": {},
    "colab_type": "code",
    "id": "96qPd9qWWVrM"
   },
   "outputs": [],
   "source": []
  }
 ],
 "metadata": {
  "accelerator": "GPU",
  "colab": {
   "collapsed_sections": [],
   "name": "Indonesian Toxic Comment Classification.ipynb",
   "provenance": [],
   "toc_visible": true,
   "version": "0.3.2"
  },
  "kernelspec": {
   "display_name": "Python 3",
   "language": "python",
   "name": "python3"
  },
  "language_info": {
   "codemirror_mode": {
    "name": "ipython",
    "version": 3
   },
   "file_extension": ".py",
   "mimetype": "text/x-python",
   "name": "python",
   "nbconvert_exporter": "python",
   "pygments_lexer": "ipython3",
   "version": "3.6.5"
  }
 },
 "nbformat": 4,
 "nbformat_minor": 1
}
